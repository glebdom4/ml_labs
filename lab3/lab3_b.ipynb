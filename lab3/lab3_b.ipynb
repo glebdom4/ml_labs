{
 "cells": [
  {
   "cell_type": "markdown",
   "metadata": {},
   "source": [
    "<h1><center>Лабораторная работа № 3</center></h1>\n",
    "<h3><center>\"Линейная регрессия\"</center></h3>\n",
    "\n",
    "Необходимо решить задачу предсказания стоимости дома в зависимости от его характеристик. Задача решается в рамках платформы онлайн-конкурсов по машинному обучению Kaggle. Ссылка на задание.\n",
    "\n",
    "Рекомендуется перед выполнением задания изучить отличный туториал, предоставляемый на сайте. В нем разбирается задача классификации, что соответствует лабораторной работе №4, но все действия связанные с подготовкой данных полностью актуальны для этой лабораторной работы.\n",
    "\n",
    "**1\\. Провести предподготовку данных**\n",
    "\n",
    "Перед выполнением этого пункта рекомендуется посмотреть лекцию по Pandas.\n",
    "\n",
    "(Обязательно) Необходимо перевести категориальные фичи в числовые, отмасштабировать показатели для лучшей обучаемости модели при необходимости (можно провести эксперименты, как это будет влиять на результаты модели). Построить графики по распределнию площадей домой и распределнию цен. Для реализации этой части использовать библиотеки pandas и matplotlib и seaborn.\n",
    "\n",
    "Необходимо оценить предоставляемые данные, на свое усмотрение предположить несколько возможных зависимостей между признаками и предсказываемыми значениями, проверить гипотезы, построив необходимые графики.\n",
    "\n",
    "По возможности можно определить, какие признаки являются незначимыми или их доля мала, и объединить такие признаки с другими.\n",
    "\n",
    "Создать несколько собственных фич на основе своих эвристик и оценить, влияют ли они на качество модели.\n",
    "\n",
    "Результатом выполнения этого пункта является блок ячеек или скрипт предобработки данных.\n",
    "\n",
    "**2\\. Разделить данные**\n",
    "\n",
    "В этом пункте необходимо поделить данные на обучающую и валидационную выборку. Для этого можно использовать train_test_split. Делить можно в соотношениях 70-90 / 30-10 % соответственно.\n",
    "\n",
    "**3\\. Обучить модель из sklearn**\n",
    "\n",
    "Следующим шагом необходимо обучить модель линейной регрессии. Для этого нужно использовать класс LinearRegression из sklearn.\n",
    "\n",
    "Получить предсказания модели на валидационной части выборки. Оценить результат по метрике Mean Absolute Error (MAE) и по метрике, используемой для оценки результатов этого конкурса на kaggle.\n",
    "\n",
    "**4\\. Реализовать линейную регрессию**\n",
    "\n",
    "На этом шаге необходимо реализовать модель линейной регрессии, используя python самостоятельно. Для этого изначально можно попробовать написать алгоритм для одного обучаемого параметра, а затем написать реализацию общего случая, используя сначала циклы, а затем векторные вычисления из библиотеку numpy. Если есть полное понимание, как нужно реализовать алгоритм для множества обучаемых параметров с использованием векторизации вычислений - можно сразу делать так, главное на защите уметь объяснить.\n",
    "\n",
    "**5\\. Эксперименты с моделью**\n",
    "\n",
    "На этом шаге вы уже имеете базовую модель, которая делает предсказания. Необходимо прогнать модель на тестовой выборке и отправить решение на kaggle. После этого можно улучшать свой результат, экспериментируя с подготовкой данных и параметрами модели. Рекомендуется смотреть т.н. kernel'ы на kaggle - раздел, где участники соревнований выкладывают код со своими идеями и реализациями. Это может быть очень полезно, как для обучения, так и для реализации новых идей.\n",
    "* Студент, получивший максимальное место на kaggle среди участников из своей группы получает автомат за весь курс.\n",
    "\n",
    "Базовый пример реализации приведен в ноутбуке example.\n",
    "Заметки\n",
    "\n",
    "    При прогоне модели из example, где нет нормировок и используются всего 3 фичи, был получен результат в mae ~ 57к и rmsle ~ 0.409.\n",
    "    При использовании почти всех фич из выборки mae сократилось до 24к, а rmsle до 0.29\n",
    "    При замене NaN в фичах можно подставлять наиболее частое значение по фиче из выборки\n",
    "    Использование всех фич без разбора иногда ухудшает результат\n",
    "    При переводе качественных фич в цифровые значения и нормализации непрерывных величин удобно написать небольшую функцию и применить ее для всех фич.\n"
   ]
  },
  {
   "cell_type": "markdown",
   "metadata": {},
   "source": [
    "### Решение:"
   ]
  },
  {
   "cell_type": "markdown",
   "metadata": {},
   "source": [
    "# Импортирование модулей"
   ]
  },
  {
   "cell_type": "code",
   "execution_count": 1,
   "metadata": {},
   "outputs": [],
   "source": [
    "import numpy as np\n",
    "import pandas as pd\n",
    "import matplotlib.pyplot as plt\n",
    "import seaborn as sns\n",
    "import calendar\n",
    "import tqdm\n",
    "\n",
    "from pathlib import Path\n",
    "from matplotlib.ticker import FuncFormatter\n",
    "from matplotlib.pyplot import cm\n",
    "from sklearn.model_selection import train_test_split\n",
    "from sklearn import metrics\n",
    "from sklearn.linear_model import LinearRegression\n",
    "from sklearn import ensemble"
   ]
  },
  {
   "cell_type": "markdown",
   "metadata": {},
   "source": [
    "####  Подключаем встроенное построение графиков при помощи jupyter notebook"
   ]
  },
  {
   "cell_type": "code",
   "execution_count": 2,
   "metadata": {},
   "outputs": [],
   "source": [
    "%matplotlib inline"
   ]
  },
  {
   "cell_type": "markdown",
   "metadata": {},
   "source": [
    "# Константы"
   ]
  },
  {
   "cell_type": "code",
   "execution_count": 3,
   "metadata": {},
   "outputs": [],
   "source": [
    "COMPETITION_FOLDER_PATH = '/home/glebdom4/.kaggle/competitions/house-prices-advanced-regression-techniques'\n",
    "DATASET_TRAIN_FILE_NAME = 'train.csv'\n",
    "DATASET_TEST_FILE_NAME = 'test.csv'\n",
    "SUBMISSION_FILE_NAME = 'house_prices_submission.csv'\n",
    "\n",
    "MATPLOTLIB_PLOT_STYLE = 'ggplot'\n",
    "CUSTOM_FONT_NAME = 'PT Sans'\n",
    "CUSTOM_FONT_SIZE = 12\n",
    "CUSTOME_FIGURE_SIZE = (8, 6)\n",
    "\n",
    "# PD_READ_CSV_NA_VALUES = ['NA',]\n",
    "PD_READ_CSV_INDEX_COL = 0  # 'Id' column\n",
    "PD_DATA_HEAD_SIZE = 5  # default value\n",
    "PD_DATA_TAIL_SIZE = 5  # default value\n",
    "PD_TARGET_VARIABLE_COLUMN_NAME = 'SalePrice'\n",
    "\n",
    "SKLEARN_TEST_SPLIT_TEST_SIZE = 0.3\n",
    "SKLEARN_TEST_SPLIT_RANDOM_STATE = 13\n",
    "SKLEARN_USED_CPUS_COUNT = -1  # all\n",
    "SKLEARN_RANDOM_FOREST_CLASSIFIER_RANDOM_STATE = 13\n",
    "SKLEARN_RANDOM_FOREST_CLASSIFIER_N_ESTIMATORS = 100"
   ]
  },
  {
   "cell_type": "markdown",
   "metadata": {},
   "source": [
    "# Настройка стиля графиков"
   ]
  },
  {
   "cell_type": "code",
   "execution_count": 4,
   "metadata": {},
   "outputs": [],
   "source": [
    "plt.style.use(MATPLOTLIB_PLOT_STYLE)"
   ]
  },
  {
   "cell_type": "markdown",
   "metadata": {},
   "source": [
    "# Загрузка данных"
   ]
  },
  {
   "cell_type": "code",
   "execution_count": 5,
   "metadata": {},
   "outputs": [],
   "source": [
    "data_folder = Path(COMPETITION_FOLDER_PATH)\n",
    "\n",
    "file_to_open = data_folder / DATASET_TRAIN_FILE_NAME\n",
    "df = pd.read_csv(file_to_open, index_col=PD_READ_CSV_INDEX_COL)\n",
    "\n",
    "file_to_open = data_folder / DATASET_TEST_FILE_NAME\n",
    "df_test = pd.read_csv(file_to_open, index_col=PD_READ_CSV_INDEX_COL)"
   ]
  },
  {
   "cell_type": "markdown",
   "metadata": {},
   "source": [
    "# Анализ данных"
   ]
  },
  {
   "cell_type": "code",
   "execution_count": 6,
   "metadata": {},
   "outputs": [
    {
     "data": {
      "text/plain": [
       "(1460, 80)"
      ]
     },
     "execution_count": 6,
     "metadata": {},
     "output_type": "execute_result"
    }
   ],
   "source": [
    "df.shape"
   ]
  },
  {
   "cell_type": "code",
   "execution_count": 7,
   "metadata": {},
   "outputs": [
    {
     "data": {
      "text/html": [
       "<div>\n",
       "<style>\n",
       "    .dataframe thead tr:only-child th {\n",
       "        text-align: right;\n",
       "    }\n",
       "\n",
       "    .dataframe thead th {\n",
       "        text-align: left;\n",
       "    }\n",
       "\n",
       "    .dataframe tbody tr th {\n",
       "        vertical-align: top;\n",
       "    }\n",
       "</style>\n",
       "<table border=\"1\" class=\"dataframe\">\n",
       "  <thead>\n",
       "    <tr style=\"text-align: right;\">\n",
       "      <th></th>\n",
       "      <th>MSSubClass</th>\n",
       "      <th>MSZoning</th>\n",
       "      <th>LotFrontage</th>\n",
       "      <th>LotArea</th>\n",
       "      <th>Street</th>\n",
       "      <th>Alley</th>\n",
       "      <th>LotShape</th>\n",
       "      <th>LandContour</th>\n",
       "      <th>Utilities</th>\n",
       "      <th>LotConfig</th>\n",
       "      <th>...</th>\n",
       "      <th>PoolArea</th>\n",
       "      <th>PoolQC</th>\n",
       "      <th>Fence</th>\n",
       "      <th>MiscFeature</th>\n",
       "      <th>MiscVal</th>\n",
       "      <th>MoSold</th>\n",
       "      <th>YrSold</th>\n",
       "      <th>SaleType</th>\n",
       "      <th>SaleCondition</th>\n",
       "      <th>SalePrice</th>\n",
       "    </tr>\n",
       "    <tr>\n",
       "      <th>Id</th>\n",
       "      <th></th>\n",
       "      <th></th>\n",
       "      <th></th>\n",
       "      <th></th>\n",
       "      <th></th>\n",
       "      <th></th>\n",
       "      <th></th>\n",
       "      <th></th>\n",
       "      <th></th>\n",
       "      <th></th>\n",
       "      <th></th>\n",
       "      <th></th>\n",
       "      <th></th>\n",
       "      <th></th>\n",
       "      <th></th>\n",
       "      <th></th>\n",
       "      <th></th>\n",
       "      <th></th>\n",
       "      <th></th>\n",
       "      <th></th>\n",
       "      <th></th>\n",
       "    </tr>\n",
       "  </thead>\n",
       "  <tbody>\n",
       "    <tr>\n",
       "      <th>1</th>\n",
       "      <td>60</td>\n",
       "      <td>RL</td>\n",
       "      <td>65.0</td>\n",
       "      <td>8450</td>\n",
       "      <td>Pave</td>\n",
       "      <td>NaN</td>\n",
       "      <td>Reg</td>\n",
       "      <td>Lvl</td>\n",
       "      <td>AllPub</td>\n",
       "      <td>Inside</td>\n",
       "      <td>...</td>\n",
       "      <td>0</td>\n",
       "      <td>NaN</td>\n",
       "      <td>NaN</td>\n",
       "      <td>NaN</td>\n",
       "      <td>0</td>\n",
       "      <td>2</td>\n",
       "      <td>2008</td>\n",
       "      <td>WD</td>\n",
       "      <td>Normal</td>\n",
       "      <td>208500</td>\n",
       "    </tr>\n",
       "    <tr>\n",
       "      <th>2</th>\n",
       "      <td>20</td>\n",
       "      <td>RL</td>\n",
       "      <td>80.0</td>\n",
       "      <td>9600</td>\n",
       "      <td>Pave</td>\n",
       "      <td>NaN</td>\n",
       "      <td>Reg</td>\n",
       "      <td>Lvl</td>\n",
       "      <td>AllPub</td>\n",
       "      <td>FR2</td>\n",
       "      <td>...</td>\n",
       "      <td>0</td>\n",
       "      <td>NaN</td>\n",
       "      <td>NaN</td>\n",
       "      <td>NaN</td>\n",
       "      <td>0</td>\n",
       "      <td>5</td>\n",
       "      <td>2007</td>\n",
       "      <td>WD</td>\n",
       "      <td>Normal</td>\n",
       "      <td>181500</td>\n",
       "    </tr>\n",
       "    <tr>\n",
       "      <th>3</th>\n",
       "      <td>60</td>\n",
       "      <td>RL</td>\n",
       "      <td>68.0</td>\n",
       "      <td>11250</td>\n",
       "      <td>Pave</td>\n",
       "      <td>NaN</td>\n",
       "      <td>IR1</td>\n",
       "      <td>Lvl</td>\n",
       "      <td>AllPub</td>\n",
       "      <td>Inside</td>\n",
       "      <td>...</td>\n",
       "      <td>0</td>\n",
       "      <td>NaN</td>\n",
       "      <td>NaN</td>\n",
       "      <td>NaN</td>\n",
       "      <td>0</td>\n",
       "      <td>9</td>\n",
       "      <td>2008</td>\n",
       "      <td>WD</td>\n",
       "      <td>Normal</td>\n",
       "      <td>223500</td>\n",
       "    </tr>\n",
       "    <tr>\n",
       "      <th>4</th>\n",
       "      <td>70</td>\n",
       "      <td>RL</td>\n",
       "      <td>60.0</td>\n",
       "      <td>9550</td>\n",
       "      <td>Pave</td>\n",
       "      <td>NaN</td>\n",
       "      <td>IR1</td>\n",
       "      <td>Lvl</td>\n",
       "      <td>AllPub</td>\n",
       "      <td>Corner</td>\n",
       "      <td>...</td>\n",
       "      <td>0</td>\n",
       "      <td>NaN</td>\n",
       "      <td>NaN</td>\n",
       "      <td>NaN</td>\n",
       "      <td>0</td>\n",
       "      <td>2</td>\n",
       "      <td>2006</td>\n",
       "      <td>WD</td>\n",
       "      <td>Abnorml</td>\n",
       "      <td>140000</td>\n",
       "    </tr>\n",
       "    <tr>\n",
       "      <th>5</th>\n",
       "      <td>60</td>\n",
       "      <td>RL</td>\n",
       "      <td>84.0</td>\n",
       "      <td>14260</td>\n",
       "      <td>Pave</td>\n",
       "      <td>NaN</td>\n",
       "      <td>IR1</td>\n",
       "      <td>Lvl</td>\n",
       "      <td>AllPub</td>\n",
       "      <td>FR2</td>\n",
       "      <td>...</td>\n",
       "      <td>0</td>\n",
       "      <td>NaN</td>\n",
       "      <td>NaN</td>\n",
       "      <td>NaN</td>\n",
       "      <td>0</td>\n",
       "      <td>12</td>\n",
       "      <td>2008</td>\n",
       "      <td>WD</td>\n",
       "      <td>Normal</td>\n",
       "      <td>250000</td>\n",
       "    </tr>\n",
       "  </tbody>\n",
       "</table>\n",
       "<p>5 rows × 80 columns</p>\n",
       "</div>"
      ],
      "text/plain": [
       "    MSSubClass MSZoning  LotFrontage  LotArea Street Alley LotShape  \\\n",
       "Id                                                                    \n",
       "1           60       RL         65.0     8450   Pave   NaN      Reg   \n",
       "2           20       RL         80.0     9600   Pave   NaN      Reg   \n",
       "3           60       RL         68.0    11250   Pave   NaN      IR1   \n",
       "4           70       RL         60.0     9550   Pave   NaN      IR1   \n",
       "5           60       RL         84.0    14260   Pave   NaN      IR1   \n",
       "\n",
       "   LandContour Utilities LotConfig    ...     PoolArea PoolQC Fence  \\\n",
       "Id                                    ...                             \n",
       "1          Lvl    AllPub    Inside    ...            0    NaN   NaN   \n",
       "2          Lvl    AllPub       FR2    ...            0    NaN   NaN   \n",
       "3          Lvl    AllPub    Inside    ...            0    NaN   NaN   \n",
       "4          Lvl    AllPub    Corner    ...            0    NaN   NaN   \n",
       "5          Lvl    AllPub       FR2    ...            0    NaN   NaN   \n",
       "\n",
       "   MiscFeature MiscVal MoSold  YrSold  SaleType  SaleCondition  SalePrice  \n",
       "Id                                                                         \n",
       "1          NaN       0      2    2008        WD         Normal     208500  \n",
       "2          NaN       0      5    2007        WD         Normal     181500  \n",
       "3          NaN       0      9    2008        WD         Normal     223500  \n",
       "4          NaN       0      2    2006        WD        Abnorml     140000  \n",
       "5          NaN       0     12    2008        WD         Normal     250000  \n",
       "\n",
       "[5 rows x 80 columns]"
      ]
     },
     "execution_count": 7,
     "metadata": {},
     "output_type": "execute_result"
    }
   ],
   "source": [
    "df.head(PD_DATA_HEAD_SIZE)"
   ]
  },
  {
   "cell_type": "code",
   "execution_count": 8,
   "metadata": {},
   "outputs": [
    {
     "data": {
      "text/html": [
       "<div>\n",
       "<style>\n",
       "    .dataframe thead tr:only-child th {\n",
       "        text-align: right;\n",
       "    }\n",
       "\n",
       "    .dataframe thead th {\n",
       "        text-align: left;\n",
       "    }\n",
       "\n",
       "    .dataframe tbody tr th {\n",
       "        vertical-align: top;\n",
       "    }\n",
       "</style>\n",
       "<table border=\"1\" class=\"dataframe\">\n",
       "  <thead>\n",
       "    <tr style=\"text-align: right;\">\n",
       "      <th></th>\n",
       "      <th>MSSubClass</th>\n",
       "      <th>MSZoning</th>\n",
       "      <th>LotFrontage</th>\n",
       "      <th>LotArea</th>\n",
       "      <th>Street</th>\n",
       "      <th>Alley</th>\n",
       "      <th>LotShape</th>\n",
       "      <th>LandContour</th>\n",
       "      <th>Utilities</th>\n",
       "      <th>LotConfig</th>\n",
       "      <th>...</th>\n",
       "      <th>PoolArea</th>\n",
       "      <th>PoolQC</th>\n",
       "      <th>Fence</th>\n",
       "      <th>MiscFeature</th>\n",
       "      <th>MiscVal</th>\n",
       "      <th>MoSold</th>\n",
       "      <th>YrSold</th>\n",
       "      <th>SaleType</th>\n",
       "      <th>SaleCondition</th>\n",
       "      <th>SalePrice</th>\n",
       "    </tr>\n",
       "    <tr>\n",
       "      <th>Id</th>\n",
       "      <th></th>\n",
       "      <th></th>\n",
       "      <th></th>\n",
       "      <th></th>\n",
       "      <th></th>\n",
       "      <th></th>\n",
       "      <th></th>\n",
       "      <th></th>\n",
       "      <th></th>\n",
       "      <th></th>\n",
       "      <th></th>\n",
       "      <th></th>\n",
       "      <th></th>\n",
       "      <th></th>\n",
       "      <th></th>\n",
       "      <th></th>\n",
       "      <th></th>\n",
       "      <th></th>\n",
       "      <th></th>\n",
       "      <th></th>\n",
       "      <th></th>\n",
       "    </tr>\n",
       "  </thead>\n",
       "  <tbody>\n",
       "    <tr>\n",
       "      <th>1456</th>\n",
       "      <td>60</td>\n",
       "      <td>RL</td>\n",
       "      <td>62.0</td>\n",
       "      <td>7917</td>\n",
       "      <td>Pave</td>\n",
       "      <td>NaN</td>\n",
       "      <td>Reg</td>\n",
       "      <td>Lvl</td>\n",
       "      <td>AllPub</td>\n",
       "      <td>Inside</td>\n",
       "      <td>...</td>\n",
       "      <td>0</td>\n",
       "      <td>NaN</td>\n",
       "      <td>NaN</td>\n",
       "      <td>NaN</td>\n",
       "      <td>0</td>\n",
       "      <td>8</td>\n",
       "      <td>2007</td>\n",
       "      <td>WD</td>\n",
       "      <td>Normal</td>\n",
       "      <td>175000</td>\n",
       "    </tr>\n",
       "    <tr>\n",
       "      <th>1457</th>\n",
       "      <td>20</td>\n",
       "      <td>RL</td>\n",
       "      <td>85.0</td>\n",
       "      <td>13175</td>\n",
       "      <td>Pave</td>\n",
       "      <td>NaN</td>\n",
       "      <td>Reg</td>\n",
       "      <td>Lvl</td>\n",
       "      <td>AllPub</td>\n",
       "      <td>Inside</td>\n",
       "      <td>...</td>\n",
       "      <td>0</td>\n",
       "      <td>NaN</td>\n",
       "      <td>MnPrv</td>\n",
       "      <td>NaN</td>\n",
       "      <td>0</td>\n",
       "      <td>2</td>\n",
       "      <td>2010</td>\n",
       "      <td>WD</td>\n",
       "      <td>Normal</td>\n",
       "      <td>210000</td>\n",
       "    </tr>\n",
       "    <tr>\n",
       "      <th>1458</th>\n",
       "      <td>70</td>\n",
       "      <td>RL</td>\n",
       "      <td>66.0</td>\n",
       "      <td>9042</td>\n",
       "      <td>Pave</td>\n",
       "      <td>NaN</td>\n",
       "      <td>Reg</td>\n",
       "      <td>Lvl</td>\n",
       "      <td>AllPub</td>\n",
       "      <td>Inside</td>\n",
       "      <td>...</td>\n",
       "      <td>0</td>\n",
       "      <td>NaN</td>\n",
       "      <td>GdPrv</td>\n",
       "      <td>Shed</td>\n",
       "      <td>2500</td>\n",
       "      <td>5</td>\n",
       "      <td>2010</td>\n",
       "      <td>WD</td>\n",
       "      <td>Normal</td>\n",
       "      <td>266500</td>\n",
       "    </tr>\n",
       "    <tr>\n",
       "      <th>1459</th>\n",
       "      <td>20</td>\n",
       "      <td>RL</td>\n",
       "      <td>68.0</td>\n",
       "      <td>9717</td>\n",
       "      <td>Pave</td>\n",
       "      <td>NaN</td>\n",
       "      <td>Reg</td>\n",
       "      <td>Lvl</td>\n",
       "      <td>AllPub</td>\n",
       "      <td>Inside</td>\n",
       "      <td>...</td>\n",
       "      <td>0</td>\n",
       "      <td>NaN</td>\n",
       "      <td>NaN</td>\n",
       "      <td>NaN</td>\n",
       "      <td>0</td>\n",
       "      <td>4</td>\n",
       "      <td>2010</td>\n",
       "      <td>WD</td>\n",
       "      <td>Normal</td>\n",
       "      <td>142125</td>\n",
       "    </tr>\n",
       "    <tr>\n",
       "      <th>1460</th>\n",
       "      <td>20</td>\n",
       "      <td>RL</td>\n",
       "      <td>75.0</td>\n",
       "      <td>9937</td>\n",
       "      <td>Pave</td>\n",
       "      <td>NaN</td>\n",
       "      <td>Reg</td>\n",
       "      <td>Lvl</td>\n",
       "      <td>AllPub</td>\n",
       "      <td>Inside</td>\n",
       "      <td>...</td>\n",
       "      <td>0</td>\n",
       "      <td>NaN</td>\n",
       "      <td>NaN</td>\n",
       "      <td>NaN</td>\n",
       "      <td>0</td>\n",
       "      <td>6</td>\n",
       "      <td>2008</td>\n",
       "      <td>WD</td>\n",
       "      <td>Normal</td>\n",
       "      <td>147500</td>\n",
       "    </tr>\n",
       "  </tbody>\n",
       "</table>\n",
       "<p>5 rows × 80 columns</p>\n",
       "</div>"
      ],
      "text/plain": [
       "      MSSubClass MSZoning  LotFrontage  LotArea Street Alley LotShape  \\\n",
       "Id                                                                      \n",
       "1456          60       RL         62.0     7917   Pave   NaN      Reg   \n",
       "1457          20       RL         85.0    13175   Pave   NaN      Reg   \n",
       "1458          70       RL         66.0     9042   Pave   NaN      Reg   \n",
       "1459          20       RL         68.0     9717   Pave   NaN      Reg   \n",
       "1460          20       RL         75.0     9937   Pave   NaN      Reg   \n",
       "\n",
       "     LandContour Utilities LotConfig    ...     PoolArea PoolQC  Fence  \\\n",
       "Id                                      ...                              \n",
       "1456         Lvl    AllPub    Inside    ...            0    NaN    NaN   \n",
       "1457         Lvl    AllPub    Inside    ...            0    NaN  MnPrv   \n",
       "1458         Lvl    AllPub    Inside    ...            0    NaN  GdPrv   \n",
       "1459         Lvl    AllPub    Inside    ...            0    NaN    NaN   \n",
       "1460         Lvl    AllPub    Inside    ...            0    NaN    NaN   \n",
       "\n",
       "     MiscFeature MiscVal MoSold  YrSold  SaleType  SaleCondition  SalePrice  \n",
       "Id                                                                           \n",
       "1456         NaN       0      8    2007        WD         Normal     175000  \n",
       "1457         NaN       0      2    2010        WD         Normal     210000  \n",
       "1458        Shed    2500      5    2010        WD         Normal     266500  \n",
       "1459         NaN       0      4    2010        WD         Normal     142125  \n",
       "1460         NaN       0      6    2008        WD         Normal     147500  \n",
       "\n",
       "[5 rows x 80 columns]"
      ]
     },
     "execution_count": 8,
     "metadata": {},
     "output_type": "execute_result"
    }
   ],
   "source": [
    "df.tail(PD_DATA_TAIL_SIZE)"
   ]
  },
  {
   "cell_type": "code",
   "execution_count": 9,
   "metadata": {},
   "outputs": [
    {
     "data": {
      "text/html": [
       "<div>\n",
       "<style>\n",
       "    .dataframe thead tr:only-child th {\n",
       "        text-align: right;\n",
       "    }\n",
       "\n",
       "    .dataframe thead th {\n",
       "        text-align: left;\n",
       "    }\n",
       "\n",
       "    .dataframe tbody tr th {\n",
       "        vertical-align: top;\n",
       "    }\n",
       "</style>\n",
       "<table border=\"1\" class=\"dataframe\">\n",
       "  <thead>\n",
       "    <tr style=\"text-align: right;\">\n",
       "      <th></th>\n",
       "      <th>MSSubClass</th>\n",
       "      <th>LotFrontage</th>\n",
       "      <th>LotArea</th>\n",
       "      <th>OverallQual</th>\n",
       "      <th>OverallCond</th>\n",
       "      <th>YearBuilt</th>\n",
       "      <th>YearRemodAdd</th>\n",
       "      <th>MasVnrArea</th>\n",
       "      <th>BsmtFinSF1</th>\n",
       "      <th>BsmtFinSF2</th>\n",
       "      <th>...</th>\n",
       "      <th>WoodDeckSF</th>\n",
       "      <th>OpenPorchSF</th>\n",
       "      <th>EnclosedPorch</th>\n",
       "      <th>3SsnPorch</th>\n",
       "      <th>ScreenPorch</th>\n",
       "      <th>PoolArea</th>\n",
       "      <th>MiscVal</th>\n",
       "      <th>MoSold</th>\n",
       "      <th>YrSold</th>\n",
       "      <th>SalePrice</th>\n",
       "    </tr>\n",
       "  </thead>\n",
       "  <tbody>\n",
       "    <tr>\n",
       "      <th>count</th>\n",
       "      <td>1460.000000</td>\n",
       "      <td>1201.000000</td>\n",
       "      <td>1460.000000</td>\n",
       "      <td>1460.000000</td>\n",
       "      <td>1460.000000</td>\n",
       "      <td>1460.000000</td>\n",
       "      <td>1460.000000</td>\n",
       "      <td>1452.000000</td>\n",
       "      <td>1460.000000</td>\n",
       "      <td>1460.000000</td>\n",
       "      <td>...</td>\n",
       "      <td>1460.000000</td>\n",
       "      <td>1460.000000</td>\n",
       "      <td>1460.000000</td>\n",
       "      <td>1460.000000</td>\n",
       "      <td>1460.000000</td>\n",
       "      <td>1460.000000</td>\n",
       "      <td>1460.000000</td>\n",
       "      <td>1460.000000</td>\n",
       "      <td>1460.000000</td>\n",
       "      <td>1460.000000</td>\n",
       "    </tr>\n",
       "    <tr>\n",
       "      <th>mean</th>\n",
       "      <td>56.897260</td>\n",
       "      <td>70.049958</td>\n",
       "      <td>10516.828082</td>\n",
       "      <td>6.099315</td>\n",
       "      <td>5.575342</td>\n",
       "      <td>1971.267808</td>\n",
       "      <td>1984.865753</td>\n",
       "      <td>103.685262</td>\n",
       "      <td>443.639726</td>\n",
       "      <td>46.549315</td>\n",
       "      <td>...</td>\n",
       "      <td>94.244521</td>\n",
       "      <td>46.660274</td>\n",
       "      <td>21.954110</td>\n",
       "      <td>3.409589</td>\n",
       "      <td>15.060959</td>\n",
       "      <td>2.758904</td>\n",
       "      <td>43.489041</td>\n",
       "      <td>6.321918</td>\n",
       "      <td>2007.815753</td>\n",
       "      <td>180921.195890</td>\n",
       "    </tr>\n",
       "    <tr>\n",
       "      <th>std</th>\n",
       "      <td>42.300571</td>\n",
       "      <td>24.284752</td>\n",
       "      <td>9981.264932</td>\n",
       "      <td>1.382997</td>\n",
       "      <td>1.112799</td>\n",
       "      <td>30.202904</td>\n",
       "      <td>20.645407</td>\n",
       "      <td>181.066207</td>\n",
       "      <td>456.098091</td>\n",
       "      <td>161.319273</td>\n",
       "      <td>...</td>\n",
       "      <td>125.338794</td>\n",
       "      <td>66.256028</td>\n",
       "      <td>61.119149</td>\n",
       "      <td>29.317331</td>\n",
       "      <td>55.757415</td>\n",
       "      <td>40.177307</td>\n",
       "      <td>496.123024</td>\n",
       "      <td>2.703626</td>\n",
       "      <td>1.328095</td>\n",
       "      <td>79442.502883</td>\n",
       "    </tr>\n",
       "    <tr>\n",
       "      <th>min</th>\n",
       "      <td>20.000000</td>\n",
       "      <td>21.000000</td>\n",
       "      <td>1300.000000</td>\n",
       "      <td>1.000000</td>\n",
       "      <td>1.000000</td>\n",
       "      <td>1872.000000</td>\n",
       "      <td>1950.000000</td>\n",
       "      <td>0.000000</td>\n",
       "      <td>0.000000</td>\n",
       "      <td>0.000000</td>\n",
       "      <td>...</td>\n",
       "      <td>0.000000</td>\n",
       "      <td>0.000000</td>\n",
       "      <td>0.000000</td>\n",
       "      <td>0.000000</td>\n",
       "      <td>0.000000</td>\n",
       "      <td>0.000000</td>\n",
       "      <td>0.000000</td>\n",
       "      <td>1.000000</td>\n",
       "      <td>2006.000000</td>\n",
       "      <td>34900.000000</td>\n",
       "    </tr>\n",
       "    <tr>\n",
       "      <th>25%</th>\n",
       "      <td>20.000000</td>\n",
       "      <td>59.000000</td>\n",
       "      <td>7553.500000</td>\n",
       "      <td>5.000000</td>\n",
       "      <td>5.000000</td>\n",
       "      <td>1954.000000</td>\n",
       "      <td>1967.000000</td>\n",
       "      <td>0.000000</td>\n",
       "      <td>0.000000</td>\n",
       "      <td>0.000000</td>\n",
       "      <td>...</td>\n",
       "      <td>0.000000</td>\n",
       "      <td>0.000000</td>\n",
       "      <td>0.000000</td>\n",
       "      <td>0.000000</td>\n",
       "      <td>0.000000</td>\n",
       "      <td>0.000000</td>\n",
       "      <td>0.000000</td>\n",
       "      <td>5.000000</td>\n",
       "      <td>2007.000000</td>\n",
       "      <td>129975.000000</td>\n",
       "    </tr>\n",
       "    <tr>\n",
       "      <th>50%</th>\n",
       "      <td>50.000000</td>\n",
       "      <td>69.000000</td>\n",
       "      <td>9478.500000</td>\n",
       "      <td>6.000000</td>\n",
       "      <td>5.000000</td>\n",
       "      <td>1973.000000</td>\n",
       "      <td>1994.000000</td>\n",
       "      <td>0.000000</td>\n",
       "      <td>383.500000</td>\n",
       "      <td>0.000000</td>\n",
       "      <td>...</td>\n",
       "      <td>0.000000</td>\n",
       "      <td>25.000000</td>\n",
       "      <td>0.000000</td>\n",
       "      <td>0.000000</td>\n",
       "      <td>0.000000</td>\n",
       "      <td>0.000000</td>\n",
       "      <td>0.000000</td>\n",
       "      <td>6.000000</td>\n",
       "      <td>2008.000000</td>\n",
       "      <td>163000.000000</td>\n",
       "    </tr>\n",
       "    <tr>\n",
       "      <th>75%</th>\n",
       "      <td>70.000000</td>\n",
       "      <td>80.000000</td>\n",
       "      <td>11601.500000</td>\n",
       "      <td>7.000000</td>\n",
       "      <td>6.000000</td>\n",
       "      <td>2000.000000</td>\n",
       "      <td>2004.000000</td>\n",
       "      <td>166.000000</td>\n",
       "      <td>712.250000</td>\n",
       "      <td>0.000000</td>\n",
       "      <td>...</td>\n",
       "      <td>168.000000</td>\n",
       "      <td>68.000000</td>\n",
       "      <td>0.000000</td>\n",
       "      <td>0.000000</td>\n",
       "      <td>0.000000</td>\n",
       "      <td>0.000000</td>\n",
       "      <td>0.000000</td>\n",
       "      <td>8.000000</td>\n",
       "      <td>2009.000000</td>\n",
       "      <td>214000.000000</td>\n",
       "    </tr>\n",
       "    <tr>\n",
       "      <th>max</th>\n",
       "      <td>190.000000</td>\n",
       "      <td>313.000000</td>\n",
       "      <td>215245.000000</td>\n",
       "      <td>10.000000</td>\n",
       "      <td>9.000000</td>\n",
       "      <td>2010.000000</td>\n",
       "      <td>2010.000000</td>\n",
       "      <td>1600.000000</td>\n",
       "      <td>5644.000000</td>\n",
       "      <td>1474.000000</td>\n",
       "      <td>...</td>\n",
       "      <td>857.000000</td>\n",
       "      <td>547.000000</td>\n",
       "      <td>552.000000</td>\n",
       "      <td>508.000000</td>\n",
       "      <td>480.000000</td>\n",
       "      <td>738.000000</td>\n",
       "      <td>15500.000000</td>\n",
       "      <td>12.000000</td>\n",
       "      <td>2010.000000</td>\n",
       "      <td>755000.000000</td>\n",
       "    </tr>\n",
       "  </tbody>\n",
       "</table>\n",
       "<p>8 rows × 37 columns</p>\n",
       "</div>"
      ],
      "text/plain": [
       "        MSSubClass  LotFrontage        LotArea  OverallQual  OverallCond  \\\n",
       "count  1460.000000  1201.000000    1460.000000  1460.000000  1460.000000   \n",
       "mean     56.897260    70.049958   10516.828082     6.099315     5.575342   \n",
       "std      42.300571    24.284752    9981.264932     1.382997     1.112799   \n",
       "min      20.000000    21.000000    1300.000000     1.000000     1.000000   \n",
       "25%      20.000000    59.000000    7553.500000     5.000000     5.000000   \n",
       "50%      50.000000    69.000000    9478.500000     6.000000     5.000000   \n",
       "75%      70.000000    80.000000   11601.500000     7.000000     6.000000   \n",
       "max     190.000000   313.000000  215245.000000    10.000000     9.000000   \n",
       "\n",
       "         YearBuilt  YearRemodAdd   MasVnrArea   BsmtFinSF1   BsmtFinSF2  \\\n",
       "count  1460.000000   1460.000000  1452.000000  1460.000000  1460.000000   \n",
       "mean   1971.267808   1984.865753   103.685262   443.639726    46.549315   \n",
       "std      30.202904     20.645407   181.066207   456.098091   161.319273   \n",
       "min    1872.000000   1950.000000     0.000000     0.000000     0.000000   \n",
       "25%    1954.000000   1967.000000     0.000000     0.000000     0.000000   \n",
       "50%    1973.000000   1994.000000     0.000000   383.500000     0.000000   \n",
       "75%    2000.000000   2004.000000   166.000000   712.250000     0.000000   \n",
       "max    2010.000000   2010.000000  1600.000000  5644.000000  1474.000000   \n",
       "\n",
       "           ...         WoodDeckSF  OpenPorchSF  EnclosedPorch    3SsnPorch  \\\n",
       "count      ...        1460.000000  1460.000000    1460.000000  1460.000000   \n",
       "mean       ...          94.244521    46.660274      21.954110     3.409589   \n",
       "std        ...         125.338794    66.256028      61.119149    29.317331   \n",
       "min        ...           0.000000     0.000000       0.000000     0.000000   \n",
       "25%        ...           0.000000     0.000000       0.000000     0.000000   \n",
       "50%        ...           0.000000    25.000000       0.000000     0.000000   \n",
       "75%        ...         168.000000    68.000000       0.000000     0.000000   \n",
       "max        ...         857.000000   547.000000     552.000000   508.000000   \n",
       "\n",
       "       ScreenPorch     PoolArea       MiscVal       MoSold       YrSold  \\\n",
       "count  1460.000000  1460.000000   1460.000000  1460.000000  1460.000000   \n",
       "mean     15.060959     2.758904     43.489041     6.321918  2007.815753   \n",
       "std      55.757415    40.177307    496.123024     2.703626     1.328095   \n",
       "min       0.000000     0.000000      0.000000     1.000000  2006.000000   \n",
       "25%       0.000000     0.000000      0.000000     5.000000  2007.000000   \n",
       "50%       0.000000     0.000000      0.000000     6.000000  2008.000000   \n",
       "75%       0.000000     0.000000      0.000000     8.000000  2009.000000   \n",
       "max     480.000000   738.000000  15500.000000    12.000000  2010.000000   \n",
       "\n",
       "           SalePrice  \n",
       "count    1460.000000  \n",
       "mean   180921.195890  \n",
       "std     79442.502883  \n",
       "min     34900.000000  \n",
       "25%    129975.000000  \n",
       "50%    163000.000000  \n",
       "75%    214000.000000  \n",
       "max    755000.000000  \n",
       "\n",
       "[8 rows x 37 columns]"
      ]
     },
     "execution_count": 9,
     "metadata": {},
     "output_type": "execute_result"
    }
   ],
   "source": [
    "df.describe()"
   ]
  },
  {
   "cell_type": "markdown",
   "metadata": {},
   "source": [
    "### Графики по распределению площадей домов и распределению цен:"
   ]
  },
  {
   "cell_type": "code",
   "execution_count": 10,
   "metadata": {},
   "outputs": [
    {
     "data": {
      "text/html": [
       "<div>\n",
       "<style>\n",
       "    .dataframe thead tr:only-child th {\n",
       "        text-align: right;\n",
       "    }\n",
       "\n",
       "    .dataframe thead th {\n",
       "        text-align: left;\n",
       "    }\n",
       "\n",
       "    .dataframe tbody tr th {\n",
       "        vertical-align: top;\n",
       "    }\n",
       "</style>\n",
       "<table border=\"1\" class=\"dataframe\">\n",
       "  <thead>\n",
       "    <tr style=\"text-align: right;\">\n",
       "      <th></th>\n",
       "      <th>YrSold</th>\n",
       "      <th>MedianPrice</th>\n",
       "    </tr>\n",
       "  </thead>\n",
       "  <tbody>\n",
       "    <tr>\n",
       "      <th>0</th>\n",
       "      <td>2006</td>\n",
       "      <td>163995</td>\n",
       "    </tr>\n",
       "    <tr>\n",
       "      <th>1</th>\n",
       "      <td>2007</td>\n",
       "      <td>167000</td>\n",
       "    </tr>\n",
       "    <tr>\n",
       "      <th>2</th>\n",
       "      <td>2008</td>\n",
       "      <td>164000</td>\n",
       "    </tr>\n",
       "    <tr>\n",
       "      <th>3</th>\n",
       "      <td>2009</td>\n",
       "      <td>162000</td>\n",
       "    </tr>\n",
       "    <tr>\n",
       "      <th>4</th>\n",
       "      <td>2010</td>\n",
       "      <td>155000</td>\n",
       "    </tr>\n",
       "  </tbody>\n",
       "</table>\n",
       "</div>"
      ],
      "text/plain": [
       "   YrSold  MedianPrice\n",
       "0    2006       163995\n",
       "1    2007       167000\n",
       "2    2008       164000\n",
       "3    2009       162000\n",
       "4    2010       155000"
      ]
     },
     "execution_count": 10,
     "metadata": {},
     "output_type": "execute_result"
    }
   ],
   "source": [
    "mp = pd.DataFrame({'MedianPrice': df.groupby('YrSold')['SalePrice'].median()}).reset_index()\n",
    "mp"
   ]
  },
  {
   "cell_type": "code",
   "execution_count": 11,
   "metadata": {},
   "outputs": [],
   "source": [
    "def thousands(x, pos):\n",
    "    \"\"\"The two args are the value and tick position\"\"\"\n",
    "    return '%1.0fk' % (x * 1e-3)\n",
    "\n",
    "formatter = FuncFormatter(thousands)"
   ]
  },
  {
   "cell_type": "code",
   "execution_count": 12,
   "metadata": {},
   "outputs": [
    {
     "data": {
      "image/png": "[encoded data removed]",
      "text/plain": [
       "<matplotlib.figure.Figure at 0x7faf4d3f54e0>"
      ]
     },
     "metadata": {},
     "output_type": "display_data"
    }
   ],
   "source": [
    "years = mp['YrSold'].tolist()\n",
    "x_pos = np.arange(len(years))\n",
    "\n",
    "median_prices = mp['MedianPrice'].tolist()\n",
    "\n",
    "plt.bar(left=x_pos, height=median_prices, width=0.3, color='orange')\n",
    "plt.xticks(x_pos, years, rotation=80, fontname=CUSTOM_FONT_NAME, fontsize=CUSTOM_FONT_SIZE)\n",
    "plt.xlabel('Year of sale')\n",
    "plt.ylabel('Median price', labelpad=15)\n",
    "plt.title('Distribution of prices')\n",
    "\n",
    "axis = plt.gca()\n",
    "axis.yaxis.set_major_formatter(formatter)\n",
    "\n",
    "plt.rcParams['figure.figsize'] = CUSTOME_FIGURE_SIZE"
   ]
  },
  {
   "cell_type": "code",
   "execution_count": 13,
   "metadata": {},
   "outputs": [
    {
     "data": {
      "text/html": [
       "<div>\n",
       "<style>\n",
       "    .dataframe thead tr:only-child th {\n",
       "        text-align: right;\n",
       "    }\n",
       "\n",
       "    .dataframe thead th {\n",
       "        text-align: left;\n",
       "    }\n",
       "\n",
       "    .dataframe tbody tr th {\n",
       "        vertical-align: top;\n",
       "    }\n",
       "</style>\n",
       "<table border=\"1\" class=\"dataframe\">\n",
       "  <thead>\n",
       "    <tr style=\"text-align: right;\">\n",
       "      <th></th>\n",
       "      <th>MoSold</th>\n",
       "      <th>MedianPrice</th>\n",
       "    </tr>\n",
       "  </thead>\n",
       "  <tbody>\n",
       "    <tr>\n",
       "      <th>0</th>\n",
       "      <td>1</td>\n",
       "      <td>151650</td>\n",
       "    </tr>\n",
       "    <tr>\n",
       "      <th>1</th>\n",
       "      <td>2</td>\n",
       "      <td>173250</td>\n",
       "    </tr>\n",
       "    <tr>\n",
       "      <th>2</th>\n",
       "      <td>3</td>\n",
       "      <td>165250</td>\n",
       "    </tr>\n",
       "    <tr>\n",
       "      <th>3</th>\n",
       "      <td>4</td>\n",
       "      <td>147000</td>\n",
       "    </tr>\n",
       "    <tr>\n",
       "      <th>4</th>\n",
       "      <td>5</td>\n",
       "      <td>154000</td>\n",
       "    </tr>\n",
       "    <tr>\n",
       "      <th>5</th>\n",
       "      <td>6</td>\n",
       "      <td>163000</td>\n",
       "    </tr>\n",
       "    <tr>\n",
       "      <th>6</th>\n",
       "      <td>7</td>\n",
       "      <td>165195</td>\n",
       "    </tr>\n",
       "    <tr>\n",
       "      <th>7</th>\n",
       "      <td>8</td>\n",
       "      <td>174450</td>\n",
       "    </tr>\n",
       "    <tr>\n",
       "      <th>8</th>\n",
       "      <td>9</td>\n",
       "      <td>185900</td>\n",
       "    </tr>\n",
       "    <tr>\n",
       "      <th>9</th>\n",
       "      <td>10</td>\n",
       "      <td>159000</td>\n",
       "    </tr>\n",
       "    <tr>\n",
       "      <th>10</th>\n",
       "      <td>11</td>\n",
       "      <td>173000</td>\n",
       "    </tr>\n",
       "    <tr>\n",
       "      <th>11</th>\n",
       "      <td>12</td>\n",
       "      <td>178000</td>\n",
       "    </tr>\n",
       "  </tbody>\n",
       "</table>\n",
       "</div>"
      ],
      "text/plain": [
       "    MoSold  MedianPrice\n",
       "0        1       151650\n",
       "1        2       173250\n",
       "2        3       165250\n",
       "3        4       147000\n",
       "4        5       154000\n",
       "5        6       163000\n",
       "6        7       165195\n",
       "7        8       174450\n",
       "8        9       185900\n",
       "9       10       159000\n",
       "10      11       173000\n",
       "11      12       178000"
      ]
     },
     "execution_count": 13,
     "metadata": {},
     "output_type": "execute_result"
    }
   ],
   "source": [
    "mp = pd.DataFrame({'MedianPrice': df.groupby('MoSold')['SalePrice'].median()}).reset_index()\n",
    "mp"
   ]
  },
  {
   "cell_type": "code",
   "execution_count": 14,
   "metadata": {},
   "outputs": [
    {
     "data": {
      "text/html": [
       "<div>\n",
       "<style>\n",
       "    .dataframe thead tr:only-child th {\n",
       "        text-align: right;\n",
       "    }\n",
       "\n",
       "    .dataframe thead th {\n",
       "        text-align: left;\n",
       "    }\n",
       "\n",
       "    .dataframe tbody tr th {\n",
       "        vertical-align: top;\n",
       "    }\n",
       "</style>\n",
       "<table border=\"1\" class=\"dataframe\">\n",
       "  <thead>\n",
       "    <tr style=\"text-align: right;\">\n",
       "      <th></th>\n",
       "      <th>MoSold</th>\n",
       "      <th>MedianArea</th>\n",
       "    </tr>\n",
       "  </thead>\n",
       "  <tbody>\n",
       "    <tr>\n",
       "      <th>0</th>\n",
       "      <td>1</td>\n",
       "      <td>1402.5</td>\n",
       "    </tr>\n",
       "    <tr>\n",
       "      <th>1</th>\n",
       "      <td>2</td>\n",
       "      <td>1487.0</td>\n",
       "    </tr>\n",
       "    <tr>\n",
       "      <th>2</th>\n",
       "      <td>3</td>\n",
       "      <td>1409.0</td>\n",
       "    </tr>\n",
       "    <tr>\n",
       "      <th>3</th>\n",
       "      <td>4</td>\n",
       "      <td>1386.0</td>\n",
       "    </tr>\n",
       "    <tr>\n",
       "      <th>4</th>\n",
       "      <td>5</td>\n",
       "      <td>1368.5</td>\n",
       "    </tr>\n",
       "    <tr>\n",
       "      <th>5</th>\n",
       "      <td>6</td>\n",
       "      <td>1478.0</td>\n",
       "    </tr>\n",
       "    <tr>\n",
       "      <th>6</th>\n",
       "      <td>7</td>\n",
       "      <td>1480.5</td>\n",
       "    </tr>\n",
       "    <tr>\n",
       "      <th>7</th>\n",
       "      <td>8</td>\n",
       "      <td>1504.0</td>\n",
       "    </tr>\n",
       "    <tr>\n",
       "      <th>8</th>\n",
       "      <td>9</td>\n",
       "      <td>1582.0</td>\n",
       "    </tr>\n",
       "    <tr>\n",
       "      <th>9</th>\n",
       "      <td>10</td>\n",
       "      <td>1414.0</td>\n",
       "    </tr>\n",
       "    <tr>\n",
       "      <th>10</th>\n",
       "      <td>11</td>\n",
       "      <td>1656.0</td>\n",
       "    </tr>\n",
       "    <tr>\n",
       "      <th>11</th>\n",
       "      <td>12</td>\n",
       "      <td>1478.0</td>\n",
       "    </tr>\n",
       "  </tbody>\n",
       "</table>\n",
       "</div>"
      ],
      "text/plain": [
       "    MoSold  MedianArea\n",
       "0        1      1402.5\n",
       "1        2      1487.0\n",
       "2        3      1409.0\n",
       "3        4      1386.0\n",
       "4        5      1368.5\n",
       "5        6      1478.0\n",
       "6        7      1480.5\n",
       "7        8      1504.0\n",
       "8        9      1582.0\n",
       "9       10      1414.0\n",
       "10      11      1656.0\n",
       "11      12      1478.0"
      ]
     },
     "execution_count": 14,
     "metadata": {},
     "output_type": "execute_result"
    }
   ],
   "source": [
    "ma = pd.DataFrame({'MedianArea': df.groupby('MoSold')['GrLivArea'].median()}).reset_index()\n",
    "ma"
   ]
  },
  {
   "cell_type": "code",
   "execution_count": 15,
   "metadata": {},
   "outputs": [
    {
     "data": {
      "text/html": [
       "<div>\n",
       "<style>\n",
       "    .dataframe thead tr:only-child th {\n",
       "        text-align: right;\n",
       "    }\n",
       "\n",
       "    .dataframe thead th {\n",
       "        text-align: left;\n",
       "    }\n",
       "\n",
       "    .dataframe tbody tr th {\n",
       "        vertical-align: top;\n",
       "    }\n",
       "</style>\n",
       "<table border=\"1\" class=\"dataframe\">\n",
       "  <thead>\n",
       "    <tr style=\"text-align: right;\">\n",
       "      <th></th>\n",
       "      <th>MoSold</th>\n",
       "      <th>MedianArea</th>\n",
       "      <th>MedianPrice</th>\n",
       "    </tr>\n",
       "  </thead>\n",
       "  <tbody>\n",
       "    <tr>\n",
       "      <th>0</th>\n",
       "      <td>January</td>\n",
       "      <td>1402.5</td>\n",
       "      <td>151650</td>\n",
       "    </tr>\n",
       "    <tr>\n",
       "      <th>1</th>\n",
       "      <td>February</td>\n",
       "      <td>1487.0</td>\n",
       "      <td>173250</td>\n",
       "    </tr>\n",
       "    <tr>\n",
       "      <th>2</th>\n",
       "      <td>March</td>\n",
       "      <td>1409.0</td>\n",
       "      <td>165250</td>\n",
       "    </tr>\n",
       "    <tr>\n",
       "      <th>3</th>\n",
       "      <td>April</td>\n",
       "      <td>1386.0</td>\n",
       "      <td>147000</td>\n",
       "    </tr>\n",
       "    <tr>\n",
       "      <th>4</th>\n",
       "      <td>May</td>\n",
       "      <td>1368.5</td>\n",
       "      <td>154000</td>\n",
       "    </tr>\n",
       "    <tr>\n",
       "      <th>5</th>\n",
       "      <td>June</td>\n",
       "      <td>1478.0</td>\n",
       "      <td>163000</td>\n",
       "    </tr>\n",
       "    <tr>\n",
       "      <th>6</th>\n",
       "      <td>July</td>\n",
       "      <td>1480.5</td>\n",
       "      <td>165195</td>\n",
       "    </tr>\n",
       "    <tr>\n",
       "      <th>7</th>\n",
       "      <td>August</td>\n",
       "      <td>1504.0</td>\n",
       "      <td>174450</td>\n",
       "    </tr>\n",
       "    <tr>\n",
       "      <th>8</th>\n",
       "      <td>September</td>\n",
       "      <td>1582.0</td>\n",
       "      <td>185900</td>\n",
       "    </tr>\n",
       "    <tr>\n",
       "      <th>9</th>\n",
       "      <td>October</td>\n",
       "      <td>1414.0</td>\n",
       "      <td>159000</td>\n",
       "    </tr>\n",
       "    <tr>\n",
       "      <th>10</th>\n",
       "      <td>November</td>\n",
       "      <td>1656.0</td>\n",
       "      <td>173000</td>\n",
       "    </tr>\n",
       "    <tr>\n",
       "      <th>11</th>\n",
       "      <td>December</td>\n",
       "      <td>1478.0</td>\n",
       "      <td>178000</td>\n",
       "    </tr>\n",
       "  </tbody>\n",
       "</table>\n",
       "</div>"
      ],
      "text/plain": [
       "       MoSold  MedianArea  MedianPrice\n",
       "0     January      1402.5       151650\n",
       "1    February      1487.0       173250\n",
       "2       March      1409.0       165250\n",
       "3       April      1386.0       147000\n",
       "4         May      1368.5       154000\n",
       "5        June      1478.0       163000\n",
       "6        July      1480.5       165195\n",
       "7      August      1504.0       174450\n",
       "8   September      1582.0       185900\n",
       "9     October      1414.0       159000\n",
       "10   November      1656.0       173000\n",
       "11   December      1478.0       178000"
      ]
     },
     "execution_count": 15,
     "metadata": {},
     "output_type": "execute_result"
    }
   ],
   "source": [
    "ma = pd.merge(ma, mp, on='MoSold')\n",
    "ma['MoSold'] = ma['MoSold'].apply(func=lambda x : calendar.month_name[x])\n",
    "ma"
   ]
  },
  {
   "cell_type": "code",
   "execution_count": 16,
   "metadata": {},
   "outputs": [
    {
     "data": {
      "image/png": "[encoded data removed]",
      "text/plain": [
       "<matplotlib.figure.Figure at 0x7faf49b47b38>"
      ]
     },
     "metadata": {},
     "output_type": "display_data"
    }
   ],
   "source": [
    "months = ma['MoSold'].tolist()\n",
    "x_pos = np.arange(len(months))\n",
    "\n",
    "median_areas = ma['MedianArea'].tolist()\n",
    "median_prices = ma['MedianPrice'].tolist()\n",
    "\n",
    "colors = cm.rainbow(np.array(median_prices) / max(median_prices))\n",
    "\n",
    "plt.bar(left=x_pos, height=median_areas, width=0.6, color=colors)\n",
    "plt.xticks(x_pos, months, rotation=80, fontname=CUSTOM_FONT_NAME, fontsize=CUSTOM_FONT_SIZE)\n",
    "plt.xlabel('Month of sale')\n",
    "plt.ylabel('Median area', labelpad=15)\n",
    "plt.title('Distribution of areas')\n",
    "plt.legend(['Median price'])\n",
    "\n",
    "plt.rcParams['figure.figsize'] = CUSTOME_FIGURE_SIZE"
   ]
  },
  {
   "cell_type": "markdown",
   "metadata": {},
   "source": [
    "# Подготовка данных"
   ]
  },
  {
   "cell_type": "code",
   "execution_count": 17,
   "metadata": {},
   "outputs": [
    {
     "data": {
      "image/png": "[encoded data removed]",
      "text/plain": [
       "<matplotlib.figure.Figure at 0x7faf4d46a320>"
      ]
     },
     "metadata": {},
     "output_type": "display_data"
    }
   ],
   "source": [
    "ax = sns.distplot(df[PD_TARGET_VARIABLE_COLUMN_NAME])"
   ]
  },
  {
   "cell_type": "code",
   "execution_count": 18,
   "metadata": {},
   "outputs": [
    {
     "data": {
      "text/plain": [
       "<matplotlib.axes._subplots.AxesSubplot at 0x7faf498f6cc0>"
      ]
     },
     "execution_count": 18,
     "metadata": {},
     "output_type": "execute_result"
    },
    {
     "data": {
      "image/png": "[encoded data removed]",
      "text/plain": [
       "<matplotlib.figure.Figure at 0x7faf499352b0>"
      ]
     },
     "metadata": {},
     "output_type": "display_data"
    }
   ],
   "source": [
    "df[PD_TARGET_VARIABLE_COLUMN_NAME].plot()"
   ]
  },
  {
   "cell_type": "code",
   "execution_count": 19,
   "metadata": {},
   "outputs": [],
   "source": [
    "df[PD_TARGET_VARIABLE_COLUMN_NAME] = df[PD_TARGET_VARIABLE_COLUMN_NAME].apply(np.log)"
   ]
  },
  {
   "cell_type": "code",
   "execution_count": 20,
   "metadata": {},
   "outputs": [
    {
     "data": {
      "image/png": "[encoded data removed]",
      "text/plain": [
       "<matplotlib.figure.Figure at 0x7faf4d3f50b8>"
      ]
     },
     "metadata": {},
     "output_type": "display_data"
    }
   ],
   "source": [
    "ax = sns.distplot(df[PD_TARGET_VARIABLE_COLUMN_NAME])"
   ]
  },
  {
   "cell_type": "code",
   "execution_count": 21,
   "metadata": {},
   "outputs": [
    {
     "data": {
      "text/plain": [
       "<matplotlib.axes._subplots.AxesSubplot at 0x7faf49a73390>"
      ]
     },
     "execution_count": 21,
     "metadata": {},
     "output_type": "execute_result"
    },
    {
     "data": {
      "image/png": "[encoded data removed]",
      "text/plain": [
       "<matplotlib.figure.Figure at 0x7faf49731358>"
      ]
     },
     "metadata": {},
     "output_type": "display_data"
    }
   ],
   "source": [
    "df[PD_TARGET_VARIABLE_COLUMN_NAME].plot()"
   ]
  },
  {
   "cell_type": "markdown",
   "metadata": {},
   "source": [
    "### Удалим строки, чьи значения выделенного признака сильно оличаются от значений большинства строк:"
   ]
  },
  {
   "cell_type": "code",
   "execution_count": 22,
   "metadata": {},
   "outputs": [],
   "source": [
    "df = df[df[PD_TARGET_VARIABLE_COLUMN_NAME] > 11] \n",
    "df = df[df[PD_TARGET_VARIABLE_COLUMN_NAME] < 13]  "
   ]
  },
  {
   "cell_type": "code",
   "execution_count": 23,
   "metadata": {},
   "outputs": [
    {
     "data": {
      "text/plain": [
       "<matplotlib.axes._subplots.AxesSubplot at 0x7faf49add400>"
      ]
     },
     "execution_count": 23,
     "metadata": {},
     "output_type": "execute_result"
    },
    {
     "data": {
      "image/png": "[encoded data removed]",
      "text/plain": [
       "<matplotlib.figure.Figure at 0x7faf49677b00>"
      ]
     },
     "metadata": {},
     "output_type": "display_data"
    }
   ],
   "source": [
    "df[PD_TARGET_VARIABLE_COLUMN_NAME].plot()"
   ]
  },
  {
   "cell_type": "code",
   "execution_count": 24,
   "metadata": {},
   "outputs": [
    {
     "data": {
      "image/png": "[encoded data removed]",
      "text/plain": [
       "<matplotlib.figure.Figure at 0x7faf4961d5f8>"
      ]
     },
     "metadata": {},
     "output_type": "display_data"
    }
   ],
   "source": [
    "ax = sns.distplot(df[PD_TARGET_VARIABLE_COLUMN_NAME])"
   ]
  },
  {
   "cell_type": "code",
   "execution_count": 25,
   "metadata": {},
   "outputs": [
    {
     "data": {
      "text/plain": [
       "(1434, 80)"
      ]
     },
     "execution_count": 25,
     "metadata": {},
     "output_type": "execute_result"
    }
   ],
   "source": [
    "df.shape"
   ]
  },
  {
   "cell_type": "markdown",
   "metadata": {},
   "source": [
    "### Для удобства  будем отдельно рассматривать столбцы, соответствующие входным признакам (матрица X), а отдельно – выделенный признак (вектор y):"
   ]
  },
  {
   "cell_type": "code",
   "execution_count": 26,
   "metadata": {},
   "outputs": [],
   "source": [
    "X = df.drop((PD_TARGET_VARIABLE_COLUMN_NAME), axis=1)\n",
    "y = df[PD_TARGET_VARIABLE_COLUMN_NAME]"
   ]
  },
  {
   "cell_type": "code",
   "execution_count": 27,
   "metadata": {},
   "outputs": [
    {
     "data": {
      "text/plain": [
       "(1434, 79)"
      ]
     },
     "execution_count": 27,
     "metadata": {},
     "output_type": "execute_result"
    }
   ],
   "source": [
    "X.shape"
   ]
  },
  {
   "cell_type": "code",
   "execution_count": 28,
   "metadata": {},
   "outputs": [
    {
     "data": {
      "text/plain": [
       "(1434,)"
      ]
     },
     "execution_count": 28,
     "metadata": {},
     "output_type": "execute_result"
    }
   ],
   "source": [
    "y.shape"
   ]
  },
  {
   "cell_type": "markdown",
   "metadata": {},
   "source": [
    "### Проверим наличие незаполненных элементов и узнаем их количество:"
   ]
  },
  {
   "cell_type": "code",
   "execution_count": 29,
   "metadata": {},
   "outputs": [
    {
     "data": {
      "text/plain": [
       "True"
      ]
     },
     "execution_count": 29,
     "metadata": {},
     "output_type": "execute_result"
    }
   ],
   "source": [
    "X.isnull().values.any()"
   ]
  },
  {
   "cell_type": "code",
   "execution_count": 30,
   "metadata": {},
   "outputs": [
    {
     "data": {
      "text/plain": [
       "False"
      ]
     },
     "execution_count": 30,
     "metadata": {},
     "output_type": "execute_result"
    }
   ],
   "source": [
    "y.isnull().values.any()"
   ]
  },
  {
   "cell_type": "code",
   "execution_count": 31,
   "metadata": {},
   "outputs": [
    {
     "data": {
      "text/html": [
       "<div>\n",
       "<style>\n",
       "    .dataframe thead tr:only-child th {\n",
       "        text-align: right;\n",
       "    }\n",
       "\n",
       "    .dataframe thead th {\n",
       "        text-align: left;\n",
       "    }\n",
       "\n",
       "    .dataframe tbody tr th {\n",
       "        vertical-align: top;\n",
       "    }\n",
       "</style>\n",
       "<table border=\"1\" class=\"dataframe\">\n",
       "  <thead>\n",
       "    <tr style=\"text-align: right;\">\n",
       "      <th></th>\n",
       "      <th>NAs count</th>\n",
       "      <th>dtype</th>\n",
       "    </tr>\n",
       "  </thead>\n",
       "  <tbody>\n",
       "    <tr>\n",
       "      <th>LotFrontage</th>\n",
       "      <td>258</td>\n",
       "      <td>float64</td>\n",
       "    </tr>\n",
       "    <tr>\n",
       "      <th>Alley</th>\n",
       "      <td>1346</td>\n",
       "      <td>object</td>\n",
       "    </tr>\n",
       "    <tr>\n",
       "      <th>MasVnrType</th>\n",
       "      <td>7</td>\n",
       "      <td>object</td>\n",
       "    </tr>\n",
       "    <tr>\n",
       "      <th>MasVnrArea</th>\n",
       "      <td>7</td>\n",
       "      <td>float64</td>\n",
       "    </tr>\n",
       "    <tr>\n",
       "      <th>BsmtQual</th>\n",
       "      <td>35</td>\n",
       "      <td>object</td>\n",
       "    </tr>\n",
       "    <tr>\n",
       "      <th>BsmtCond</th>\n",
       "      <td>35</td>\n",
       "      <td>object</td>\n",
       "    </tr>\n",
       "    <tr>\n",
       "      <th>BsmtExposure</th>\n",
       "      <td>36</td>\n",
       "      <td>object</td>\n",
       "    </tr>\n",
       "    <tr>\n",
       "      <th>BsmtFinType1</th>\n",
       "      <td>35</td>\n",
       "      <td>object</td>\n",
       "    </tr>\n",
       "    <tr>\n",
       "      <th>BsmtFinType2</th>\n",
       "      <td>36</td>\n",
       "      <td>object</td>\n",
       "    </tr>\n",
       "    <tr>\n",
       "      <th>Electrical</th>\n",
       "      <td>1</td>\n",
       "      <td>object</td>\n",
       "    </tr>\n",
       "    <tr>\n",
       "      <th>FireplaceQu</th>\n",
       "      <td>679</td>\n",
       "      <td>object</td>\n",
       "    </tr>\n",
       "    <tr>\n",
       "      <th>GarageType</th>\n",
       "      <td>74</td>\n",
       "      <td>object</td>\n",
       "    </tr>\n",
       "    <tr>\n",
       "      <th>GarageYrBlt</th>\n",
       "      <td>74</td>\n",
       "      <td>float64</td>\n",
       "    </tr>\n",
       "    <tr>\n",
       "      <th>GarageFinish</th>\n",
       "      <td>74</td>\n",
       "      <td>object</td>\n",
       "    </tr>\n",
       "    <tr>\n",
       "      <th>GarageQual</th>\n",
       "      <td>74</td>\n",
       "      <td>object</td>\n",
       "    </tr>\n",
       "    <tr>\n",
       "      <th>GarageCond</th>\n",
       "      <td>74</td>\n",
       "      <td>object</td>\n",
       "    </tr>\n",
       "    <tr>\n",
       "      <th>PoolQC</th>\n",
       "      <td>1428</td>\n",
       "      <td>object</td>\n",
       "    </tr>\n",
       "    <tr>\n",
       "      <th>Fence</th>\n",
       "      <td>1159</td>\n",
       "      <td>object</td>\n",
       "    </tr>\n",
       "    <tr>\n",
       "      <th>MiscFeature</th>\n",
       "      <td>1382</td>\n",
       "      <td>object</td>\n",
       "    </tr>\n",
       "  </tbody>\n",
       "</table>\n",
       "</div>"
      ],
      "text/plain": [
       "              NAs count    dtype\n",
       "LotFrontage         258  float64\n",
       "Alley              1346   object\n",
       "MasVnrType            7   object\n",
       "MasVnrArea            7  float64\n",
       "BsmtQual             35   object\n",
       "BsmtCond             35   object\n",
       "BsmtExposure         36   object\n",
       "BsmtFinType1         35   object\n",
       "BsmtFinType2         36   object\n",
       "Electrical            1   object\n",
       "FireplaceQu         679   object\n",
       "GarageType           74   object\n",
       "GarageYrBlt          74  float64\n",
       "GarageFinish         74   object\n",
       "GarageQual           74   object\n",
       "GarageCond           74   object\n",
       "PoolQC             1428   object\n",
       "Fence              1159   object\n",
       "MiscFeature        1382   object"
      ]
     },
     "execution_count": 31,
     "metadata": {},
     "output_type": "execute_result"
    }
   ],
   "source": [
    "NAs = pd.concat([X.isnull().sum(), X.dtypes], axis=1)\n",
    "NAs.columns = ['NAs count', 'dtype']\n",
    "NAs[NAs.sum(axis=1) > 0]"
   ]
  },
  {
   "cell_type": "markdown",
   "metadata": {},
   "source": [
    "### Исправим типы и значения некоторыех параметров:"
   ]
  },
  {
   "cell_type": "code",
   "execution_count": 32,
   "metadata": {
    "scrolled": false
   },
   "outputs": [
    {
     "name": "stdout",
     "output_type": "stream",
     "text": [
      "MSSubClass: int64\n",
      "LotFrontage: float64\n",
      "LotArea: int64\n",
      "OverallQual: int64\n",
      "OverallCond: int64\n",
      "YearBuilt: int64\n",
      "YearRemodAdd: int64\n",
      "MasVnrArea: float64\n",
      "BsmtFinSF1: int64\n",
      "BsmtFinSF2: int64\n",
      "BsmtUnfSF: int64\n",
      "TotalBsmtSF: int64\n",
      "1stFlrSF: int64\n",
      "2ndFlrSF: int64\n",
      "LowQualFinSF: int64\n",
      "GrLivArea: int64\n",
      "BsmtFullBath: int64\n",
      "BsmtHalfBath: int64\n",
      "FullBath: int64\n",
      "HalfBath: int64\n",
      "BedroomAbvGr: int64\n",
      "KitchenAbvGr: int64\n",
      "TotRmsAbvGrd: int64\n",
      "Fireplaces: int64\n",
      "GarageYrBlt: float64\n",
      "GarageCars: int64\n",
      "GarageArea: int64\n",
      "WoodDeckSF: int64\n",
      "OpenPorchSF: int64\n",
      "EnclosedPorch: int64\n",
      "3SsnPorch: int64\n",
      "ScreenPorch: int64\n",
      "PoolArea: int64\n",
      "MiscVal: int64\n",
      "MoSold: int64\n",
      "YrSold: int64\n"
     ]
    }
   ],
   "source": [
    "for col in X:\n",
    "    if X[col].dtype != 'object':\n",
    "        print('{0}: {1}'.format(col, X[col].dtype, sep=', '))"
   ]
  },
  {
   "cell_type": "code",
   "execution_count": 33,
   "metadata": {},
   "outputs": [],
   "source": [
    "# MSSubClass to categorical\n",
    "X['MSSubClass'] = X['MSSubClass'].astype(str)\n",
    "\n",
    "# OverallQual to categorical\n",
    "X['OverallQual'] = X['OverallQual'].astype(str)\n",
    "\n",
    "# OverallCond to categorical\n",
    "X['OverallCond'] = X['OverallCond'].astype(str)\n",
    "\n",
    "# YearBuilt to categorical\n",
    "X['YearBuilt'] = X['YearBuilt'].astype(str)\n",
    "\n",
    "# YearRemodAdd to categorical\n",
    "X['YearRemodAdd'] = X['YearRemodAdd'].astype(str)\n",
    "\n",
    "# GarageYrBlt to categorical\n",
    "X['GarageYrBlt'] = X['GarageYrBlt'].fillna(0.0)\n",
    "X['GarageYrBlt'] = X['GarageYrBlt'].astype(int).astype(str)\n",
    "\n",
    "# Year and Month to categorical\n",
    "X['YrSold'] = X['YrSold'].astype(str)\n",
    "X['MoSold'] = X['MoSold'].astype(str)\n",
    "\n",
    "# KitchenAbvGr to categorical\n",
    "X['KitchenAbvGr'] = X['KitchenAbvGr'].astype(str)\n",
    "\n",
    "# NA means no access\n",
    "X['Alley'] = X['Alley'].fillna('NOACCESS')\n",
    "\n",
    "# NA means No basement\n",
    "for col in ('BsmtQual', 'BsmtCond', 'BsmtExposure', 'BsmtFinType1', 'BsmtFinType2'):\n",
    "    X[col] = X[col].fillna('NoBSMT')\n",
    "\n",
    "# NA means No Fireplace\n",
    "X['FireplaceQu'] = X['FireplaceQu'].fillna('NoFP')\n",
    "\n",
    "# NA means No Garage\n",
    "for col in ('GarageType', 'GarageFinish', 'GarageQual', 'GarageCond'):\n",
    "    X[col] = X[col].fillna('NoGRG')\n",
    "\n",
    "# NA means No Pool\n",
    "X['PoolQC'] = X['PoolQC'].fillna('NoP')\n",
    "\n",
    "# NA means no Fence\n",
    "X['Fence'] = X['Fence'].fillna('NoF')\n",
    "\n",
    "# NA means None\n",
    "X['MiscFeature'] = X['MiscFeature'].fillna('None')"
   ]
  },
  {
   "cell_type": "markdown",
   "metadata": {},
   "source": [
    "### Удалим те параметры, количество пустых значений которых больше 50%:"
   ]
  },
  {
   "cell_type": "code",
   "execution_count": 34,
   "metadata": {},
   "outputs": [],
   "source": [
    "def get_percentage_missing(series):\n",
    "    \"\"\" Calculates percentage of NaN values in DataFrame\n",
    "    :param series: Pandas DataFrame object\n",
    "    :return: float\n",
    "    \"\"\"\n",
    "    num = series.isnull().sum()\n",
    "    den = len(series)\n",
    "    \n",
    "    return round(num / den, 2)"
   ]
  },
  {
   "cell_type": "code",
   "execution_count": 35,
   "metadata": {},
   "outputs": [],
   "source": [
    "bad_na_features = []\n",
    "\n",
    "for name, _ in X.iteritems():\n",
    "    if get_percentage_missing(X[name]) > 0.5:\n",
    "        bad_na_features.append(name)"
   ]
  },
  {
   "cell_type": "code",
   "execution_count": 36,
   "metadata": {},
   "outputs": [],
   "source": [
    "bad_na_features = []\n",
    "\n",
    "for name, _ in X.iteritems():\n",
    "    if get_percentage_missing(X[name]) > 0.3:\n",
    "        bad_na_features.append(name)"
   ]
  },
  {
   "cell_type": "code",
   "execution_count": 37,
   "metadata": {},
   "outputs": [
    {
     "data": {
      "text/plain": [
       "[]"
      ]
     },
     "execution_count": 37,
     "metadata": {},
     "output_type": "execute_result"
    }
   ],
   "source": [
    "bad_na_features"
   ]
  },
  {
   "cell_type": "code",
   "execution_count": 38,
   "metadata": {},
   "outputs": [],
   "source": [
    "X = X.drop(bad_na_features, axis=1)"
   ]
  },
  {
   "cell_type": "code",
   "execution_count": 39,
   "metadata": {},
   "outputs": [
    {
     "data": {
      "text/plain": [
       "(1434, 79)"
      ]
     },
     "execution_count": 39,
     "metadata": {},
     "output_type": "execute_result"
    }
   ],
   "source": [
    "X.shape"
   ]
  },
  {
   "cell_type": "code",
   "execution_count": 40,
   "metadata": {},
   "outputs": [
    {
     "data": {
      "text/html": [
       "<div>\n",
       "<style>\n",
       "    .dataframe thead tr:only-child th {\n",
       "        text-align: right;\n",
       "    }\n",
       "\n",
       "    .dataframe thead th {\n",
       "        text-align: left;\n",
       "    }\n",
       "\n",
       "    .dataframe tbody tr th {\n",
       "        vertical-align: top;\n",
       "    }\n",
       "</style>\n",
       "<table border=\"1\" class=\"dataframe\">\n",
       "  <thead>\n",
       "    <tr style=\"text-align: right;\">\n",
       "      <th></th>\n",
       "      <th>NAs count</th>\n",
       "    </tr>\n",
       "  </thead>\n",
       "  <tbody>\n",
       "    <tr>\n",
       "      <th>LotFrontage</th>\n",
       "      <td>258</td>\n",
       "    </tr>\n",
       "    <tr>\n",
       "      <th>MasVnrType</th>\n",
       "      <td>7</td>\n",
       "    </tr>\n",
       "    <tr>\n",
       "      <th>MasVnrArea</th>\n",
       "      <td>7</td>\n",
       "    </tr>\n",
       "    <tr>\n",
       "      <th>Electrical</th>\n",
       "      <td>1</td>\n",
       "    </tr>\n",
       "  </tbody>\n",
       "</table>\n",
       "</div>"
      ],
      "text/plain": [
       "             NAs count\n",
       "LotFrontage        258\n",
       "MasVnrType           7\n",
       "MasVnrArea           7\n",
       "Electrical           1"
      ]
     },
     "execution_count": 40,
     "metadata": {},
     "output_type": "execute_result"
    }
   ],
   "source": [
    "NAs = pd.DataFrame(X.isnull().sum(), columns=['NAs count'])\n",
    "NAs[NAs.sum(axis=1) > 0]"
   ]
  },
  {
   "cell_type": "markdown",
   "metadata": {},
   "source": [
    "### Заполним пропущенные значения:"
   ]
  },
  {
   "cell_type": "markdown",
   "metadata": {},
   "source": [
    "#### Для количественных признаков:"
   ]
  },
  {
   "cell_type": "code",
   "execution_count": 41,
   "metadata": {},
   "outputs": [],
   "source": [
    "X['LotFrontage'] = X['LotFrontage'].fillna(X['LotFrontage'].mean())\n",
    "X['MasVnrArea'] = X['MasVnrArea'].fillna(X['MasVnrArea'].mean())"
   ]
  },
  {
   "cell_type": "markdown",
   "metadata": {},
   "source": [
    "#### Для категориальных признаков:"
   ]
  },
  {
   "cell_type": "code",
   "execution_count": 42,
   "metadata": {},
   "outputs": [],
   "source": [
    "data_describe = X.describe(include=[object])\n",
    "X['MasVnrType'] = X['MasVnrType'].fillna(data_describe['MasVnrType']['top'])\n",
    "X['Electrical'] = X['Electrical'].fillna(data_describe['Electrical']['top'])"
   ]
  },
  {
   "cell_type": "markdown",
   "metadata": {},
   "source": [
    "### Проверим наличие незаполненных элементов:"
   ]
  },
  {
   "cell_type": "code",
   "execution_count": 43,
   "metadata": {},
   "outputs": [
    {
     "data": {
      "text/plain": [
       "False"
      ]
     },
     "execution_count": 43,
     "metadata": {},
     "output_type": "execute_result"
    }
   ],
   "source": [
    "X.isnull().values.any()"
   ]
  },
  {
   "cell_type": "markdown",
   "metadata": {},
   "source": [
    "### Добавим новый парамер TotalSF,  объединяющий параметры Basement, 1st and 2nd floor."
   ]
  },
  {
   "cell_type": "code",
   "execution_count": 44,
   "metadata": {},
   "outputs": [],
   "source": [
    "# Adding total sqfootage feature and removing Basement, 1st and 2nd floor features\n",
    "X['TotalSF'] = X['TotalBsmtSF'] + X['1stFlrSF'] + X['2ndFlrSF']\n",
    "X.drop(['TotalBsmtSF', '1stFlrSF', '2ndFlrSF'], axis=1, inplace=True)"
   ]
  },
  {
   "cell_type": "markdown",
   "metadata": {},
   "source": [
    "### Выделим числовые и категориальные признаки:"
   ]
  },
  {
   "cell_type": "code",
   "execution_count": 45,
   "metadata": {},
   "outputs": [],
   "source": [
    "categorical_columns = [c for c in X.columns if X[c].dtype.name == 'object']\n",
    "numerical_columns   = [c for c in X.columns if X[c].dtype.name != 'object']"
   ]
  },
  {
   "cell_type": "code",
   "execution_count": 46,
   "metadata": {},
   "outputs": [
    {
     "name": "stdout",
     "output_type": "stream",
     "text": [
      "['MSSubClass', 'MSZoning', 'Street', 'Alley', 'LotShape', 'LandContour', 'Utilities', 'LotConfig', 'LandSlope', 'Neighborhood', 'Condition1', 'Condition2', 'BldgType', 'HouseStyle', 'OverallQual', 'OverallCond', 'YearBuilt', 'YearRemodAdd', 'RoofStyle', 'RoofMatl', 'Exterior1st', 'Exterior2nd', 'MasVnrType', 'ExterQual', 'ExterCond', 'Foundation', 'BsmtQual', 'BsmtCond', 'BsmtExposure', 'BsmtFinType1', 'BsmtFinType2', 'Heating', 'HeatingQC', 'CentralAir', 'Electrical', 'KitchenAbvGr', 'KitchenQual', 'Functional', 'FireplaceQu', 'GarageType', 'GarageYrBlt', 'GarageFinish', 'GarageQual', 'GarageCond', 'PavedDrive', 'PoolQC', 'Fence', 'MiscFeature', 'MoSold', 'YrSold', 'SaleType', 'SaleCondition']\n"
     ]
    }
   ],
   "source": [
    "print(categorical_columns)"
   ]
  },
  {
   "cell_type": "code",
   "execution_count": 47,
   "metadata": {},
   "outputs": [
    {
     "data": {
      "text/plain": [
       "52"
      ]
     },
     "execution_count": 47,
     "metadata": {},
     "output_type": "execute_result"
    }
   ],
   "source": [
    "len(categorical_columns)"
   ]
  },
  {
   "cell_type": "code",
   "execution_count": 48,
   "metadata": {},
   "outputs": [
    {
     "name": "stdout",
     "output_type": "stream",
     "text": [
      "['LotFrontage', 'LotArea', 'MasVnrArea', 'BsmtFinSF1', 'BsmtFinSF2', 'BsmtUnfSF', 'LowQualFinSF', 'GrLivArea', 'BsmtFullBath', 'BsmtHalfBath', 'FullBath', 'HalfBath', 'BedroomAbvGr', 'TotRmsAbvGrd', 'Fireplaces', 'GarageCars', 'GarageArea', 'WoodDeckSF', 'OpenPorchSF', 'EnclosedPorch', '3SsnPorch', 'ScreenPorch', 'PoolArea', 'MiscVal', 'TotalSF']\n"
     ]
    }
   ],
   "source": [
    "print(numerical_columns)"
   ]
  },
  {
   "cell_type": "code",
   "execution_count": 49,
   "metadata": {},
   "outputs": [
    {
     "data": {
      "text/plain": [
       "25"
      ]
     },
     "execution_count": 49,
     "metadata": {},
     "output_type": "execute_result"
    }
   ],
   "source": [
    "len(numerical_columns)"
   ]
  },
  {
   "cell_type": "markdown",
   "metadata": {},
   "source": [
    "### Определим полный перечень значений категориальных признаков:"
   ]
  },
  {
   "cell_type": "code",
   "execution_count": 50,
   "metadata": {},
   "outputs": [
    {
     "name": "stdout",
     "output_type": "stream",
     "text": [
      "MSSubClass: ['60' '20' '70' '50' '190' '45' '90' '120' '30' '85' '80' '160' '75' '180'\n",
      " '40']\n",
      "MSZoning: ['RL' 'RM' 'FV' 'C (all)' 'RH']\n",
      "Street: ['Pave' 'Grvl']\n",
      "Alley: ['NOACCESS' 'Grvl' 'Pave']\n",
      "LotShape: ['Reg' 'IR1' 'IR2' 'IR3']\n",
      "LandContour: ['Lvl' 'Bnk' 'Low' 'HLS']\n",
      "Utilities: ['AllPub' 'NoSeWa']\n",
      "LotConfig: ['Inside' 'FR2' 'Corner' 'CulDSac' 'FR3']\n",
      "LandSlope: ['Gtl' 'Mod' 'Sev']\n",
      "Neighborhood: ['CollgCr' 'Veenker' 'Crawfor' 'NoRidge' 'Mitchel' 'Somerst' 'NWAmes'\n",
      " 'OldTown' 'BrkSide' 'Sawyer' 'NridgHt' 'NAmes' 'SawyerW' 'IDOTRR'\n",
      " 'MeadowV' 'Edwards' 'Timber' 'Gilbert' 'StoneBr' 'ClearCr' 'NPkVill'\n",
      " 'Blmngtn' 'BrDale' 'SWISU' 'Blueste']\n",
      "Condition1: ['Norm' 'Feedr' 'PosN' 'Artery' 'RRAe' 'RRNn' 'RRAn' 'PosA' 'RRNe']\n",
      "Condition2: ['Norm' 'Artery' 'RRNn' 'Feedr' 'PosN' 'PosA' 'RRAn' 'RRAe']\n",
      "BldgType: ['1Fam' '2fmCon' 'Duplex' 'TwnhsE' 'Twnhs']\n",
      "HouseStyle: ['2Story' '1Story' '1.5Fin' '1.5Unf' 'SFoyer' 'SLvl' '2.5Unf' '2.5Fin']\n",
      "OverallQual: ['7' '6' '8' '5' '9' '4' '10' '3' '1' '2']\n",
      "OverallCond: ['5' '8' '6' '7' '4' '2' '3' '9' '1']\n",
      "YearBuilt: ['2003' '1976' '2001' '1915' '2000' '1993' '2004' '1973' '1931' '1939'\n",
      " '1965' '2005' '1962' '2006' '1960' '1929' '1970' '1967' '1958' '1930'\n",
      " '2002' '1968' '2007' '1951' '1957' '1927' '1966' '1959' '1994' '1954'\n",
      " '1953' '1955' '1983' '1975' '1920' '1997' '1934' '1963' '1981' '1964'\n",
      " '1999' '1972' '1921' '1945' '1982' '1998' '1956' '1948' '1910' '1995'\n",
      " '1991' '2009' '1950' '1961' '1977' '1985' '1979' '1885' '1919' '1990'\n",
      " '1969' '1935' '1988' '1971' '1952' '1936' '1923' '1924' '1984' '1926'\n",
      " '1940' '1941' '1987' '1986' '1908' '1916' '1932' '1918' '1912' '1947'\n",
      " '1925' '2008' '1900' '1980' '1989' '1992' '1949' '1880' '1928' '1978'\n",
      " '1922' '1996' '2010' '1946' '1913' '1937' '1942' '1938' '1974' '1893'\n",
      " '1914' '1906' '1890' '1898' '1904' '1882' '1875' '1911' '1917' '1892'\n",
      " '1872' '1905']\n",
      "YearRemodAdd: ['2003' '1976' '2002' '1970' '2000' '1995' '2005' '1973' '1950' '1965'\n",
      " '2006' '1962' '2007' '1960' '2001' '1967' '2004' '2008' '1997' '1959'\n",
      " '1990' '1955' '1983' '1980' '1966' '1963' '1987' '1964' '1972' '1996'\n",
      " '1998' '1989' '1953' '1956' '1968' '1981' '1992' '2009' '1982' '1961'\n",
      " '1993' '1999' '1985' '1979' '1977' '1969' '1958' '1991' '1971' '1952'\n",
      " '1975' '2010' '1984' '1986' '1994' '1988' '1954' '1957' '1951' '1978'\n",
      " '1974']\n",
      "RoofStyle: ['Gable' 'Hip' 'Gambrel' 'Mansard' 'Flat' 'Shed']\n",
      "RoofMatl: ['CompShg' 'WdShngl' 'Metal' 'WdShake' 'Membran' 'Tar&Grv' 'Roll' 'ClyTile']\n",
      "Exterior1st: ['VinylSd' 'MetalSd' 'Wd Sdng' 'HdBoard' 'BrkFace' 'WdShing' 'CemntBd'\n",
      " 'Plywood' 'AsbShng' 'Stucco' 'BrkComm' 'AsphShn' 'Stone' 'ImStucc'\n",
      " 'CBlock']\n",
      "Exterior2nd: ['VinylSd' 'MetalSd' 'Wd Shng' 'HdBoard' 'Plywood' 'Wd Sdng' 'CmentBd'\n",
      " 'BrkFace' 'Stucco' 'AsbShng' 'Brk Cmn' 'ImStucc' 'AsphShn' 'Stone' 'Other'\n",
      " 'CBlock']\n",
      "MasVnrType: ['BrkFace' 'None' 'Stone' 'BrkCmn']\n",
      "ExterQual: ['Gd' 'TA' 'Ex' 'Fa']\n",
      "ExterCond: ['TA' 'Gd' 'Fa' 'Po' 'Ex']\n",
      "Foundation: ['PConc' 'CBlock' 'BrkTil' 'Wood' 'Slab' 'Stone']\n",
      "BsmtQual: ['Gd' 'TA' 'Ex' 'NoBSMT' 'Fa']\n",
      "BsmtCond: ['TA' 'Gd' 'NoBSMT' 'Fa' 'Po']\n",
      "BsmtExposure: ['No' 'Gd' 'Mn' 'Av' 'NoBSMT']\n",
      "BsmtFinType1: ['GLQ' 'ALQ' 'Unf' 'Rec' 'BLQ' 'NoBSMT' 'LwQ']\n",
      "BsmtFinType2: ['Unf' 'BLQ' 'NoBSMT' 'ALQ' 'Rec' 'LwQ' 'GLQ']\n",
      "Heating: ['GasA' 'GasW' 'Grav' 'Wall' 'OthW' 'Floor']\n",
      "HeatingQC: ['Ex' 'Gd' 'TA' 'Fa' 'Po']\n",
      "CentralAir: ['Y' 'N']\n",
      "Electrical: ['SBrkr' 'FuseF' 'FuseA' 'FuseP' 'Mix']\n",
      "KitchenAbvGr: ['1' '2' '3' '0']\n",
      "KitchenQual: ['Gd' 'TA' 'Ex' 'Fa']\n",
      "Functional: ['Typ' 'Min1' 'Maj1' 'Min2' 'Mod' 'Maj2' 'Sev']\n",
      "FireplaceQu: ['NoFP' 'TA' 'Gd' 'Fa' 'Ex' 'Po']\n",
      "GarageType: ['Attchd' 'Detchd' 'BuiltIn' 'CarPort' 'NoGRG' 'Basment' '2Types']\n",
      "GarageYrBlt: ['2003' '1976' '2001' '1998' '2000' '1993' '2004' '1973' '1931' '1939'\n",
      " '1965' '2005' '1962' '2006' '1960' '1991' '1970' '1967' '1958' '1930'\n",
      " '2002' '1968' '2007' '2008' '1957' '1920' '1966' '1959' '1995' '1954'\n",
      " '1953' '0' '1983' '1977' '1997' '1985' '1963' '1981' '1964' '1999' '1935'\n",
      " '1990' '1945' '1987' '1989' '1915' '1956' '1948' '1974' '2009' '1950'\n",
      " '1961' '1921' '1900' '1979' '1951' '1969' '1936' '1975' '1971' '1923'\n",
      " '1984' '1926' '1955' '1986' '1988' '1916' '1932' '1972' '1918' '1980'\n",
      " '1924' '1996' '1940' '1949' '1994' '1910' '1978' '1982' '1992' '1925'\n",
      " '1941' '2010' '1927' '1947' '1937' '1942' '1938' '1952' '1928' '1922'\n",
      " '1934' '1906' '1914' '1946' '1908' '1929' '1933']\n",
      "GarageFinish: ['RFn' 'Unf' 'Fin' 'NoGRG']\n",
      "GarageQual: ['TA' 'Fa' 'Gd' 'NoGRG' 'Po' 'Ex']\n",
      "GarageCond: ['TA' 'NoGRG' 'Gd' 'Fa' 'Po' 'Ex']\n",
      "PavedDrive: ['Y' 'N' 'P']\n",
      "PoolQC: ['NoP' 'Ex' 'Fa' 'Gd']\n",
      "Fence: ['NoF' 'MnPrv' 'GdWo' 'GdPrv' 'MnWw']\n",
      "MiscFeature: ['None' 'Shed' 'Gar2' 'Othr' 'TenC']\n",
      "MoSold: ['2' '5' '9' '12' '10' '8' '11' '4' '1' '7' '3' '6']\n",
      "YrSold: ['2008' '2007' '2006' '2009' '2010']\n",
      "SaleType: ['WD' 'New' 'COD' 'ConLD' 'ConLI' 'CWD' 'ConLw' 'Con' 'Oth']\n",
      "SaleCondition: ['Normal' 'Abnorml' 'Partial' 'AdjLand' 'Alloca' 'Family']\n"
     ]
    }
   ],
   "source": [
    "for c in categorical_columns:\n",
    "    print('{0}: {1}'.format(c, X[c].unique()))"
   ]
  },
  {
   "cell_type": "markdown",
   "metadata": {},
   "source": [
    "## Преобразуем категориальные признаки в количественные:"
   ]
  },
  {
   "cell_type": "markdown",
   "metadata": {},
   "source": [
    "### Выделим бинарные и небинарные признаки:"
   ]
  },
  {
   "cell_type": "code",
   "execution_count": 51,
   "metadata": {},
   "outputs": [],
   "source": [
    "binary_columns    = [c for c in categorical_columns if data_describe[c]['unique'] == 2]\n",
    "nonbinary_columns = [c for c in categorical_columns if data_describe[c]['unique'] > 2]"
   ]
  },
  {
   "cell_type": "code",
   "execution_count": 52,
   "metadata": {},
   "outputs": [
    {
     "name": "stdout",
     "output_type": "stream",
     "text": [
      "['Street', 'Utilities', 'CentralAir']\n"
     ]
    }
   ],
   "source": [
    "print(binary_columns)"
   ]
  },
  {
   "cell_type": "code",
   "execution_count": 53,
   "metadata": {},
   "outputs": [
    {
     "name": "stdout",
     "output_type": "stream",
     "text": [
      "['MSSubClass', 'MSZoning', 'Alley', 'LotShape', 'LandContour', 'LotConfig', 'LandSlope', 'Neighborhood', 'Condition1', 'Condition2', 'BldgType', 'HouseStyle', 'OverallQual', 'OverallCond', 'YearBuilt', 'YearRemodAdd', 'RoofStyle', 'RoofMatl', 'Exterior1st', 'Exterior2nd', 'MasVnrType', 'ExterQual', 'ExterCond', 'Foundation', 'BsmtQual', 'BsmtCond', 'BsmtExposure', 'BsmtFinType1', 'BsmtFinType2', 'Heating', 'HeatingQC', 'Electrical', 'KitchenAbvGr', 'KitchenQual', 'Functional', 'FireplaceQu', 'GarageType', 'GarageYrBlt', 'GarageFinish', 'GarageQual', 'GarageCond', 'PavedDrive', 'PoolQC', 'Fence', 'MiscFeature', 'MoSold', 'YrSold', 'SaleType', 'SaleCondition']\n"
     ]
    }
   ],
   "source": [
    "print(nonbinary_columns )"
   ]
  },
  {
   "cell_type": "markdown",
   "metadata": {},
   "source": [
    "### Значения бинарных признаков заменим на 0 и 1:"
   ]
  },
  {
   "cell_type": "code",
   "execution_count": 54,
   "metadata": {},
   "outputs": [],
   "source": [
    "for c in binary_columns:\n",
    "    top = data_describe[c]['top']\n",
    "    top_items = X[c] == top\n",
    "    X.loc[top_items, c] = 0\n",
    "    X.loc[np.logical_not(top_items), c] = 1"
   ]
  },
  {
   "cell_type": "code",
   "execution_count": 55,
   "metadata": {},
   "outputs": [
    {
     "data": {
      "text/html": [
       "<div>\n",
       "<style>\n",
       "    .dataframe thead tr:only-child th {\n",
       "        text-align: right;\n",
       "    }\n",
       "\n",
       "    .dataframe thead th {\n",
       "        text-align: left;\n",
       "    }\n",
       "\n",
       "    .dataframe tbody tr th {\n",
       "        vertical-align: top;\n",
       "    }\n",
       "</style>\n",
       "<table border=\"1\" class=\"dataframe\">\n",
       "  <thead>\n",
       "    <tr style=\"text-align: right;\">\n",
       "      <th></th>\n",
       "      <th>Street</th>\n",
       "      <th>Utilities</th>\n",
       "      <th>CentralAir</th>\n",
       "    </tr>\n",
       "  </thead>\n",
       "  <tbody>\n",
       "    <tr>\n",
       "      <th>count</th>\n",
       "      <td>1434</td>\n",
       "      <td>1434</td>\n",
       "      <td>1434</td>\n",
       "    </tr>\n",
       "    <tr>\n",
       "      <th>unique</th>\n",
       "      <td>2</td>\n",
       "      <td>2</td>\n",
       "      <td>2</td>\n",
       "    </tr>\n",
       "    <tr>\n",
       "      <th>top</th>\n",
       "      <td>0</td>\n",
       "      <td>0</td>\n",
       "      <td>0</td>\n",
       "    </tr>\n",
       "    <tr>\n",
       "      <th>freq</th>\n",
       "      <td>1429</td>\n",
       "      <td>1433</td>\n",
       "      <td>1349</td>\n",
       "    </tr>\n",
       "  </tbody>\n",
       "</table>\n",
       "</div>"
      ],
      "text/plain": [
       "        Street  Utilities  CentralAir\n",
       "count     1434       1434        1434\n",
       "unique       2          2           2\n",
       "top          0          0           0\n",
       "freq      1429       1433        1349"
      ]
     },
     "execution_count": 55,
     "metadata": {},
     "output_type": "execute_result"
    }
   ],
   "source": [
    "X[binary_columns].describe()"
   ]
  },
  {
   "cell_type": "markdown",
   "metadata": {},
   "source": [
    "### К небинарными признакам применим метод векторизаци:"
   ]
  },
  {
   "cell_type": "code",
   "execution_count": 56,
   "metadata": {},
   "outputs": [],
   "source": [
    "# data_nonbinary = pd.get_dummies(X[nonbinary_columns])"
   ]
  },
  {
   "cell_type": "code",
   "execution_count": 57,
   "metadata": {},
   "outputs": [],
   "source": [
    "# data_nonbinary.columns"
   ]
  },
  {
   "cell_type": "markdown",
   "metadata": {},
   "source": [
    "### Небинарные признаки переведём в числа:"
   ]
  },
  {
   "cell_type": "code",
   "execution_count": 58,
   "metadata": {},
   "outputs": [
    {
     "name": "stderr",
     "output_type": "stream",
     "text": [
      "/usr/lib/python3.6/site-packages/ipykernel_launcher.py:3: SettingWithCopyWarning: \n",
      "A value is trying to be set on a copy of a slice from a DataFrame.\n",
      "Try using .loc[row_indexer,col_indexer] = value instead\n",
      "\n",
      "See the caveats in the documentation: http://pandas.pydata.org/pandas-docs/stable/indexing.html#indexing-view-versus-copy\n",
      "  This is separate from the ipykernel package so we can avoid doing imports until\n"
     ]
    }
   ],
   "source": [
    "data_nonbinary = X[nonbinary_columns]\n",
    "for c in data_nonbinary:\n",
    "    data_nonbinary[c] = data_nonbinary[c].factorize()[0]"
   ]
  },
  {
   "cell_type": "markdown",
   "metadata": {},
   "source": [
    "### Стандартизируем значения числовых входных признаков:"
   ]
  },
  {
   "cell_type": "code",
   "execution_count": 59,
   "metadata": {},
   "outputs": [],
   "source": [
    "data_numerical = X[numerical_columns]\n",
    "data_numerical = (data_numerical - data_numerical.mean()) / data_numerical.std()"
   ]
  },
  {
   "cell_type": "code",
   "execution_count": 60,
   "metadata": {},
   "outputs": [
    {
     "data": {
      "text/html": [
       "<div>\n",
       "<style>\n",
       "    .dataframe thead tr:only-child th {\n",
       "        text-align: right;\n",
       "    }\n",
       "\n",
       "    .dataframe thead th {\n",
       "        text-align: left;\n",
       "    }\n",
       "\n",
       "    .dataframe tbody tr th {\n",
       "        vertical-align: top;\n",
       "    }\n",
       "</style>\n",
       "<table border=\"1\" class=\"dataframe\">\n",
       "  <thead>\n",
       "    <tr style=\"text-align: right;\">\n",
       "      <th></th>\n",
       "      <th>LotFrontage</th>\n",
       "      <th>LotArea</th>\n",
       "      <th>MasVnrArea</th>\n",
       "      <th>BsmtFinSF1</th>\n",
       "      <th>BsmtFinSF2</th>\n",
       "      <th>BsmtUnfSF</th>\n",
       "      <th>LowQualFinSF</th>\n",
       "      <th>GrLivArea</th>\n",
       "      <th>BsmtFullBath</th>\n",
       "      <th>BsmtHalfBath</th>\n",
       "      <th>...</th>\n",
       "      <th>GarageCars</th>\n",
       "      <th>GarageArea</th>\n",
       "      <th>WoodDeckSF</th>\n",
       "      <th>OpenPorchSF</th>\n",
       "      <th>EnclosedPorch</th>\n",
       "      <th>3SsnPorch</th>\n",
       "      <th>ScreenPorch</th>\n",
       "      <th>PoolArea</th>\n",
       "      <th>MiscVal</th>\n",
       "      <th>TotalSF</th>\n",
       "    </tr>\n",
       "  </thead>\n",
       "  <tbody>\n",
       "    <tr>\n",
       "      <th>count</th>\n",
       "      <td>1.434000e+03</td>\n",
       "      <td>1.434000e+03</td>\n",
       "      <td>1.434000e+03</td>\n",
       "      <td>1.434000e+03</td>\n",
       "      <td>1.434000e+03</td>\n",
       "      <td>1.434000e+03</td>\n",
       "      <td>1.434000e+03</td>\n",
       "      <td>1.434000e+03</td>\n",
       "      <td>1.434000e+03</td>\n",
       "      <td>1.434000e+03</td>\n",
       "      <td>...</td>\n",
       "      <td>1.434000e+03</td>\n",
       "      <td>1.434000e+03</td>\n",
       "      <td>1.434000e+03</td>\n",
       "      <td>1.434000e+03</td>\n",
       "      <td>1.434000e+03</td>\n",
       "      <td>1.434000e+03</td>\n",
       "      <td>1.434000e+03</td>\n",
       "      <td>1.434000e+03</td>\n",
       "      <td>1.434000e+03</td>\n",
       "      <td>1.434000e+03</td>\n",
       "    </tr>\n",
       "    <tr>\n",
       "      <th>mean</th>\n",
       "      <td>-1.183630e-14</td>\n",
       "      <td>7.156642e-17</td>\n",
       "      <td>6.124034e-16</td>\n",
       "      <td>9.445412e-18</td>\n",
       "      <td>8.872494e-17</td>\n",
       "      <td>-9.112500e-17</td>\n",
       "      <td>-4.782127e-16</td>\n",
       "      <td>-2.180961e-16</td>\n",
       "      <td>-1.173709e-16</td>\n",
       "      <td>-2.441871e-16</td>\n",
       "      <td>...</td>\n",
       "      <td>1.820952e-16</td>\n",
       "      <td>3.375573e-17</td>\n",
       "      <td>-4.149788e-17</td>\n",
       "      <td>-7.629880e-17</td>\n",
       "      <td>-9.468638e-17</td>\n",
       "      <td>-7.136512e-16</td>\n",
       "      <td>-2.520841e-16</td>\n",
       "      <td>-2.737428e-16</td>\n",
       "      <td>-1.914244e-17</td>\n",
       "      <td>2.385499e-16</td>\n",
       "    </tr>\n",
       "    <tr>\n",
       "      <th>std</th>\n",
       "      <td>1.000000e+00</td>\n",
       "      <td>1.000000e+00</td>\n",
       "      <td>1.000000e+00</td>\n",
       "      <td>1.000000e+00</td>\n",
       "      <td>1.000000e+00</td>\n",
       "      <td>1.000000e+00</td>\n",
       "      <td>1.000000e+00</td>\n",
       "      <td>1.000000e+00</td>\n",
       "      <td>1.000000e+00</td>\n",
       "      <td>1.000000e+00</td>\n",
       "      <td>...</td>\n",
       "      <td>1.000000e+00</td>\n",
       "      <td>1.000000e+00</td>\n",
       "      <td>1.000000e+00</td>\n",
       "      <td>1.000000e+00</td>\n",
       "      <td>1.000000e+00</td>\n",
       "      <td>1.000000e+00</td>\n",
       "      <td>1.000000e+00</td>\n",
       "      <td>1.000000e+00</td>\n",
       "      <td>1.000000e+00</td>\n",
       "      <td>1.000000e+00</td>\n",
       "    </tr>\n",
       "    <tr>\n",
       "      <th>min</th>\n",
       "      <td>-2.243873e+00</td>\n",
       "      <td>-9.190811e-01</td>\n",
       "      <td>-5.819738e-01</td>\n",
       "      <td>-9.832166e-01</td>\n",
       "      <td>-2.899835e-01</td>\n",
       "      <td>-1.285101e+00</td>\n",
       "      <td>-1.188277e-01</td>\n",
       "      <td>-2.140587e+00</td>\n",
       "      <td>-8.178840e-01</td>\n",
       "      <td>-2.416723e-01</td>\n",
       "      <td>...</td>\n",
       "      <td>-2.409462e+00</td>\n",
       "      <td>-2.255741e+00</td>\n",
       "      <td>-7.532565e-01</td>\n",
       "      <td>-7.089580e-01</td>\n",
       "      <td>-3.587400e-01</td>\n",
       "      <td>-1.173627e-01</td>\n",
       "      <td>-2.680081e-01</td>\n",
       "      <td>-6.403554e-02</td>\n",
       "      <td>-8.492819e-02</td>\n",
       "      <td>-2.355110e+00</td>\n",
       "    </tr>\n",
       "    <tr>\n",
       "      <th>25%</th>\n",
       "      <td>-4.506513e-01</td>\n",
       "      <td>-2.921436e-01</td>\n",
       "      <td>-5.819738e-01</td>\n",
       "      <td>-9.832166e-01</td>\n",
       "      <td>-2.899835e-01</td>\n",
       "      <td>-7.845855e-01</td>\n",
       "      <td>-1.188277e-01</td>\n",
       "      <td>-7.477691e-01</td>\n",
       "      <td>-8.178840e-01</td>\n",
       "      <td>-2.416723e-01</td>\n",
       "      <td>...</td>\n",
       "      <td>-1.043783e+00</td>\n",
       "      <td>-6.493422e-01</td>\n",
       "      <td>-7.532565e-01</td>\n",
       "      <td>-7.089580e-01</td>\n",
       "      <td>-3.587400e-01</td>\n",
       "      <td>-1.173627e-01</td>\n",
       "      <td>-2.680081e-01</td>\n",
       "      <td>-6.403554e-02</td>\n",
       "      <td>-8.492819e-02</td>\n",
       "      <td>-6.891832e-01</td>\n",
       "    </tr>\n",
       "    <tr>\n",
       "      <th>50%</th>\n",
       "      <td>-1.176148e-14</td>\n",
       "      <td>-9.897716e-02</td>\n",
       "      <td>-5.819738e-01</td>\n",
       "      <td>-1.227050e-01</td>\n",
       "      <td>-2.899835e-01</td>\n",
       "      <td>-2.079420e-01</td>\n",
       "      <td>-1.188277e-01</td>\n",
       "      <td>-9.397724e-02</td>\n",
       "      <td>-8.178840e-01</td>\n",
       "      <td>-2.416723e-01</td>\n",
       "      <td>...</td>\n",
       "      <td>3.218965e-01</td>\n",
       "      <td>2.955253e-02</td>\n",
       "      <td>-7.532565e-01</td>\n",
       "      <td>-3.379363e-01</td>\n",
       "      <td>-3.587400e-01</td>\n",
       "      <td>-1.173627e-01</td>\n",
       "      <td>-2.680081e-01</td>\n",
       "      <td>-6.403554e-02</td>\n",
       "      <td>-8.492819e-02</td>\n",
       "      <td>-1.017196e-01</td>\n",
       "    </tr>\n",
       "    <tr>\n",
       "      <th>75%</th>\n",
       "      <td>3.769894e-01</td>\n",
       "      <td>1.049821e-01</td>\n",
       "      <td>3.528481e-01</td>\n",
       "      <td>5.983097e-01</td>\n",
       "      <td>-2.899835e-01</td>\n",
       "      <td>5.510685e-01</td>\n",
       "      <td>-1.188277e-01</td>\n",
       "      <td>5.267240e-01</td>\n",
       "      <td>1.107971e+00</td>\n",
       "      <td>-2.416723e-01</td>\n",
       "      <td>...</td>\n",
       "      <td>3.218965e-01</td>\n",
       "      <td>4.980855e-01</td>\n",
       "      <td>5.936286e-01</td>\n",
       "      <td>3.345405e-01</td>\n",
       "      <td>-3.587400e-01</td>\n",
       "      <td>-1.173627e-01</td>\n",
       "      <td>-2.680081e-01</td>\n",
       "      <td>-6.403554e-02</td>\n",
       "      <td>-8.492819e-02</td>\n",
       "      <td>5.654873e-01</td>\n",
       "    </tr>\n",
       "    <tr>\n",
       "      <th>max</th>\n",
       "      <td>1.118230e+01</td>\n",
       "      <td>2.056064e+01</td>\n",
       "      <td>8.722630e+00</td>\n",
       "      <td>1.166451e+01</td>\n",
       "      <td>8.801021e+00</td>\n",
       "      <td>4.023428e+00</td>\n",
       "      <td>1.118259e+01</td>\n",
       "      <td>8.296018e+00</td>\n",
       "      <td>4.959681e+00</td>\n",
       "      <td>8.109124e+00</td>\n",
       "      <td>...</td>\n",
       "      <td>3.053255e+00</td>\n",
       "      <td>4.523644e+00</td>\n",
       "      <td>6.117461e+00</td>\n",
       "      <td>7.747245e+00</td>\n",
       "      <td>8.636100e+00</td>\n",
       "      <td>1.705729e+01</td>\n",
       "      <td>8.513604e+00</td>\n",
       "      <td>1.944887e+01</td>\n",
       "      <td>3.140821e+01</td>\n",
       "      <td>1.183405e+01</td>\n",
       "    </tr>\n",
       "  </tbody>\n",
       "</table>\n",
       "<p>8 rows × 25 columns</p>\n",
       "</div>"
      ],
      "text/plain": [
       "        LotFrontage       LotArea    MasVnrArea    BsmtFinSF1    BsmtFinSF2  \\\n",
       "count  1.434000e+03  1.434000e+03  1.434000e+03  1.434000e+03  1.434000e+03   \n",
       "mean  -1.183630e-14  7.156642e-17  6.124034e-16  9.445412e-18  8.872494e-17   \n",
       "std    1.000000e+00  1.000000e+00  1.000000e+00  1.000000e+00  1.000000e+00   \n",
       "min   -2.243873e+00 -9.190811e-01 -5.819738e-01 -9.832166e-01 -2.899835e-01   \n",
       "25%   -4.506513e-01 -2.921436e-01 -5.819738e-01 -9.832166e-01 -2.899835e-01   \n",
       "50%   -1.176148e-14 -9.897716e-02 -5.819738e-01 -1.227050e-01 -2.899835e-01   \n",
       "75%    3.769894e-01  1.049821e-01  3.528481e-01  5.983097e-01 -2.899835e-01   \n",
       "max    1.118230e+01  2.056064e+01  8.722630e+00  1.166451e+01  8.801021e+00   \n",
       "\n",
       "          BsmtUnfSF  LowQualFinSF     GrLivArea  BsmtFullBath  BsmtHalfBath  \\\n",
       "count  1.434000e+03  1.434000e+03  1.434000e+03  1.434000e+03  1.434000e+03   \n",
       "mean  -9.112500e-17 -4.782127e-16 -2.180961e-16 -1.173709e-16 -2.441871e-16   \n",
       "std    1.000000e+00  1.000000e+00  1.000000e+00  1.000000e+00  1.000000e+00   \n",
       "min   -1.285101e+00 -1.188277e-01 -2.140587e+00 -8.178840e-01 -2.416723e-01   \n",
       "25%   -7.845855e-01 -1.188277e-01 -7.477691e-01 -8.178840e-01 -2.416723e-01   \n",
       "50%   -2.079420e-01 -1.188277e-01 -9.397724e-02 -8.178840e-01 -2.416723e-01   \n",
       "75%    5.510685e-01 -1.188277e-01  5.267240e-01  1.107971e+00 -2.416723e-01   \n",
       "max    4.023428e+00  1.118259e+01  8.296018e+00  4.959681e+00  8.109124e+00   \n",
       "\n",
       "           ...         GarageCars    GarageArea    WoodDeckSF   OpenPorchSF  \\\n",
       "count      ...       1.434000e+03  1.434000e+03  1.434000e+03  1.434000e+03   \n",
       "mean       ...       1.820952e-16  3.375573e-17 -4.149788e-17 -7.629880e-17   \n",
       "std        ...       1.000000e+00  1.000000e+00  1.000000e+00  1.000000e+00   \n",
       "min        ...      -2.409462e+00 -2.255741e+00 -7.532565e-01 -7.089580e-01   \n",
       "25%        ...      -1.043783e+00 -6.493422e-01 -7.532565e-01 -7.089580e-01   \n",
       "50%        ...       3.218965e-01  2.955253e-02 -7.532565e-01 -3.379363e-01   \n",
       "75%        ...       3.218965e-01  4.980855e-01  5.936286e-01  3.345405e-01   \n",
       "max        ...       3.053255e+00  4.523644e+00  6.117461e+00  7.747245e+00   \n",
       "\n",
       "       EnclosedPorch     3SsnPorch   ScreenPorch      PoolArea       MiscVal  \\\n",
       "count   1.434000e+03  1.434000e+03  1.434000e+03  1.434000e+03  1.434000e+03   \n",
       "mean   -9.468638e-17 -7.136512e-16 -2.520841e-16 -2.737428e-16 -1.914244e-17   \n",
       "std     1.000000e+00  1.000000e+00  1.000000e+00  1.000000e+00  1.000000e+00   \n",
       "min    -3.587400e-01 -1.173627e-01 -2.680081e-01 -6.403554e-02 -8.492819e-02   \n",
       "25%    -3.587400e-01 -1.173627e-01 -2.680081e-01 -6.403554e-02 -8.492819e-02   \n",
       "50%    -3.587400e-01 -1.173627e-01 -2.680081e-01 -6.403554e-02 -8.492819e-02   \n",
       "75%    -3.587400e-01 -1.173627e-01 -2.680081e-01 -6.403554e-02 -8.492819e-02   \n",
       "max     8.636100e+00  1.705729e+01  8.513604e+00  1.944887e+01  3.140821e+01   \n",
       "\n",
       "            TotalSF  \n",
       "count  1.434000e+03  \n",
       "mean   2.385499e-16  \n",
       "std    1.000000e+00  \n",
       "min   -2.355110e+00  \n",
       "25%   -6.891832e-01  \n",
       "50%   -1.017196e-01  \n",
       "75%    5.654873e-01  \n",
       "max    1.183405e+01  \n",
       "\n",
       "[8 rows x 25 columns]"
      ]
     },
     "execution_count": 60,
     "metadata": {},
     "output_type": "execute_result"
    }
   ],
   "source": [
    "data_numerical.describe()"
   ]
  },
  {
   "cell_type": "code",
   "execution_count": 61,
   "metadata": {},
   "outputs": [],
   "source": [
    "# ax = sns.pairplot(data_numerical)"
   ]
  },
  {
   "cell_type": "markdown",
   "metadata": {},
   "source": [
    "## Соединим все столбцы в одну таблицу:"
   ]
  },
  {
   "cell_type": "code",
   "execution_count": 62,
   "metadata": {},
   "outputs": [],
   "source": [
    "X = pd.concat((data_numerical, X[binary_columns], data_nonbinary), axis=1)\n",
    "X = pd.DataFrame(X, dtype=float)"
   ]
  },
  {
   "cell_type": "code",
   "execution_count": 63,
   "metadata": {},
   "outputs": [],
   "source": [
    "X.drop(['Utilities', 'RoofMatl', 'MasVnrArea', 'BsmtFinSF1', 'BsmtFinSF2', 'BsmtUnfSF', 'Heating', 'LowQualFinSF',\n",
    "               'BsmtFullBath', 'BsmtHalfBath', 'Functional', 'GarageYrBlt', 'GarageArea', 'GarageCond', 'WoodDeckSF',\n",
    "               'OpenPorchSF', 'EnclosedPorch', '3SsnPorch', 'ScreenPorch', 'PoolArea', 'PoolQC', 'Fence', 'MiscFeature', 'MiscVal'],\n",
    "              axis=1, inplace=True)"
   ]
  },
  {
   "cell_type": "code",
   "execution_count": 64,
   "metadata": {},
   "outputs": [
    {
     "data": {
      "text/plain": [
       "(1434, 53)"
      ]
     },
     "execution_count": 64,
     "metadata": {},
     "output_type": "execute_result"
    }
   ],
   "source": [
    "X.shape"
   ]
  },
  {
   "cell_type": "code",
   "execution_count": 65,
   "metadata": {},
   "outputs": [
    {
     "data": {
      "text/plain": [
       "(1434,)"
      ]
     },
     "execution_count": 65,
     "metadata": {},
     "output_type": "execute_result"
    }
   ],
   "source": [
    "y.shape"
   ]
  },
  {
   "cell_type": "code",
   "execution_count": 66,
   "metadata": {},
   "outputs": [
    {
     "data": {
      "text/html": [
       "<div>\n",
       "<style>\n",
       "    .dataframe thead tr:only-child th {\n",
       "        text-align: right;\n",
       "    }\n",
       "\n",
       "    .dataframe thead th {\n",
       "        text-align: left;\n",
       "    }\n",
       "\n",
       "    .dataframe tbody tr th {\n",
       "        vertical-align: top;\n",
       "    }\n",
       "</style>\n",
       "<table border=\"1\" class=\"dataframe\">\n",
       "  <thead>\n",
       "    <tr style=\"text-align: right;\">\n",
       "      <th></th>\n",
       "      <th>LotFrontage</th>\n",
       "      <th>LotArea</th>\n",
       "      <th>GrLivArea</th>\n",
       "      <th>FullBath</th>\n",
       "      <th>HalfBath</th>\n",
       "      <th>BedroomAbvGr</th>\n",
       "      <th>TotRmsAbvGrd</th>\n",
       "      <th>Fireplaces</th>\n",
       "      <th>GarageCars</th>\n",
       "      <th>TotalSF</th>\n",
       "      <th>...</th>\n",
       "      <th>KitchenQual</th>\n",
       "      <th>FireplaceQu</th>\n",
       "      <th>GarageType</th>\n",
       "      <th>GarageFinish</th>\n",
       "      <th>GarageQual</th>\n",
       "      <th>PavedDrive</th>\n",
       "      <th>MoSold</th>\n",
       "      <th>YrSold</th>\n",
       "      <th>SaleType</th>\n",
       "      <th>SaleCondition</th>\n",
       "    </tr>\n",
       "    <tr>\n",
       "      <th>Id</th>\n",
       "      <th></th>\n",
       "      <th></th>\n",
       "      <th></th>\n",
       "      <th></th>\n",
       "      <th></th>\n",
       "      <th></th>\n",
       "      <th></th>\n",
       "      <th></th>\n",
       "      <th></th>\n",
       "      <th></th>\n",
       "      <th></th>\n",
       "      <th></th>\n",
       "      <th></th>\n",
       "      <th></th>\n",
       "      <th></th>\n",
       "      <th></th>\n",
       "      <th></th>\n",
       "      <th></th>\n",
       "      <th></th>\n",
       "      <th></th>\n",
       "      <th></th>\n",
       "    </tr>\n",
       "  </thead>\n",
       "  <tbody>\n",
       "    <tr>\n",
       "      <th>1</th>\n",
       "      <td>-0.220751</td>\n",
       "      <td>-0.201233</td>\n",
       "      <td>0.410405</td>\n",
       "      <td>0.811495</td>\n",
       "      <td>1.231877</td>\n",
       "      <td>0.159989</td>\n",
       "      <td>0.956487</td>\n",
       "      <td>-0.950766</td>\n",
       "      <td>0.321896</td>\n",
       "      <td>0.019182</td>\n",
       "      <td>...</td>\n",
       "      <td>0.0</td>\n",
       "      <td>0.0</td>\n",
       "      <td>0.0</td>\n",
       "      <td>0.0</td>\n",
       "      <td>0.0</td>\n",
       "      <td>0.0</td>\n",
       "      <td>0.0</td>\n",
       "      <td>0.0</td>\n",
       "      <td>0.0</td>\n",
       "      <td>0.0</td>\n",
       "    </tr>\n",
       "    <tr>\n",
       "      <th>2</th>\n",
       "      <td>0.468949</td>\n",
       "      <td>-0.085775</td>\n",
       "      <td>-0.488057</td>\n",
       "      <td>0.811495</td>\n",
       "      <td>-0.757438</td>\n",
       "      <td>0.159989</td>\n",
       "      <td>-0.312340</td>\n",
       "      <td>0.610973</td>\n",
       "      <td>0.321896</td>\n",
       "      <td>-0.034838</td>\n",
       "      <td>...</td>\n",
       "      <td>1.0</td>\n",
       "      <td>1.0</td>\n",
       "      <td>0.0</td>\n",
       "      <td>0.0</td>\n",
       "      <td>0.0</td>\n",
       "      <td>0.0</td>\n",
       "      <td>1.0</td>\n",
       "      <td>1.0</td>\n",
       "      <td>0.0</td>\n",
       "      <td>0.0</td>\n",
       "    </tr>\n",
       "    <tr>\n",
       "      <th>3</th>\n",
       "      <td>-0.082811</td>\n",
       "      <td>0.079882</td>\n",
       "      <td>0.562823</td>\n",
       "      <td>0.811495</td>\n",
       "      <td>1.231877</td>\n",
       "      <td>0.159989</td>\n",
       "      <td>-0.312340</td>\n",
       "      <td>0.610973</td>\n",
       "      <td>0.321896</td>\n",
       "      <td>0.199247</td>\n",
       "      <td>...</td>\n",
       "      <td>0.0</td>\n",
       "      <td>1.0</td>\n",
       "      <td>0.0</td>\n",
       "      <td>0.0</td>\n",
       "      <td>0.0</td>\n",
       "      <td>0.0</td>\n",
       "      <td>2.0</td>\n",
       "      <td>0.0</td>\n",
       "      <td>0.0</td>\n",
       "      <td>0.0</td>\n",
       "    </tr>\n",
       "    <tr>\n",
       "      <th>4</th>\n",
       "      <td>-0.450651</td>\n",
       "      <td>-0.090795</td>\n",
       "      <td>0.424444</td>\n",
       "      <td>-1.032695</td>\n",
       "      <td>-0.757438</td>\n",
       "      <td>0.159989</td>\n",
       "      <td>0.322073</td>\n",
       "      <td>0.610973</td>\n",
       "      <td>1.687576</td>\n",
       "      <td>-0.100433</td>\n",
       "      <td>...</td>\n",
       "      <td>0.0</td>\n",
       "      <td>2.0</td>\n",
       "      <td>1.0</td>\n",
       "      <td>1.0</td>\n",
       "      <td>0.0</td>\n",
       "      <td>0.0</td>\n",
       "      <td>0.0</td>\n",
       "      <td>2.0</td>\n",
       "      <td>0.0</td>\n",
       "      <td>1.0</td>\n",
       "    </tr>\n",
       "    <tr>\n",
       "      <th>5</th>\n",
       "      <td>0.652870</td>\n",
       "      <td>0.382082</td>\n",
       "      <td>1.389088</td>\n",
       "      <td>0.811495</td>\n",
       "      <td>1.231877</td>\n",
       "      <td>1.393453</td>\n",
       "      <td>1.590901</td>\n",
       "      <td>0.610973</td>\n",
       "      <td>1.687576</td>\n",
       "      <td>1.018545</td>\n",
       "      <td>...</td>\n",
       "      <td>0.0</td>\n",
       "      <td>1.0</td>\n",
       "      <td>0.0</td>\n",
       "      <td>0.0</td>\n",
       "      <td>0.0</td>\n",
       "      <td>0.0</td>\n",
       "      <td>3.0</td>\n",
       "      <td>0.0</td>\n",
       "      <td>0.0</td>\n",
       "      <td>0.0</td>\n",
       "    </tr>\n",
       "  </tbody>\n",
       "</table>\n",
       "<p>5 rows × 53 columns</p>\n",
       "</div>"
      ],
      "text/plain": [
       "    LotFrontage   LotArea  GrLivArea  FullBath  HalfBath  BedroomAbvGr  \\\n",
       "Id                                                                       \n",
       "1     -0.220751 -0.201233   0.410405  0.811495  1.231877      0.159989   \n",
       "2      0.468949 -0.085775  -0.488057  0.811495 -0.757438      0.159989   \n",
       "3     -0.082811  0.079882   0.562823  0.811495  1.231877      0.159989   \n",
       "4     -0.450651 -0.090795   0.424444 -1.032695 -0.757438      0.159989   \n",
       "5      0.652870  0.382082   1.389088  0.811495  1.231877      1.393453   \n",
       "\n",
       "    TotRmsAbvGrd  Fireplaces  GarageCars   TotalSF      ...        \\\n",
       "Id                                                      ...         \n",
       "1       0.956487   -0.950766    0.321896  0.019182      ...         \n",
       "2      -0.312340    0.610973    0.321896 -0.034838      ...         \n",
       "3      -0.312340    0.610973    0.321896  0.199247      ...         \n",
       "4       0.322073    0.610973    1.687576 -0.100433      ...         \n",
       "5       1.590901    0.610973    1.687576  1.018545      ...         \n",
       "\n",
       "    KitchenQual  FireplaceQu  GarageType  GarageFinish  GarageQual  \\\n",
       "Id                                                                   \n",
       "1           0.0          0.0         0.0           0.0         0.0   \n",
       "2           1.0          1.0         0.0           0.0         0.0   \n",
       "3           0.0          1.0         0.0           0.0         0.0   \n",
       "4           0.0          2.0         1.0           1.0         0.0   \n",
       "5           0.0          1.0         0.0           0.0         0.0   \n",
       "\n",
       "    PavedDrive  MoSold  YrSold  SaleType  SaleCondition  \n",
       "Id                                                       \n",
       "1          0.0     0.0     0.0       0.0            0.0  \n",
       "2          0.0     1.0     1.0       0.0            0.0  \n",
       "3          0.0     2.0     0.0       0.0            0.0  \n",
       "4          0.0     0.0     2.0       0.0            1.0  \n",
       "5          0.0     3.0     0.0       0.0            0.0  \n",
       "\n",
       "[5 rows x 53 columns]"
      ]
     },
     "execution_count": 66,
     "metadata": {},
     "output_type": "execute_result"
    }
   ],
   "source": [
    "X.head()"
   ]
  },
  {
   "cell_type": "code",
   "execution_count": 67,
   "metadata": {},
   "outputs": [],
   "source": [
    "df = pd.concat([X, y], axis=1)"
   ]
  },
  {
   "cell_type": "code",
   "execution_count": 68,
   "metadata": {},
   "outputs": [],
   "source": [
    "df.to_csv(\"df_train.csv\")"
   ]
  },
  {
   "cell_type": "code",
   "execution_count": 69,
   "metadata": {},
   "outputs": [],
   "source": [
    "feature_names = X.columns"
   ]
  },
  {
   "cell_type": "code",
   "execution_count": 70,
   "metadata": {},
   "outputs": [
    {
     "data": {
      "text/plain": [
       "(1434, 54)"
      ]
     },
     "execution_count": 70,
     "metadata": {},
     "output_type": "execute_result"
    }
   ],
   "source": [
    "df.shape"
   ]
  },
  {
   "cell_type": "code",
   "execution_count": 71,
   "metadata": {},
   "outputs": [
    {
     "name": "stdout",
     "output_type": "stream",
     "text": [
      "SalePrice: 1.0\n",
      "TotalSF: 0.7575948544489637\n",
      "GrLivArea: 0.67632912961\n",
      "GarageCars: 0.6645185249227358\n",
      "FullBath: 0.5815680798179793\n",
      "TotRmsAbvGrd: 0.49861246571843293\n",
      "Fireplaces: 0.47442155253092294\n",
      "FireplaceQu: 0.3984713453141939\n",
      "LotFrontage: 0.3248688874779222\n",
      "HalfBath: 0.29505437525366957\n",
      "LotShape: 0.28309207070552694\n",
      "LotArea: 0.24383158650290265\n",
      "BedroomAbvGr: 0.19006508903627564\n",
      "RoofStyle: 0.13213033659183826\n",
      "BsmtExposure: 0.11574886186598661\n",
      "SaleCondition: 0.10410901209356631\n",
      "LotConfig: 0.10249591771544542\n",
      "LandContour: 0.09225787719751606\n",
      "LandSlope: 0.06201676960399362\n",
      "SaleType: 0.029975438093036776\n",
      "MoSold: -0.01212518848917669\n",
      "Condition2: -0.013456617915008916\n",
      "YearRemodAdd: -0.029285413476476823\n",
      "YrSold: -0.029559690385830006\n",
      "Street: -0.033427089846403114\n",
      "Condition1: -0.04320769425494892\n",
      "MasVnrType: -0.06288192766132901\n",
      "BsmtFinType2: -0.07350002832767329\n",
      "Alley: -0.07391902329987872\n",
      "GarageFinish: -0.0806808200945182\n",
      "BldgType: -0.11091737327880732\n",
      "ExterCond: -0.14457648093898484\n",
      "Exterior1st: -0.14972233319665285\n",
      "KitchenAbvGr: -0.1532547083578703\n",
      "Neighborhood: -0.17710637844433194\n",
      "MSZoning: -0.18601164760674377\n",
      "YearBuilt: -0.20127992448964527\n",
      "HouseStyle: -0.20269617717386534\n",
      "BsmtCond: -0.21357395578871577\n",
      "Exterior2nd: -0.22056987527329794\n",
      "PavedDrive: -0.23895705072918305\n",
      "BsmtQual: -0.24082868866012733\n",
      "Electrical: -0.2773796803923685\n",
      "KitchenQual: -0.28192700732207704\n",
      "CentralAir: -0.3008945635724997\n",
      "GarageQual: -0.31201065901496816\n",
      "OverallCond: -0.3141275551906124\n",
      "GarageType: -0.32850050326188485\n",
      "MSSubClass: -0.3390012218908095\n",
      "OverallQual: -0.38712365639510565\n",
      "BsmtFinType1: -0.3883102841063059\n",
      "ExterQual: -0.42440130928255954\n",
      "HeatingQC: -0.4558033437642898\n",
      "Foundation: -0.47951630293301434\n"
     ]
    }
   ],
   "source": [
    "#fig, ax = plt.subplots(figsize=(30, 30))\n",
    "#sns.heatmap(df.corr(), ax=ax)\n",
    "target_feature_corr = df.corr().loc[PD_TARGET_VARIABLE_COLUMN_NAME].sort_values(ascending=False)\n",
    "for feature, val in target_feature_corr.iteritems():\n",
    "    print('{0}: {1}'.format(feature, val))"
   ]
  },
  {
   "cell_type": "markdown",
   "metadata": {},
   "source": [
    "# Обучающая и тестовая выборки"
   ]
  },
  {
   "cell_type": "markdown",
   "metadata": {},
   "source": [
    "### Разобьём данные на обучающую/тестовую выборки в отношении\n",
    "#### $ (1 - $ SKLEARN_TEST_SPLIT_TEST_SIZE$)$  :  SKLEARN_TEST_SPLIT_TEST_SIZE (70% :  30%):"
   ]
  },
  {
   "cell_type": "code",
   "execution_count": 72,
   "metadata": {},
   "outputs": [],
   "source": [
    "X_train, X_test, y_train, y_test = train_test_split(X, y, test_size = SKLEARN_TEST_SPLIT_TEST_SIZE,\n",
    "                                                    random_state = SKLEARN_TEST_SPLIT_RANDOM_STATE)"
   ]
  },
  {
   "cell_type": "code",
   "execution_count": 73,
   "metadata": {},
   "outputs": [
    {
     "name": "stdout",
     "output_type": "stream",
     "text": [
      "1003\n",
      "431\n"
     ]
    }
   ],
   "source": [
    "n_train, _ = X_train.shape \n",
    "n_test,  _ = X_test.shape \n",
    "print(n_train)\n",
    "print(n_test)"
   ]
  },
  {
   "cell_type": "code",
   "execution_count": 74,
   "metadata": {},
   "outputs": [
    {
     "name": "stdout",
     "output_type": "stream",
     "text": [
      "1003\n",
      "431\n"
     ]
    }
   ],
   "source": [
    "print(y_train.shape[0])\n",
    "print(y_test.shape[0])"
   ]
  },
  {
   "cell_type": "markdown",
   "metadata": {},
   "source": [
    "# Обучение модели из sklearn "
   ]
  },
  {
   "cell_type": "markdown",
   "metadata": {},
   "source": [
    "### Отберём признаки (Feature Selection) с помощью алгоритма случайного леса:"
   ]
  },
  {
   "cell_type": "code",
   "execution_count": 75,
   "metadata": {},
   "outputs": [
    {
     "data": {
      "text/plain": [
       "RandomForestRegressor(bootstrap=True, criterion='mse', max_depth=None,\n",
       "           max_features='auto', max_leaf_nodes=None,\n",
       "           min_impurity_decrease=0.0, min_impurity_split=None,\n",
       "           min_samples_leaf=1, min_samples_split=2,\n",
       "           min_weight_fraction_leaf=0.0, n_estimators=100, n_jobs=1,\n",
       "           oob_score=False, random_state=13, verbose=0, warm_start=False)"
      ]
     },
     "execution_count": 75,
     "metadata": {},
     "output_type": "execute_result"
    }
   ],
   "source": [
    "rf = ensemble.RandomForestRegressor(n_estimators=SKLEARN_RANDOM_FOREST_CLASSIFIER_N_ESTIMATORS, \n",
    "                                     random_state=SKLEARN_RANDOM_FOREST_CLASSIFIER_RANDOM_STATE)\n",
    "rf.fit(X_train, y_train)"
   ]
  },
  {
   "cell_type": "code",
   "execution_count": 76,
   "metadata": {},
   "outputs": [],
   "source": [
    "importances = rf.feature_importances_\n",
    "indices = np.argsort(importances)[::-1]"
   ]
  },
  {
   "cell_type": "code",
   "execution_count": 77,
   "metadata": {},
   "outputs": [
    {
     "name": "stdout",
     "output_type": "stream",
     "text": [
      "Feature importances:\n",
      " 1. feature 'TotalSF' (0.6478)\n",
      " 2. feature 'GarageCars' (0.0389)\n",
      " 3. feature 'OverallQual' (0.0328)\n",
      " 4. feature 'ExterQual' (0.0291)\n",
      " 5. feature 'KitchenAbvGr' (0.0221)\n",
      " 6. feature 'GrLivArea' (0.0184)\n",
      " 7. feature 'LotArea' (0.0177)\n",
      " 8. feature 'BsmtQual' (0.0170)\n",
      " 9. feature 'Foundation' (0.0148)\n",
      "10. feature 'BsmtFinType1' (0.0139)\n",
      "11. feature 'OverallCond' (0.0118)\n",
      "12. feature 'Neighborhood' (0.0110)\n",
      "13. feature 'KitchenQual' (0.0093)\n",
      "14. feature 'LotFrontage' (0.0089)\n",
      "15. feature 'YearBuilt' (0.0061)\n",
      "16. feature 'YearRemodAdd' (0.0061)\n",
      "17. feature 'HeatingQC' (0.0060)\n",
      "18. feature 'SaleCondition' (0.0060)\n",
      "19. feature 'MoSold' (0.0059)\n",
      "20. feature 'MSSubClass' (0.0051)\n",
      "21. feature 'GarageQual' (0.0042)\n",
      "22. feature 'FireplaceQu' (0.0040)\n",
      "23. feature 'Exterior1st' (0.0038)\n",
      "24. feature 'BedroomAbvGr' (0.0037)\n",
      "25. feature 'Exterior2nd' (0.0037)\n",
      "26. feature 'FullBath' (0.0036)\n",
      "27. feature 'YrSold' (0.0035)\n",
      "28. feature 'GarageType' (0.0033)\n",
      "29. feature 'BsmtExposure' (0.0030)\n",
      "30. feature 'HouseStyle' (0.0029)\n",
      "31. feature 'CentralAir' (0.0029)\n",
      "32. feature 'MSZoning' (0.0027)\n",
      "33. feature 'Condition1' (0.0027)\n",
      "34. feature 'Fireplaces' (0.0025)\n",
      "35. feature 'GarageFinish' (0.0023)\n",
      "36. feature 'TotRmsAbvGrd' (0.0023)\n",
      "37. feature 'BsmtCond' (0.0019)\n",
      "38. feature 'SaleType' (0.0018)\n",
      "39. feature 'Electrical' (0.0017)\n",
      "40. feature 'LandContour' (0.0016)\n",
      "41. feature 'MasVnrType' (0.0016)\n",
      "42. feature 'ExterCond' (0.0016)\n",
      "43. feature 'HalfBath' (0.0015)\n",
      "44. feature 'RoofStyle' (0.0015)\n",
      "45. feature 'BldgType' (0.0015)\n",
      "46. feature 'LotShape' (0.0015)\n",
      "47. feature 'LotConfig' (0.0012)\n",
      "48. feature 'BsmtFinType2' (0.0008)\n",
      "49. feature 'PavedDrive' (0.0008)\n",
      "50. feature 'Alley' (0.0006)\n",
      "51. feature 'LandSlope' (0.0005)\n",
      "52. feature 'Condition2' (0.0001)\n",
      "53. feature 'Street' (0.0000)\n"
     ]
    }
   ],
   "source": [
    "print(\"Feature importances:\")\n",
    "for f, idx in enumerate(indices):\n",
    "    print(\"{:2d}. feature '{:5s}' ({:.4f})\".format(f + 1, feature_names[idx], importances[idx]))"
   ]
  },
  {
   "cell_type": "code",
   "execution_count": 78,
   "metadata": {},
   "outputs": [
    {
     "data": {
      "image/png": "[encoded data removed]",
      "text/plain": [
       "<matplotlib.figure.Figure at 0x7faf49731470>"
      ]
     },
     "metadata": {},
     "output_type": "display_data"
    }
   ],
   "source": [
    "d_first = 20\n",
    "plt.figure(figsize=(8, 8))\n",
    "plt.title(\"Feature importances\")\n",
    "plt.bar(range(d_first), importances[indices[:d_first]], align='center', color='red')\n",
    "plt.xticks(range(d_first), np.array(feature_names)[indices[:d_first]], rotation=90)\n",
    "plt.xlim([-1, d_first]);"
   ]
  },
  {
   "cell_type": "code",
   "execution_count": 79,
   "metadata": {},
   "outputs": [],
   "source": [
    "analyze_x = []\n",
    "analyze_y = []\n",
    "for f in np.arange(1, 200, 1):\n",
    "    best_features = np.array(feature_names)[indices[:f]]\n",
    "    best_X = X[best_features]\n",
    "    best_X_train, best_X_test, best_y_train, best_y_test = train_test_split(best_X, y,\n",
    "                                                                            test_size = SKLEARN_TEST_SPLIT_TEST_SIZE,\n",
    "                                                                            random_state = SKLEARN_TEST_SPLIT_RANDOM_STATE)\n",
    "    clf = LinearRegression(n_jobs=SKLEARN_USED_CPUS_COUNT)\n",
    "    clf.fit(best_X_train, best_y_train)\n",
    "    predicted_best_y_test = clf.predict(best_X_test)\n",
    "    \n",
    "    analyze_x.append(f)\n",
    "    analyze_y.append(metrics.mean_absolute_error(np.exp(best_y_test), np.exp(predicted_best_y_test)))"
   ]
  },
  {
   "cell_type": "code",
   "execution_count": 80,
   "metadata": {},
   "outputs": [
    {
     "data": {
      "image/png": "[encoded data removed]",
      "text/plain": [
       "<matplotlib.figure.Figure at 0x7faf499a4ba8>"
      ]
     },
     "metadata": {},
     "output_type": "display_data"
    }
   ],
   "source": [
    "plt.plot(analyze_x, analyze_y, color='red')\n",
    "plt.show()"
   ]
  },
  {
   "cell_type": "code",
   "execution_count": 81,
   "metadata": {},
   "outputs": [],
   "source": [
    "min_mae, idx = min((val, idx) for (idx, val) in enumerate(analyze_y))"
   ]
  },
  {
   "cell_type": "code",
   "execution_count": 82,
   "metadata": {},
   "outputs": [
    {
     "data": {
      "text/plain": [
       "26943.499000954023"
      ]
     },
     "execution_count": 82,
     "metadata": {},
     "output_type": "execute_result"
    }
   ],
   "source": [
    "min_mae"
   ]
  },
  {
   "cell_type": "code",
   "execution_count": 83,
   "metadata": {},
   "outputs": [
    {
     "data": {
      "image/png": "[encoded data removed]",
      "text/plain": [
       "<matplotlib.figure.Figure at 0x7faf499160b8>"
      ]
     },
     "metadata": {},
     "output_type": "display_data"
    }
   ],
   "source": [
    "plt.plot(analyze_x[idx-16:idx+16], analyze_y[idx-16:idx+16], color='red')\n",
    "plt.show()"
   ]
  },
  {
   "cell_type": "code",
   "execution_count": 84,
   "metadata": {},
   "outputs": [],
   "source": [
    "best_X = X[best_features[0:idx+1]]\n",
    "best_X_train, best_X_test, best_y_train, best_y_test = train_test_split(best_X, y,\n",
    "                                                                            test_size = SKLEARN_TEST_SPLIT_TEST_SIZE,\n",
    "                                                                            random_state = SKLEARN_TEST_SPLIT_RANDOM_STATE)\n",
    "model = LinearRegression(n_jobs=SKLEARN_USED_CPUS_COUNT)\n",
    "model.fit(best_X_train, best_y_train)\n",
    "predicted_best_y_test = model.predict(best_X_test)"
   ]
  },
  {
   "cell_type": "code",
   "execution_count": 85,
   "metadata": {},
   "outputs": [],
   "source": [
    "mae = metrics.mean_absolute_error(np.exp(best_y_test), np.exp(predicted_best_y_test))"
   ]
  },
  {
   "cell_type": "code",
   "execution_count": 86,
   "metadata": {},
   "outputs": [
    {
     "data": {
      "text/plain": [
       "26943.499000954023"
      ]
     },
     "execution_count": 86,
     "metadata": {},
     "output_type": "execute_result"
    }
   ],
   "source": [
    "mae"
   ]
  },
  {
   "cell_type": "code",
   "execution_count": 87,
   "metadata": {},
   "outputs": [],
   "source": [
    "rmsle_best_test = np.sqrt(metrics.mean_squared_log_error(np.exp(best_y_test), np.exp(predicted_best_y_test)))"
   ]
  },
  {
   "cell_type": "code",
   "execution_count": 88,
   "metadata": {},
   "outputs": [
    {
     "data": {
      "text/plain": [
       "0.21095854829520888"
      ]
     },
     "execution_count": 88,
     "metadata": {},
     "output_type": "execute_result"
    }
   ],
   "source": [
    "rmsle_best_test"
   ]
  },
  {
   "cell_type": "markdown",
   "metadata": {},
   "source": [
    "## Реализация линейной регрессии"
   ]
  },
  {
   "cell_type": "code",
   "execution_count": 89,
   "metadata": {},
   "outputs": [],
   "source": [
    "class LinRegression:\n",
    "    \"\"\"Линейная регрессия.\"\"\"\n",
    "    def __init__(self):\n",
    "        self.w = []\n",
    "    \n",
    "    def computeCost(self, X, y):\n",
    "        tobesummed = np.power(((X @ self.w.T)-y),2)\n",
    "        return np.sum(tobesummed)/(2 * len(X))\n",
    "    \n",
    "    def fit(self, X, y, iters=3000, alpha=0.99):\n",
    "        \"(Градиентный спуск.)\"\n",
    "        ones = np.ones([X.shape[0],1])\n",
    "        X = np.hstack((ones,X))                          \n",
    "        y = y.values\n",
    "        self.w = np.array([-1.0] * X.shape[1])\n",
    "        \n",
    "        cost0 = self.computeCost(X, y)\n",
    "        \n",
    "        for i in range(iters):\n",
    "            w_tmp = self.w\n",
    "            self.w -= (alpha/X.shape[0]) * np.dot(X.T, (X @ self.w.T - y))\n",
    "            cost = self.computeCost(X, y)\n",
    "            \n",
    "            if (cost > cost0):\n",
    "                self.w = w_tmp\n",
    "                break\n",
    "    def fit2(self, X, y):\n",
    "        ones = np.ones([X.shape[0],1])\n",
    "        X = np.hstack((ones,X))                          \n",
    "        y = y.values\n",
    "        \n",
    "        self.w = np.dot(np.dot(np.linalg.inv(np.dot(X.T, X)), X.T), y)\n",
    "    \n",
    "    def fit3(self, X, y):\n",
    "        \"\"\"(QR разложение.)\"\"\"\n",
    "        ones = np.ones([X.shape[0],1])\n",
    "        X = np.hstack((ones,X))                          \n",
    "        y = y.values\n",
    "        \n",
    "        q, r = np.linalg.qr(X)\n",
    "        self.w = np.dot(np.dot(np.linalg.inv(r), q.T), y)\n",
    "        \n",
    "    def fit4(self, X, y, lmbd=0.1):\n",
    "        \"\"\"Ridge regression (гребневая регрессия).\"\"\"\n",
    "        ones = np.ones([X.shape[0],1])\n",
    "        X = np.hstack((ones,X))                          \n",
    "        y = y.values\n",
    "        \n",
    "        w = np.dot(np.dot(np.linalg.inv(np.dot(X.T, X) + lmbd * np.eye(X.shape[1])), X.T), y)\n",
    "        \n",
    "    def fit5(self, X, y, iters=3000, alpha=0.99, lmbd=0.1):\n",
    "        \"Lasso.\"\n",
    "        ones = np.ones([X.shape[0],1])\n",
    "        X = np.hstack((ones,X))                          \n",
    "        y = y.values\n",
    "        self.w = np.array([-1.0] * X.shape[1])\n",
    "        \n",
    "        cost0 = self.computeCost(X, y)\n",
    "        \n",
    "        for i in range(iters):\n",
    "            w_tmp = self.w\n",
    "            self.w -= (alpha/X.shape[0]) * np.dot(X.T, (X @ self.w.T - y)) + lmbd * np.sign(self.w)\n",
    "            cost = self.computeCost(X, y)\n",
    "            \n",
    "            if (cost > cost0):\n",
    "                self.w = w_tmp\n",
    "                break\n",
    "\n",
    "    def predict(self, X):\n",
    "        ones = np.ones([X.shape[0],1])\n",
    "        return np.dot(np.hstack((ones, X)), self.w)"
   ]
  },
  {
   "cell_type": "code",
   "execution_count": 90,
   "metadata": {},
   "outputs": [],
   "source": [
    "def calc_mae(y_true, y_pred):\n",
    "    mae = metrics.mean_absolute_error(y_true, y_pred)\n",
    "    return mae"
   ]
  },
  {
   "cell_type": "code",
   "execution_count": 91,
   "metadata": {},
   "outputs": [],
   "source": [
    "my_model = LinRegression()\n",
    "my_model.fit(best_X_train, best_y_train, iters=24000, alpha=0.01)"
   ]
  },
  {
   "cell_type": "code",
   "execution_count": 92,
   "metadata": {},
   "outputs": [],
   "source": [
    "my_y_predicted = my_model.predict(best_X_test)"
   ]
  },
  {
   "cell_type": "code",
   "execution_count": 94,
   "metadata": {},
   "outputs": [
    {
     "data": {
      "text/plain": [
       "2643.3520224932158"
      ]
     },
     "execution_count": 94,
     "metadata": {},
     "output_type": "execute_result"
    }
   ],
   "source": [
    "calc_mae(best_y_test, my_y_predicted)  # without exp"
   ]
  },
  {
   "cell_type": "code",
   "execution_count": 95,
   "metadata": {},
   "outputs": [],
   "source": [
    "my_model.fit2(best_X_train, best_y_train)\n",
    "my_y_predicted = my_model.predict(best_X_test)"
   ]
  },
  {
   "cell_type": "code",
   "execution_count": 97,
   "metadata": {},
   "outputs": [
    {
     "data": {
      "text/plain": [
       "26943.499000954111"
      ]
     },
     "execution_count": 97,
     "metadata": {},
     "output_type": "execute_result"
    }
   ],
   "source": [
    "calc_mae(np.exp(best_y_test), np.exp(my_y_predicted))"
   ]
  },
  {
   "cell_type": "code",
   "execution_count": 98,
   "metadata": {},
   "outputs": [],
   "source": [
    "my_model.fit3(best_X_train, best_y_train)\n",
    "my_y_predicted = my_model.predict(best_X_test)"
   ]
  },
  {
   "cell_type": "code",
   "execution_count": 101,
   "metadata": {},
   "outputs": [
    {
     "data": {
      "text/plain": [
       "26943.499000953943"
      ]
     },
     "execution_count": 101,
     "metadata": {},
     "output_type": "execute_result"
    }
   ],
   "source": [
    "calc_mae(np.exp(best_y_test), np.exp(my_y_predicted))"
   ]
  },
  {
   "cell_type": "code",
   "execution_count": 102,
   "metadata": {},
   "outputs": [],
   "source": [
    "my_model.fit4(best_X_train, best_y_train)\n",
    "my_y_predicted = my_model.predict(best_X_test)"
   ]
  },
  {
   "cell_type": "code",
   "execution_count": 103,
   "metadata": {},
   "outputs": [
    {
     "data": {
      "text/plain": [
       "26943.499000953943"
      ]
     },
     "execution_count": 103,
     "metadata": {},
     "output_type": "execute_result"
    }
   ],
   "source": [
    "calc_mae(np.exp(best_y_test), np.exp(my_y_predicted))"
   ]
  },
  {
   "cell_type": "code",
   "execution_count": 104,
   "metadata": {},
   "outputs": [],
   "source": [
    "my_model.fit5(best_X_train, best_y_train, iters=12000, alpha=0.1, lmbd=10)\n",
    "my_y_predicted = my_model.predict(best_X_test)"
   ]
  },
  {
   "cell_type": "code",
   "execution_count": 106,
   "metadata": {},
   "outputs": [
    {
     "data": {
      "text/plain": [
       "28516.842941043556"
      ]
     },
     "execution_count": 106,
     "metadata": {},
     "output_type": "execute_result"
    }
   ],
   "source": [
    "calc_mae(best_y_test, my_y_predicted)  # without exp"
   ]
  },
  {
   "cell_type": "markdown",
   "metadata": {},
   "source": [
    "## Подготовка решения для отправки на kaggle:"
   ]
  },
  {
   "cell_type": "code",
   "execution_count": 150,
   "metadata": {},
   "outputs": [],
   "source": [
    "def process_data(X):\n",
    "\n",
    "    # MSSubClass to categorical\n",
    "    X['MSSubClass'] = X['MSSubClass'].astype(str)\n",
    "\n",
    "    # OverallQual to categorical\n",
    "    X['OverallQual'] = X['OverallQual'].astype(str)\n",
    "\n",
    "    # OverallCond to categorical\n",
    "    X['OverallCond'] = X['OverallCond'].astype(str)\n",
    "\n",
    "    # YearBuilt to categorical\n",
    "    X['YearBuilt'] = X['YearBuilt'].astype(str)\n",
    "\n",
    "    # YearRemodAdd to categorical\n",
    "    X['YearRemodAdd'] = X['YearRemodAdd'].astype(str)\n",
    "\n",
    "    # GarageYrBlt to categorical\n",
    "    X['GarageYrBlt'] = X['GarageYrBlt'].fillna(0.0)\n",
    "    X['GarageYrBlt'] = X['GarageYrBlt'].astype(int).astype(str)\n",
    "\n",
    "    # Year and Month to categorical\n",
    "    X['YrSold'] = X['YrSold'].astype(str)\n",
    "    X['MoSold'] = X['MoSold'].astype(str)\n",
    "\n",
    "    # KitchenAbvGr to categorical\n",
    "    X['KitchenAbvGr'] = X['KitchenAbvGr'].astype(str)\n",
    "\n",
    "    # NA means no access\n",
    "    X['Alley'] = X['Alley'].fillna('NOACCESS')\n",
    "\n",
    "    # NA means No basement\n",
    "    for col in ('BsmtQual', 'BsmtCond', 'BsmtExposure', 'BsmtFinType1', 'BsmtFinType2'):\n",
    "        X[col] = X[col].fillna('NoBSMT')\n",
    "\n",
    "    # NA means No Fireplace\n",
    "    X['FireplaceQu'] = X['FireplaceQu'].fillna('NoFP')\n",
    "\n",
    "    # NA means No Garage\n",
    "    for col in ('GarageType', 'GarageFinish', 'GarageQual', 'GarageCond'):\n",
    "        X[col] = X[col].fillna('NoGRG')\n",
    "\n",
    "    # NA means No Pool\n",
    "    X['PoolQC'] = X['PoolQC'].fillna('NoP')\n",
    "\n",
    "    # NA means no Fence\n",
    "    X['Fence'] = X['Fence'].fillna('NoF')\n",
    "\n",
    "    # NA means None\n",
    "    X['MiscFeature'] = X['MiscFeature'].fillna('None')\n",
    "    \n",
    "    X = X.fillna(X.median(axis=0), axis=0)\n",
    "    \n",
    "    data_describe = X.describe(include=[object])\n",
    "    for c in X.columns:\n",
    "        if X[c].dtype == object:\n",
    "            X[c] = X[c].fillna(data_describe[c]['top'])\n",
    "    \n",
    "    X['TotalSF'] = X['TotalBsmtSF'] + X['1stFlrSF'] + X['2ndFlrSF']\n",
    "    X.drop(['TotalBsmtSF', '1stFlrSF', '2ndFlrSF'], axis=1, inplace=True)\n",
    "    \n",
    "    categorical_columns = [c for c in X.columns if X[c].dtype.name == 'object']\n",
    "    numerical_columns   = [c for c in X.columns if X[c].dtype.name != 'object']\n",
    "\n",
    "    # Выделяем бинарные и небинарные признаки.\n",
    "    binary_columns    = [c for c in categorical_columns if data_describe[c]['unique'] == 2]\n",
    "    nonbinary_columns = [c for c in categorical_columns if data_describe[c]['unique'] != 2]\n",
    "\n",
    "    for c in binary_columns:\n",
    "        top = data_describe[c]['top']\n",
    "        top_items = X[c] == top\n",
    "        X.loc[top_items, c] = 0\n",
    "        X.loc[np.logical_not(top_items), c] = 1\n",
    "        \n",
    "    data_nonbinary = X[nonbinary_columns]\n",
    "    \n",
    "    for c in data_nonbinary:\n",
    "        data_nonbinary[c] = data_nonbinary[c].factorize()[0]\n",
    "\n",
    "    # Стандартизируем количественные признаки.\n",
    "    data_numerical = X[numerical_columns]\n",
    "    data_numerical = (data_numerical - data_numerical.mean()) / data_numerical.std()\n",
    "\n",
    "    X = pd.concat((data_numerical, X[binary_columns], data_nonbinary), axis=1)\n",
    "    \n",
    "    X.drop(['Utilities','RoofMatl', 'MasVnrArea', 'BsmtFinSF1', 'BsmtFinSF2', 'BsmtUnfSF', 'Heating', 'LowQualFinSF',\n",
    "            'BsmtFullBath', 'BsmtHalfBath', 'Functional', 'GarageYrBlt', 'GarageArea', 'GarageCond', 'WoodDeckSF',\n",
    "            'OpenPorchSF', 'EnclosedPorch', '3SsnPorch', 'ScreenPorch', 'PoolArea', 'PoolQC', 'Fence', 'MiscFeature', 'MiscVal'],\n",
    "           axis=1, inplace=True)\n",
    "\n",
    "    return pd.DataFrame(X, dtype=float)"
   ]
  },
  {
   "cell_type": "code",
   "execution_count": 151,
   "metadata": {},
   "outputs": [
    {
     "name": "stderr",
     "output_type": "stream",
     "text": [
      "/usr/lib/python3.6/site-packages/ipykernel_launcher.py:78: SettingWithCopyWarning: \n",
      "A value is trying to be set on a copy of a slice from a DataFrame.\n",
      "Try using .loc[row_indexer,col_indexer] = value instead\n",
      "\n",
      "See the caveats in the documentation: http://pandas.pydata.org/pandas-docs/stable/indexing.html#indexing-view-versus-copy\n"
     ]
    }
   ],
   "source": [
    "# Загружаем данные.\n",
    "file_to_open = data_folder / DATASET_TEST_FILE_NAME\n",
    "df_test = pd.read_csv(file_to_open, index_col=PD_READ_CSV_INDEX_COL)\n",
    "\n",
    "X_test = process_data(df_test)"
   ]
  },
  {
   "cell_type": "code",
   "execution_count": 152,
   "metadata": {},
   "outputs": [
    {
     "data": {
      "text/plain": [
       "(1459, 53)"
      ]
     },
     "execution_count": 152,
     "metadata": {},
     "output_type": "execute_result"
    }
   ],
   "source": [
    "X_test.shape"
   ]
  },
  {
   "cell_type": "code",
   "execution_count": 153,
   "metadata": {},
   "outputs": [],
   "source": [
    "y_predicted = model.predict(X_test[best_features[0:idx+1]])"
   ]
  },
  {
   "cell_type": "code",
   "execution_count": 157,
   "metadata": {},
   "outputs": [],
   "source": [
    "y_predicted = np.exp(y_predicted)"
   ]
  },
  {
   "cell_type": "code",
   "execution_count": 158,
   "metadata": {},
   "outputs": [],
   "source": [
    "df_test_result= pd.DataFrame(index=df_test.index, columns=[PD_TARGET_VARIABLE_COLUMN_NAME,], data = y_predicted)"
   ]
  },
  {
   "cell_type": "code",
   "execution_count": 160,
   "metadata": {},
   "outputs": [
    {
     "data": {
      "text/html": [
       "<div>\n",
       "<style>\n",
       "    .dataframe thead tr:only-child th {\n",
       "        text-align: right;\n",
       "    }\n",
       "\n",
       "    .dataframe thead th {\n",
       "        text-align: left;\n",
       "    }\n",
       "\n",
       "    .dataframe tbody tr th {\n",
       "        vertical-align: top;\n",
       "    }\n",
       "</style>\n",
       "<table border=\"1\" class=\"dataframe\">\n",
       "  <thead>\n",
       "    <tr style=\"text-align: right;\">\n",
       "      <th></th>\n",
       "      <th>SalePrice</th>\n",
       "    </tr>\n",
       "    <tr>\n",
       "      <th>Id</th>\n",
       "      <th></th>\n",
       "    </tr>\n",
       "  </thead>\n",
       "  <tbody>\n",
       "    <tr>\n",
       "      <th>1461</th>\n",
       "      <td>139947.709481</td>\n",
       "    </tr>\n",
       "    <tr>\n",
       "      <th>1462</th>\n",
       "      <td>176184.668216</td>\n",
       "    </tr>\n",
       "    <tr>\n",
       "      <th>1463</th>\n",
       "      <td>196394.448826</td>\n",
       "    </tr>\n",
       "    <tr>\n",
       "      <th>1464</th>\n",
       "      <td>189362.514623</td>\n",
       "    </tr>\n",
       "    <tr>\n",
       "      <th>1465</th>\n",
       "      <td>164353.717292</td>\n",
       "    </tr>\n",
       "  </tbody>\n",
       "</table>\n",
       "</div>"
      ],
      "text/plain": [
       "          SalePrice\n",
       "Id                 \n",
       "1461  139947.709481\n",
       "1462  176184.668216\n",
       "1463  196394.448826\n",
       "1464  189362.514623\n",
       "1465  164353.717292"
      ]
     },
     "execution_count": 160,
     "metadata": {},
     "output_type": "execute_result"
    }
   ],
   "source": [
    "df_test_result.head()"
   ]
  },
  {
   "cell_type": "code",
   "execution_count": 162,
   "metadata": {},
   "outputs": [],
   "source": [
    "df_test_result.to_csv(SUBMISSION_FILE_NAME)"
   ]
  },
  {
   "cell_type": "code",
   "execution_count": null,
   "metadata": {},
   "outputs": [],
   "source": []
  }
 ],
 "metadata": {
  "kernelspec": {
   "display_name": "Python 3",
   "language": "python",
   "name": "python3"
  },
  "language_info": {
   "codemirror_mode": {
    "name": "ipython",
    "version": 3
   },
   "file_extension": ".py",
   "mimetype": "text/x-python",
   "name": "python",
   "nbconvert_exporter": "python",
   "pygments_lexer": "ipython3",
   "version": "3.6.5"
  }
 },
 "nbformat": 4,
 "nbformat_minor": 2
}
