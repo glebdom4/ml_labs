{
 "cells": [
  {
   "cell_type": "markdown",
   "metadata": {},
   "source": [
    "<h1><center>Лабораторная работа № 3</center></h1>\n",
    "<h3><center>\"Линейная регрессия\"</center></h3>\n",
    "\n",
    "Необходимо решить задачу предсказания стоимости дома в зависимости от его характеристик. Задача решается в рамках платформы онлайн-конкурсов по машинному обучению Kaggle. Ссылка на задание.\n",
    "\n",
    "Рекомендуется перед выполнением задания изучить отличный туториал, предоставляемый на сайте. В нем разбирается задача классификации, что соответствует лабораторной работе №4, но все действия связанные с подготовкой данных полностью актуальны для этой лабораторной работы.\n",
    "\n",
    "**1\\. Провести предподготовку данных**\n",
    "\n",
    "Перед выполнением этого пункта рекомендуется посмотреть лекцию по Pandas.\n",
    "\n",
    "(Обязательно) Необходимо перевести категориальные фичи в числовые, отмасштабировать показатели для лучшей обучаемости модели при необходимости (можно провести эксперименты, как это будет влиять на результаты модели). Построить графики по распределнию площадей домой и распределнию цен. Для реализации этой части использовать библиотеки pandas и matplotlib и seaborn.\n",
    "\n",
    "Необходимо оценить предоставляемые данные, на свое усмотрение предположить несколько возможных зависимостей между признаками и предсказываемыми значениями, проверить гипотезы, построив необходимые графики.\n",
    "\n",
    "По возможности можно определить, какие признаки являются незначимыми или их доля мала, и объединить такие признаки с другими.\n",
    "\n",
    "Создать несколько собственных фич на основе своих эвристик и оценить, влияют ли они на качество модели.\n",
    "\n",
    "Результатом выполнения этого пункта является блок ячеек или скрипт предобработки данных.\n",
    "\n",
    "**2\\. Разделить данные**\n",
    "\n",
    "В этом пункте необходимо поделить данные на обучающую и валидационную выборку. Для этого можно использовать train_test_split. Делить можно в соотношениях 70-90 / 30-10 % соответственно.\n",
    "\n",
    "**3\\. Обучить модель из sklearn**\n",
    "\n",
    "Следующим шагом необходимо обучить модель линейной регрессии. Для этого нужно использовать класс LinearRegression из sklearn.\n",
    "\n",
    "Получить предсказания модели на валидационной части выборки. Оценить результат по метрике Mean Absolute Error (MAE) и по метрике, используемой для оценки результатов этого конкурса на kaggle.\n",
    "\n",
    "**4\\. Реализовать линейную регрессию**\n",
    "\n",
    "На этом шаге необходимо реализовать модель линейной регрессии, используя python самостоятельно. Для этого изначально можно попробовать написать алгоритм для одного обучаемого параметра, а затем написать реализацию общего случая, используя сначала циклы, а затем векторные вычисления из библиотеку numpy. Если есть полное понимание, как нужно реализовать алгоритм для множества обучаемых параметров с использованием векторизации вычислений - можно сразу делать так, главное на защите уметь объяснить.\n",
    "\n",
    "**5\\. Эксперименты с моделью**\n",
    "\n",
    "На этом шаге вы уже имеете базовую модель, которая делает предсказания. Необходимо прогнать модель на тестовой выборке и отправить решение на kaggle. После этого можно улучшать свой результат, экспериментируя с подготовкой данных и параметрами модели. Рекомендуется смотреть т.н. kernel'ы на kaggle - раздел, где участники соревнований выкладывают код со своими идеями и реализациями. Это может быть очень полезно, как для обучения, так и для реализации новых идей.\n",
    "* Студент, получивший максимальное место на kaggle среди участников из своей группы получает автомат за весь курс.\n",
    "\n",
    "Базовый пример реализации приведен в ноутбуке example.\n",
    "Заметки\n",
    "\n",
    "    При прогоне модели из example, где нет нормировок и используются всего 3 фичи, был получен результат в mae ~ 57к и rmsle ~ 0.409.\n",
    "    При использовании почти всех фич из выборки mae сократилось до 24к, а rmsle до 0.29\n",
    "    При замене NaN в фичах можно подставлять наиболее частое значение по фиче из выборки\n",
    "    Использование всех фич без разбора иногда ухудшает результат\n",
    "    При переводе качественных фич в цифровые значения и нормализации непрерывных величин удобно написать небольшую функцию и применить ее для всех фич.\n"
   ]
  },
  {
   "cell_type": "markdown",
   "metadata": {},
   "source": [
    "### Решение:"
   ]
  },
  {
   "cell_type": "markdown",
   "metadata": {},
   "source": [
    "# Импортирование модулей"
   ]
  },
  {
   "cell_type": "code",
   "execution_count": 1,
   "metadata": {},
   "outputs": [],
   "source": [
    "import numpy as np\n",
    "import pandas as pd\n",
    "import matplotlib.pyplot as plt\n",
    "import calendar\n",
    "import tqdm\n",
    "\n",
    "from pathlib import Path\n",
    "from matplotlib.ticker import FuncFormatter\n",
    "from matplotlib.pyplot import cm\n",
    "from sklearn.model_selection import train_test_split\n",
    "from sklearn import metrics\n",
    "from sklearn.linear_model import LinearRegression\n",
    "from sklearn import ensemble"
   ]
  },
  {
   "cell_type": "markdown",
   "metadata": {},
   "source": [
    "####  Подключаем встроенное построение графиков при помощи jupyter notebook"
   ]
  },
  {
   "cell_type": "code",
   "execution_count": 2,
   "metadata": {},
   "outputs": [],
   "source": [
    "%matplotlib inline"
   ]
  },
  {
   "cell_type": "markdown",
   "metadata": {},
   "source": [
    "# Константы"
   ]
  },
  {
   "cell_type": "code",
   "execution_count": 3,
   "metadata": {},
   "outputs": [],
   "source": [
    "COMPETITION_FOLDER_PATH = '/home/glebdom4/.kaggle/competitions/house-prices-advanced-regression-techniques'\n",
    "DATASET_TRAIN_FILE_NAME = 'train.csv'\n",
    "DATASET_TEST_FILE_NAME = 'test.csv'\n",
    "SUBMISSION_FILE_NAME = 'house_prices_submission.csv'\n",
    "\n",
    "MATPLOTLIB_PLOT_STYLE = 'ggplot'\n",
    "CUSTOM_FONT_NAME = 'PT Sans'\n",
    "CUSTOM_FONT_SIZE = 12\n",
    "CUSTOME_FIGURE_SIZE = (8, 6)\n",
    "\n",
    "# PD_READ_CSV_NA_VALUES = ['NA',]\n",
    "PD_READ_CSV_INDEX_COL = 0  # 'Id' column\n",
    "PD_DATA_HEAD_SIZE = 5  # default value\n",
    "PD_DATA_TAIL_SIZE = 5  # default value\n",
    "PD_TARGET_VARIABLE_COLUMN_NAME = 'SalePrice'\n",
    "\n",
    "SKLEARN_TEST_SPLIT_TEST_SIZE = 0.3\n",
    "SKLEARN_TEST_SPLIT_RANDOM_STATE = 13\n",
    "SKLEARN_USED_CPUS_COUNT = -1  # all\n",
    "SKLEARN_RANDOM_FOREST_CLASSIFIER_RANDOM_STATE = 13\n",
    "SKLEARN_RANDOM_FOREST_CLASSIFIER_N_ESTIMATORS = 100"
   ]
  },
  {
   "cell_type": "markdown",
   "metadata": {},
   "source": [
    "# Настройка стиля графиков"
   ]
  },
  {
   "cell_type": "code",
   "execution_count": 4,
   "metadata": {},
   "outputs": [],
   "source": [
    "plt.style.use(MATPLOTLIB_PLOT_STYLE)"
   ]
  },
  {
   "cell_type": "markdown",
   "metadata": {},
   "source": [
    "# Загрузка данных"
   ]
  },
  {
   "cell_type": "code",
   "execution_count": 5,
   "metadata": {},
   "outputs": [],
   "source": [
    "data_folder = Path(COMPETITION_FOLDER_PATH)\n",
    "file_to_open = data_folder / DATASET_TRAIN_FILE_NAME\n",
    "\n",
    "df = pd.read_csv(file_to_open, index_col=PD_READ_CSV_INDEX_COL)"
   ]
  },
  {
   "cell_type": "markdown",
   "metadata": {},
   "source": [
    "# Анализ данных"
   ]
  },
  {
   "cell_type": "code",
   "execution_count": 6,
   "metadata": {},
   "outputs": [
    {
     "data": {
      "text/plain": [
       "(1460, 80)"
      ]
     },
     "execution_count": 6,
     "metadata": {},
     "output_type": "execute_result"
    }
   ],
   "source": [
    "df.shape"
   ]
  },
  {
   "cell_type": "code",
   "execution_count": 7,
   "metadata": {},
   "outputs": [
    {
     "data": {
      "text/html": [
       "<div>\n",
       "<style>\n",
       "    .dataframe thead tr:only-child th {\n",
       "        text-align: right;\n",
       "    }\n",
       "\n",
       "    .dataframe thead th {\n",
       "        text-align: left;\n",
       "    }\n",
       "\n",
       "    .dataframe tbody tr th {\n",
       "        vertical-align: top;\n",
       "    }\n",
       "</style>\n",
       "<table border=\"1\" class=\"dataframe\">\n",
       "  <thead>\n",
       "    <tr style=\"text-align: right;\">\n",
       "      <th></th>\n",
       "      <th>MSSubClass</th>\n",
       "      <th>MSZoning</th>\n",
       "      <th>LotFrontage</th>\n",
       "      <th>LotArea</th>\n",
       "      <th>Street</th>\n",
       "      <th>Alley</th>\n",
       "      <th>LotShape</th>\n",
       "      <th>LandContour</th>\n",
       "      <th>Utilities</th>\n",
       "      <th>LotConfig</th>\n",
       "      <th>...</th>\n",
       "      <th>PoolArea</th>\n",
       "      <th>PoolQC</th>\n",
       "      <th>Fence</th>\n",
       "      <th>MiscFeature</th>\n",
       "      <th>MiscVal</th>\n",
       "      <th>MoSold</th>\n",
       "      <th>YrSold</th>\n",
       "      <th>SaleType</th>\n",
       "      <th>SaleCondition</th>\n",
       "      <th>SalePrice</th>\n",
       "    </tr>\n",
       "    <tr>\n",
       "      <th>Id</th>\n",
       "      <th></th>\n",
       "      <th></th>\n",
       "      <th></th>\n",
       "      <th></th>\n",
       "      <th></th>\n",
       "      <th></th>\n",
       "      <th></th>\n",
       "      <th></th>\n",
       "      <th></th>\n",
       "      <th></th>\n",
       "      <th></th>\n",
       "      <th></th>\n",
       "      <th></th>\n",
       "      <th></th>\n",
       "      <th></th>\n",
       "      <th></th>\n",
       "      <th></th>\n",
       "      <th></th>\n",
       "      <th></th>\n",
       "      <th></th>\n",
       "      <th></th>\n",
       "    </tr>\n",
       "  </thead>\n",
       "  <tbody>\n",
       "    <tr>\n",
       "      <th>1</th>\n",
       "      <td>60</td>\n",
       "      <td>RL</td>\n",
       "      <td>65.0</td>\n",
       "      <td>8450</td>\n",
       "      <td>Pave</td>\n",
       "      <td>NaN</td>\n",
       "      <td>Reg</td>\n",
       "      <td>Lvl</td>\n",
       "      <td>AllPub</td>\n",
       "      <td>Inside</td>\n",
       "      <td>...</td>\n",
       "      <td>0</td>\n",
       "      <td>NaN</td>\n",
       "      <td>NaN</td>\n",
       "      <td>NaN</td>\n",
       "      <td>0</td>\n",
       "      <td>2</td>\n",
       "      <td>2008</td>\n",
       "      <td>WD</td>\n",
       "      <td>Normal</td>\n",
       "      <td>208500</td>\n",
       "    </tr>\n",
       "    <tr>\n",
       "      <th>2</th>\n",
       "      <td>20</td>\n",
       "      <td>RL</td>\n",
       "      <td>80.0</td>\n",
       "      <td>9600</td>\n",
       "      <td>Pave</td>\n",
       "      <td>NaN</td>\n",
       "      <td>Reg</td>\n",
       "      <td>Lvl</td>\n",
       "      <td>AllPub</td>\n",
       "      <td>FR2</td>\n",
       "      <td>...</td>\n",
       "      <td>0</td>\n",
       "      <td>NaN</td>\n",
       "      <td>NaN</td>\n",
       "      <td>NaN</td>\n",
       "      <td>0</td>\n",
       "      <td>5</td>\n",
       "      <td>2007</td>\n",
       "      <td>WD</td>\n",
       "      <td>Normal</td>\n",
       "      <td>181500</td>\n",
       "    </tr>\n",
       "    <tr>\n",
       "      <th>3</th>\n",
       "      <td>60</td>\n",
       "      <td>RL</td>\n",
       "      <td>68.0</td>\n",
       "      <td>11250</td>\n",
       "      <td>Pave</td>\n",
       "      <td>NaN</td>\n",
       "      <td>IR1</td>\n",
       "      <td>Lvl</td>\n",
       "      <td>AllPub</td>\n",
       "      <td>Inside</td>\n",
       "      <td>...</td>\n",
       "      <td>0</td>\n",
       "      <td>NaN</td>\n",
       "      <td>NaN</td>\n",
       "      <td>NaN</td>\n",
       "      <td>0</td>\n",
       "      <td>9</td>\n",
       "      <td>2008</td>\n",
       "      <td>WD</td>\n",
       "      <td>Normal</td>\n",
       "      <td>223500</td>\n",
       "    </tr>\n",
       "    <tr>\n",
       "      <th>4</th>\n",
       "      <td>70</td>\n",
       "      <td>RL</td>\n",
       "      <td>60.0</td>\n",
       "      <td>9550</td>\n",
       "      <td>Pave</td>\n",
       "      <td>NaN</td>\n",
       "      <td>IR1</td>\n",
       "      <td>Lvl</td>\n",
       "      <td>AllPub</td>\n",
       "      <td>Corner</td>\n",
       "      <td>...</td>\n",
       "      <td>0</td>\n",
       "      <td>NaN</td>\n",
       "      <td>NaN</td>\n",
       "      <td>NaN</td>\n",
       "      <td>0</td>\n",
       "      <td>2</td>\n",
       "      <td>2006</td>\n",
       "      <td>WD</td>\n",
       "      <td>Abnorml</td>\n",
       "      <td>140000</td>\n",
       "    </tr>\n",
       "    <tr>\n",
       "      <th>5</th>\n",
       "      <td>60</td>\n",
       "      <td>RL</td>\n",
       "      <td>84.0</td>\n",
       "      <td>14260</td>\n",
       "      <td>Pave</td>\n",
       "      <td>NaN</td>\n",
       "      <td>IR1</td>\n",
       "      <td>Lvl</td>\n",
       "      <td>AllPub</td>\n",
       "      <td>FR2</td>\n",
       "      <td>...</td>\n",
       "      <td>0</td>\n",
       "      <td>NaN</td>\n",
       "      <td>NaN</td>\n",
       "      <td>NaN</td>\n",
       "      <td>0</td>\n",
       "      <td>12</td>\n",
       "      <td>2008</td>\n",
       "      <td>WD</td>\n",
       "      <td>Normal</td>\n",
       "      <td>250000</td>\n",
       "    </tr>\n",
       "  </tbody>\n",
       "</table>\n",
       "<p>5 rows × 80 columns</p>\n",
       "</div>"
      ],
      "text/plain": [
       "    MSSubClass MSZoning  LotFrontage  LotArea Street Alley LotShape  \\\n",
       "Id                                                                    \n",
       "1           60       RL         65.0     8450   Pave   NaN      Reg   \n",
       "2           20       RL         80.0     9600   Pave   NaN      Reg   \n",
       "3           60       RL         68.0    11250   Pave   NaN      IR1   \n",
       "4           70       RL         60.0     9550   Pave   NaN      IR1   \n",
       "5           60       RL         84.0    14260   Pave   NaN      IR1   \n",
       "\n",
       "   LandContour Utilities LotConfig    ...     PoolArea PoolQC Fence  \\\n",
       "Id                                    ...                             \n",
       "1          Lvl    AllPub    Inside    ...            0    NaN   NaN   \n",
       "2          Lvl    AllPub       FR2    ...            0    NaN   NaN   \n",
       "3          Lvl    AllPub    Inside    ...            0    NaN   NaN   \n",
       "4          Lvl    AllPub    Corner    ...            0    NaN   NaN   \n",
       "5          Lvl    AllPub       FR2    ...            0    NaN   NaN   \n",
       "\n",
       "   MiscFeature MiscVal MoSold  YrSold  SaleType  SaleCondition  SalePrice  \n",
       "Id                                                                         \n",
       "1          NaN       0      2    2008        WD         Normal     208500  \n",
       "2          NaN       0      5    2007        WD         Normal     181500  \n",
       "3          NaN       0      9    2008        WD         Normal     223500  \n",
       "4          NaN       0      2    2006        WD        Abnorml     140000  \n",
       "5          NaN       0     12    2008        WD         Normal     250000  \n",
       "\n",
       "[5 rows x 80 columns]"
      ]
     },
     "execution_count": 7,
     "metadata": {},
     "output_type": "execute_result"
    }
   ],
   "source": [
    "df.head(PD_DATA_HEAD_SIZE)"
   ]
  },
  {
   "cell_type": "code",
   "execution_count": 8,
   "metadata": {},
   "outputs": [
    {
     "data": {
      "text/html": [
       "<div>\n",
       "<style>\n",
       "    .dataframe thead tr:only-child th {\n",
       "        text-align: right;\n",
       "    }\n",
       "\n",
       "    .dataframe thead th {\n",
       "        text-align: left;\n",
       "    }\n",
       "\n",
       "    .dataframe tbody tr th {\n",
       "        vertical-align: top;\n",
       "    }\n",
       "</style>\n",
       "<table border=\"1\" class=\"dataframe\">\n",
       "  <thead>\n",
       "    <tr style=\"text-align: right;\">\n",
       "      <th></th>\n",
       "      <th>MSSubClass</th>\n",
       "      <th>MSZoning</th>\n",
       "      <th>LotFrontage</th>\n",
       "      <th>LotArea</th>\n",
       "      <th>Street</th>\n",
       "      <th>Alley</th>\n",
       "      <th>LotShape</th>\n",
       "      <th>LandContour</th>\n",
       "      <th>Utilities</th>\n",
       "      <th>LotConfig</th>\n",
       "      <th>...</th>\n",
       "      <th>PoolArea</th>\n",
       "      <th>PoolQC</th>\n",
       "      <th>Fence</th>\n",
       "      <th>MiscFeature</th>\n",
       "      <th>MiscVal</th>\n",
       "      <th>MoSold</th>\n",
       "      <th>YrSold</th>\n",
       "      <th>SaleType</th>\n",
       "      <th>SaleCondition</th>\n",
       "      <th>SalePrice</th>\n",
       "    </tr>\n",
       "    <tr>\n",
       "      <th>Id</th>\n",
       "      <th></th>\n",
       "      <th></th>\n",
       "      <th></th>\n",
       "      <th></th>\n",
       "      <th></th>\n",
       "      <th></th>\n",
       "      <th></th>\n",
       "      <th></th>\n",
       "      <th></th>\n",
       "      <th></th>\n",
       "      <th></th>\n",
       "      <th></th>\n",
       "      <th></th>\n",
       "      <th></th>\n",
       "      <th></th>\n",
       "      <th></th>\n",
       "      <th></th>\n",
       "      <th></th>\n",
       "      <th></th>\n",
       "      <th></th>\n",
       "      <th></th>\n",
       "    </tr>\n",
       "  </thead>\n",
       "  <tbody>\n",
       "    <tr>\n",
       "      <th>1456</th>\n",
       "      <td>60</td>\n",
       "      <td>RL</td>\n",
       "      <td>62.0</td>\n",
       "      <td>7917</td>\n",
       "      <td>Pave</td>\n",
       "      <td>NaN</td>\n",
       "      <td>Reg</td>\n",
       "      <td>Lvl</td>\n",
       "      <td>AllPub</td>\n",
       "      <td>Inside</td>\n",
       "      <td>...</td>\n",
       "      <td>0</td>\n",
       "      <td>NaN</td>\n",
       "      <td>NaN</td>\n",
       "      <td>NaN</td>\n",
       "      <td>0</td>\n",
       "      <td>8</td>\n",
       "      <td>2007</td>\n",
       "      <td>WD</td>\n",
       "      <td>Normal</td>\n",
       "      <td>175000</td>\n",
       "    </tr>\n",
       "    <tr>\n",
       "      <th>1457</th>\n",
       "      <td>20</td>\n",
       "      <td>RL</td>\n",
       "      <td>85.0</td>\n",
       "      <td>13175</td>\n",
       "      <td>Pave</td>\n",
       "      <td>NaN</td>\n",
       "      <td>Reg</td>\n",
       "      <td>Lvl</td>\n",
       "      <td>AllPub</td>\n",
       "      <td>Inside</td>\n",
       "      <td>...</td>\n",
       "      <td>0</td>\n",
       "      <td>NaN</td>\n",
       "      <td>MnPrv</td>\n",
       "      <td>NaN</td>\n",
       "      <td>0</td>\n",
       "      <td>2</td>\n",
       "      <td>2010</td>\n",
       "      <td>WD</td>\n",
       "      <td>Normal</td>\n",
       "      <td>210000</td>\n",
       "    </tr>\n",
       "    <tr>\n",
       "      <th>1458</th>\n",
       "      <td>70</td>\n",
       "      <td>RL</td>\n",
       "      <td>66.0</td>\n",
       "      <td>9042</td>\n",
       "      <td>Pave</td>\n",
       "      <td>NaN</td>\n",
       "      <td>Reg</td>\n",
       "      <td>Lvl</td>\n",
       "      <td>AllPub</td>\n",
       "      <td>Inside</td>\n",
       "      <td>...</td>\n",
       "      <td>0</td>\n",
       "      <td>NaN</td>\n",
       "      <td>GdPrv</td>\n",
       "      <td>Shed</td>\n",
       "      <td>2500</td>\n",
       "      <td>5</td>\n",
       "      <td>2010</td>\n",
       "      <td>WD</td>\n",
       "      <td>Normal</td>\n",
       "      <td>266500</td>\n",
       "    </tr>\n",
       "    <tr>\n",
       "      <th>1459</th>\n",
       "      <td>20</td>\n",
       "      <td>RL</td>\n",
       "      <td>68.0</td>\n",
       "      <td>9717</td>\n",
       "      <td>Pave</td>\n",
       "      <td>NaN</td>\n",
       "      <td>Reg</td>\n",
       "      <td>Lvl</td>\n",
       "      <td>AllPub</td>\n",
       "      <td>Inside</td>\n",
       "      <td>...</td>\n",
       "      <td>0</td>\n",
       "      <td>NaN</td>\n",
       "      <td>NaN</td>\n",
       "      <td>NaN</td>\n",
       "      <td>0</td>\n",
       "      <td>4</td>\n",
       "      <td>2010</td>\n",
       "      <td>WD</td>\n",
       "      <td>Normal</td>\n",
       "      <td>142125</td>\n",
       "    </tr>\n",
       "    <tr>\n",
       "      <th>1460</th>\n",
       "      <td>20</td>\n",
       "      <td>RL</td>\n",
       "      <td>75.0</td>\n",
       "      <td>9937</td>\n",
       "      <td>Pave</td>\n",
       "      <td>NaN</td>\n",
       "      <td>Reg</td>\n",
       "      <td>Lvl</td>\n",
       "      <td>AllPub</td>\n",
       "      <td>Inside</td>\n",
       "      <td>...</td>\n",
       "      <td>0</td>\n",
       "      <td>NaN</td>\n",
       "      <td>NaN</td>\n",
       "      <td>NaN</td>\n",
       "      <td>0</td>\n",
       "      <td>6</td>\n",
       "      <td>2008</td>\n",
       "      <td>WD</td>\n",
       "      <td>Normal</td>\n",
       "      <td>147500</td>\n",
       "    </tr>\n",
       "  </tbody>\n",
       "</table>\n",
       "<p>5 rows × 80 columns</p>\n",
       "</div>"
      ],
      "text/plain": [
       "      MSSubClass MSZoning  LotFrontage  LotArea Street Alley LotShape  \\\n",
       "Id                                                                      \n",
       "1456          60       RL         62.0     7917   Pave   NaN      Reg   \n",
       "1457          20       RL         85.0    13175   Pave   NaN      Reg   \n",
       "1458          70       RL         66.0     9042   Pave   NaN      Reg   \n",
       "1459          20       RL         68.0     9717   Pave   NaN      Reg   \n",
       "1460          20       RL         75.0     9937   Pave   NaN      Reg   \n",
       "\n",
       "     LandContour Utilities LotConfig    ...     PoolArea PoolQC  Fence  \\\n",
       "Id                                      ...                              \n",
       "1456         Lvl    AllPub    Inside    ...            0    NaN    NaN   \n",
       "1457         Lvl    AllPub    Inside    ...            0    NaN  MnPrv   \n",
       "1458         Lvl    AllPub    Inside    ...            0    NaN  GdPrv   \n",
       "1459         Lvl    AllPub    Inside    ...            0    NaN    NaN   \n",
       "1460         Lvl    AllPub    Inside    ...            0    NaN    NaN   \n",
       "\n",
       "     MiscFeature MiscVal MoSold  YrSold  SaleType  SaleCondition  SalePrice  \n",
       "Id                                                                           \n",
       "1456         NaN       0      8    2007        WD         Normal     175000  \n",
       "1457         NaN       0      2    2010        WD         Normal     210000  \n",
       "1458        Shed    2500      5    2010        WD         Normal     266500  \n",
       "1459         NaN       0      4    2010        WD         Normal     142125  \n",
       "1460         NaN       0      6    2008        WD         Normal     147500  \n",
       "\n",
       "[5 rows x 80 columns]"
      ]
     },
     "execution_count": 8,
     "metadata": {},
     "output_type": "execute_result"
    }
   ],
   "source": [
    "df.tail(PD_DATA_TAIL_SIZE)"
   ]
  },
  {
   "cell_type": "code",
   "execution_count": 9,
   "metadata": {},
   "outputs": [
    {
     "data": {
      "text/html": [
       "<div>\n",
       "<style>\n",
       "    .dataframe thead tr:only-child th {\n",
       "        text-align: right;\n",
       "    }\n",
       "\n",
       "    .dataframe thead th {\n",
       "        text-align: left;\n",
       "    }\n",
       "\n",
       "    .dataframe tbody tr th {\n",
       "        vertical-align: top;\n",
       "    }\n",
       "</style>\n",
       "<table border=\"1\" class=\"dataframe\">\n",
       "  <thead>\n",
       "    <tr style=\"text-align: right;\">\n",
       "      <th></th>\n",
       "      <th>MSSubClass</th>\n",
       "      <th>LotFrontage</th>\n",
       "      <th>LotArea</th>\n",
       "      <th>OverallQual</th>\n",
       "      <th>OverallCond</th>\n",
       "      <th>YearBuilt</th>\n",
       "      <th>YearRemodAdd</th>\n",
       "      <th>MasVnrArea</th>\n",
       "      <th>BsmtFinSF1</th>\n",
       "      <th>BsmtFinSF2</th>\n",
       "      <th>...</th>\n",
       "      <th>WoodDeckSF</th>\n",
       "      <th>OpenPorchSF</th>\n",
       "      <th>EnclosedPorch</th>\n",
       "      <th>3SsnPorch</th>\n",
       "      <th>ScreenPorch</th>\n",
       "      <th>PoolArea</th>\n",
       "      <th>MiscVal</th>\n",
       "      <th>MoSold</th>\n",
       "      <th>YrSold</th>\n",
       "      <th>SalePrice</th>\n",
       "    </tr>\n",
       "  </thead>\n",
       "  <tbody>\n",
       "    <tr>\n",
       "      <th>count</th>\n",
       "      <td>1460.000000</td>\n",
       "      <td>1201.000000</td>\n",
       "      <td>1460.000000</td>\n",
       "      <td>1460.000000</td>\n",
       "      <td>1460.000000</td>\n",
       "      <td>1460.000000</td>\n",
       "      <td>1460.000000</td>\n",
       "      <td>1452.000000</td>\n",
       "      <td>1460.000000</td>\n",
       "      <td>1460.000000</td>\n",
       "      <td>...</td>\n",
       "      <td>1460.000000</td>\n",
       "      <td>1460.000000</td>\n",
       "      <td>1460.000000</td>\n",
       "      <td>1460.000000</td>\n",
       "      <td>1460.000000</td>\n",
       "      <td>1460.000000</td>\n",
       "      <td>1460.000000</td>\n",
       "      <td>1460.000000</td>\n",
       "      <td>1460.000000</td>\n",
       "      <td>1460.000000</td>\n",
       "    </tr>\n",
       "    <tr>\n",
       "      <th>mean</th>\n",
       "      <td>56.897260</td>\n",
       "      <td>70.049958</td>\n",
       "      <td>10516.828082</td>\n",
       "      <td>6.099315</td>\n",
       "      <td>5.575342</td>\n",
       "      <td>1971.267808</td>\n",
       "      <td>1984.865753</td>\n",
       "      <td>103.685262</td>\n",
       "      <td>443.639726</td>\n",
       "      <td>46.549315</td>\n",
       "      <td>...</td>\n",
       "      <td>94.244521</td>\n",
       "      <td>46.660274</td>\n",
       "      <td>21.954110</td>\n",
       "      <td>3.409589</td>\n",
       "      <td>15.060959</td>\n",
       "      <td>2.758904</td>\n",
       "      <td>43.489041</td>\n",
       "      <td>6.321918</td>\n",
       "      <td>2007.815753</td>\n",
       "      <td>180921.195890</td>\n",
       "    </tr>\n",
       "    <tr>\n",
       "      <th>std</th>\n",
       "      <td>42.300571</td>\n",
       "      <td>24.284752</td>\n",
       "      <td>9981.264932</td>\n",
       "      <td>1.382997</td>\n",
       "      <td>1.112799</td>\n",
       "      <td>30.202904</td>\n",
       "      <td>20.645407</td>\n",
       "      <td>181.066207</td>\n",
       "      <td>456.098091</td>\n",
       "      <td>161.319273</td>\n",
       "      <td>...</td>\n",
       "      <td>125.338794</td>\n",
       "      <td>66.256028</td>\n",
       "      <td>61.119149</td>\n",
       "      <td>29.317331</td>\n",
       "      <td>55.757415</td>\n",
       "      <td>40.177307</td>\n",
       "      <td>496.123024</td>\n",
       "      <td>2.703626</td>\n",
       "      <td>1.328095</td>\n",
       "      <td>79442.502883</td>\n",
       "    </tr>\n",
       "    <tr>\n",
       "      <th>min</th>\n",
       "      <td>20.000000</td>\n",
       "      <td>21.000000</td>\n",
       "      <td>1300.000000</td>\n",
       "      <td>1.000000</td>\n",
       "      <td>1.000000</td>\n",
       "      <td>1872.000000</td>\n",
       "      <td>1950.000000</td>\n",
       "      <td>0.000000</td>\n",
       "      <td>0.000000</td>\n",
       "      <td>0.000000</td>\n",
       "      <td>...</td>\n",
       "      <td>0.000000</td>\n",
       "      <td>0.000000</td>\n",
       "      <td>0.000000</td>\n",
       "      <td>0.000000</td>\n",
       "      <td>0.000000</td>\n",
       "      <td>0.000000</td>\n",
       "      <td>0.000000</td>\n",
       "      <td>1.000000</td>\n",
       "      <td>2006.000000</td>\n",
       "      <td>34900.000000</td>\n",
       "    </tr>\n",
       "    <tr>\n",
       "      <th>25%</th>\n",
       "      <td>20.000000</td>\n",
       "      <td>59.000000</td>\n",
       "      <td>7553.500000</td>\n",
       "      <td>5.000000</td>\n",
       "      <td>5.000000</td>\n",
       "      <td>1954.000000</td>\n",
       "      <td>1967.000000</td>\n",
       "      <td>0.000000</td>\n",
       "      <td>0.000000</td>\n",
       "      <td>0.000000</td>\n",
       "      <td>...</td>\n",
       "      <td>0.000000</td>\n",
       "      <td>0.000000</td>\n",
       "      <td>0.000000</td>\n",
       "      <td>0.000000</td>\n",
       "      <td>0.000000</td>\n",
       "      <td>0.000000</td>\n",
       "      <td>0.000000</td>\n",
       "      <td>5.000000</td>\n",
       "      <td>2007.000000</td>\n",
       "      <td>129975.000000</td>\n",
       "    </tr>\n",
       "    <tr>\n",
       "      <th>50%</th>\n",
       "      <td>50.000000</td>\n",
       "      <td>69.000000</td>\n",
       "      <td>9478.500000</td>\n",
       "      <td>6.000000</td>\n",
       "      <td>5.000000</td>\n",
       "      <td>1973.000000</td>\n",
       "      <td>1994.000000</td>\n",
       "      <td>0.000000</td>\n",
       "      <td>383.500000</td>\n",
       "      <td>0.000000</td>\n",
       "      <td>...</td>\n",
       "      <td>0.000000</td>\n",
       "      <td>25.000000</td>\n",
       "      <td>0.000000</td>\n",
       "      <td>0.000000</td>\n",
       "      <td>0.000000</td>\n",
       "      <td>0.000000</td>\n",
       "      <td>0.000000</td>\n",
       "      <td>6.000000</td>\n",
       "      <td>2008.000000</td>\n",
       "      <td>163000.000000</td>\n",
       "    </tr>\n",
       "    <tr>\n",
       "      <th>75%</th>\n",
       "      <td>70.000000</td>\n",
       "      <td>80.000000</td>\n",
       "      <td>11601.500000</td>\n",
       "      <td>7.000000</td>\n",
       "      <td>6.000000</td>\n",
       "      <td>2000.000000</td>\n",
       "      <td>2004.000000</td>\n",
       "      <td>166.000000</td>\n",
       "      <td>712.250000</td>\n",
       "      <td>0.000000</td>\n",
       "      <td>...</td>\n",
       "      <td>168.000000</td>\n",
       "      <td>68.000000</td>\n",
       "      <td>0.000000</td>\n",
       "      <td>0.000000</td>\n",
       "      <td>0.000000</td>\n",
       "      <td>0.000000</td>\n",
       "      <td>0.000000</td>\n",
       "      <td>8.000000</td>\n",
       "      <td>2009.000000</td>\n",
       "      <td>214000.000000</td>\n",
       "    </tr>\n",
       "    <tr>\n",
       "      <th>max</th>\n",
       "      <td>190.000000</td>\n",
       "      <td>313.000000</td>\n",
       "      <td>215245.000000</td>\n",
       "      <td>10.000000</td>\n",
       "      <td>9.000000</td>\n",
       "      <td>2010.000000</td>\n",
       "      <td>2010.000000</td>\n",
       "      <td>1600.000000</td>\n",
       "      <td>5644.000000</td>\n",
       "      <td>1474.000000</td>\n",
       "      <td>...</td>\n",
       "      <td>857.000000</td>\n",
       "      <td>547.000000</td>\n",
       "      <td>552.000000</td>\n",
       "      <td>508.000000</td>\n",
       "      <td>480.000000</td>\n",
       "      <td>738.000000</td>\n",
       "      <td>15500.000000</td>\n",
       "      <td>12.000000</td>\n",
       "      <td>2010.000000</td>\n",
       "      <td>755000.000000</td>\n",
       "    </tr>\n",
       "  </tbody>\n",
       "</table>\n",
       "<p>8 rows × 37 columns</p>\n",
       "</div>"
      ],
      "text/plain": [
       "        MSSubClass  LotFrontage        LotArea  OverallQual  OverallCond  \\\n",
       "count  1460.000000  1201.000000    1460.000000  1460.000000  1460.000000   \n",
       "mean     56.897260    70.049958   10516.828082     6.099315     5.575342   \n",
       "std      42.300571    24.284752    9981.264932     1.382997     1.112799   \n",
       "min      20.000000    21.000000    1300.000000     1.000000     1.000000   \n",
       "25%      20.000000    59.000000    7553.500000     5.000000     5.000000   \n",
       "50%      50.000000    69.000000    9478.500000     6.000000     5.000000   \n",
       "75%      70.000000    80.000000   11601.500000     7.000000     6.000000   \n",
       "max     190.000000   313.000000  215245.000000    10.000000     9.000000   \n",
       "\n",
       "         YearBuilt  YearRemodAdd   MasVnrArea   BsmtFinSF1   BsmtFinSF2  \\\n",
       "count  1460.000000   1460.000000  1452.000000  1460.000000  1460.000000   \n",
       "mean   1971.267808   1984.865753   103.685262   443.639726    46.549315   \n",
       "std      30.202904     20.645407   181.066207   456.098091   161.319273   \n",
       "min    1872.000000   1950.000000     0.000000     0.000000     0.000000   \n",
       "25%    1954.000000   1967.000000     0.000000     0.000000     0.000000   \n",
       "50%    1973.000000   1994.000000     0.000000   383.500000     0.000000   \n",
       "75%    2000.000000   2004.000000   166.000000   712.250000     0.000000   \n",
       "max    2010.000000   2010.000000  1600.000000  5644.000000  1474.000000   \n",
       "\n",
       "           ...         WoodDeckSF  OpenPorchSF  EnclosedPorch    3SsnPorch  \\\n",
       "count      ...        1460.000000  1460.000000    1460.000000  1460.000000   \n",
       "mean       ...          94.244521    46.660274      21.954110     3.409589   \n",
       "std        ...         125.338794    66.256028      61.119149    29.317331   \n",
       "min        ...           0.000000     0.000000       0.000000     0.000000   \n",
       "25%        ...           0.000000     0.000000       0.000000     0.000000   \n",
       "50%        ...           0.000000    25.000000       0.000000     0.000000   \n",
       "75%        ...         168.000000    68.000000       0.000000     0.000000   \n",
       "max        ...         857.000000   547.000000     552.000000   508.000000   \n",
       "\n",
       "       ScreenPorch     PoolArea       MiscVal       MoSold       YrSold  \\\n",
       "count  1460.000000  1460.000000   1460.000000  1460.000000  1460.000000   \n",
       "mean     15.060959     2.758904     43.489041     6.321918  2007.815753   \n",
       "std      55.757415    40.177307    496.123024     2.703626     1.328095   \n",
       "min       0.000000     0.000000      0.000000     1.000000  2006.000000   \n",
       "25%       0.000000     0.000000      0.000000     5.000000  2007.000000   \n",
       "50%       0.000000     0.000000      0.000000     6.000000  2008.000000   \n",
       "75%       0.000000     0.000000      0.000000     8.000000  2009.000000   \n",
       "max     480.000000   738.000000  15500.000000    12.000000  2010.000000   \n",
       "\n",
       "           SalePrice  \n",
       "count    1460.000000  \n",
       "mean   180921.195890  \n",
       "std     79442.502883  \n",
       "min     34900.000000  \n",
       "25%    129975.000000  \n",
       "50%    163000.000000  \n",
       "75%    214000.000000  \n",
       "max    755000.000000  \n",
       "\n",
       "[8 rows x 37 columns]"
      ]
     },
     "execution_count": 9,
     "metadata": {},
     "output_type": "execute_result"
    }
   ],
   "source": [
    "df.describe()"
   ]
  },
  {
   "cell_type": "markdown",
   "metadata": {},
   "source": [
    "### Графики по распределению площадей домов и распределению цен:"
   ]
  },
  {
   "cell_type": "code",
   "execution_count": 10,
   "metadata": {},
   "outputs": [
    {
     "data": {
      "text/html": [
       "<div>\n",
       "<style>\n",
       "    .dataframe thead tr:only-child th {\n",
       "        text-align: right;\n",
       "    }\n",
       "\n",
       "    .dataframe thead th {\n",
       "        text-align: left;\n",
       "    }\n",
       "\n",
       "    .dataframe tbody tr th {\n",
       "        vertical-align: top;\n",
       "    }\n",
       "</style>\n",
       "<table border=\"1\" class=\"dataframe\">\n",
       "  <thead>\n",
       "    <tr style=\"text-align: right;\">\n",
       "      <th></th>\n",
       "      <th>YrSold</th>\n",
       "      <th>MedianPrice</th>\n",
       "    </tr>\n",
       "  </thead>\n",
       "  <tbody>\n",
       "    <tr>\n",
       "      <th>0</th>\n",
       "      <td>2006</td>\n",
       "      <td>163995</td>\n",
       "    </tr>\n",
       "    <tr>\n",
       "      <th>1</th>\n",
       "      <td>2007</td>\n",
       "      <td>167000</td>\n",
       "    </tr>\n",
       "    <tr>\n",
       "      <th>2</th>\n",
       "      <td>2008</td>\n",
       "      <td>164000</td>\n",
       "    </tr>\n",
       "    <tr>\n",
       "      <th>3</th>\n",
       "      <td>2009</td>\n",
       "      <td>162000</td>\n",
       "    </tr>\n",
       "    <tr>\n",
       "      <th>4</th>\n",
       "      <td>2010</td>\n",
       "      <td>155000</td>\n",
       "    </tr>\n",
       "  </tbody>\n",
       "</table>\n",
       "</div>"
      ],
      "text/plain": [
       "   YrSold  MedianPrice\n",
       "0    2006       163995\n",
       "1    2007       167000\n",
       "2    2008       164000\n",
       "3    2009       162000\n",
       "4    2010       155000"
      ]
     },
     "execution_count": 10,
     "metadata": {},
     "output_type": "execute_result"
    }
   ],
   "source": [
    "mp = pd.DataFrame({'MedianPrice': df.groupby('YrSold')['SalePrice'].median()}).reset_index()\n",
    "mp"
   ]
  },
  {
   "cell_type": "code",
   "execution_count": 11,
   "metadata": {},
   "outputs": [],
   "source": [
    "def thousands(x, pos):\n",
    "    \"\"\"The two args are the value and tick position\"\"\"\n",
    "    return '%1.0fk' % (x * 1e-3)\n",
    "\n",
    "formatter = FuncFormatter(thousands)"
   ]
  },
  {
   "cell_type": "code",
   "execution_count": 12,
   "metadata": {},
   "outputs": [
    {
     "data": {
      "image/png": "[encoded data removed]",
      "text/plain": [
       "<matplotlib.figure.Figure at 0x7fd21d4cd898>"
      ]
     },
     "metadata": {},
     "output_type": "display_data"
    }
   ],
   "source": [
    "years = mp['YrSold'].tolist()\n",
    "x_pos = np.arange(len(years))\n",
    "\n",
    "median_prices = mp['MedianPrice'].tolist()\n",
    "\n",
    "plt.bar(left=x_pos, height=median_prices, width=0.3, color='orange')\n",
    "plt.xticks(x_pos, years, rotation=80, fontname=CUSTOM_FONT_NAME, fontsize=CUSTOM_FONT_SIZE)\n",
    "plt.xlabel('Year of sale')\n",
    "plt.ylabel('Median price', labelpad=15)\n",
    "plt.title('Distribution of prices')\n",
    "\n",
    "axis = plt.gca()\n",
    "axis.yaxis.set_major_formatter(formatter)\n",
    "\n",
    "plt.rcParams['figure.figsize'] = CUSTOME_FIGURE_SIZE"
   ]
  },
  {
   "cell_type": "code",
   "execution_count": 13,
   "metadata": {},
   "outputs": [
    {
     "data": {
      "text/html": [
       "<div>\n",
       "<style>\n",
       "    .dataframe thead tr:only-child th {\n",
       "        text-align: right;\n",
       "    }\n",
       "\n",
       "    .dataframe thead th {\n",
       "        text-align: left;\n",
       "    }\n",
       "\n",
       "    .dataframe tbody tr th {\n",
       "        vertical-align: top;\n",
       "    }\n",
       "</style>\n",
       "<table border=\"1\" class=\"dataframe\">\n",
       "  <thead>\n",
       "    <tr style=\"text-align: right;\">\n",
       "      <th></th>\n",
       "      <th>MoSold</th>\n",
       "      <th>MedianPrice</th>\n",
       "    </tr>\n",
       "  </thead>\n",
       "  <tbody>\n",
       "    <tr>\n",
       "      <th>0</th>\n",
       "      <td>1</td>\n",
       "      <td>151650</td>\n",
       "    </tr>\n",
       "    <tr>\n",
       "      <th>1</th>\n",
       "      <td>2</td>\n",
       "      <td>173250</td>\n",
       "    </tr>\n",
       "    <tr>\n",
       "      <th>2</th>\n",
       "      <td>3</td>\n",
       "      <td>165250</td>\n",
       "    </tr>\n",
       "    <tr>\n",
       "      <th>3</th>\n",
       "      <td>4</td>\n",
       "      <td>147000</td>\n",
       "    </tr>\n",
       "    <tr>\n",
       "      <th>4</th>\n",
       "      <td>5</td>\n",
       "      <td>154000</td>\n",
       "    </tr>\n",
       "    <tr>\n",
       "      <th>5</th>\n",
       "      <td>6</td>\n",
       "      <td>163000</td>\n",
       "    </tr>\n",
       "    <tr>\n",
       "      <th>6</th>\n",
       "      <td>7</td>\n",
       "      <td>165195</td>\n",
       "    </tr>\n",
       "    <tr>\n",
       "      <th>7</th>\n",
       "      <td>8</td>\n",
       "      <td>174450</td>\n",
       "    </tr>\n",
       "    <tr>\n",
       "      <th>8</th>\n",
       "      <td>9</td>\n",
       "      <td>185900</td>\n",
       "    </tr>\n",
       "    <tr>\n",
       "      <th>9</th>\n",
       "      <td>10</td>\n",
       "      <td>159000</td>\n",
       "    </tr>\n",
       "    <tr>\n",
       "      <th>10</th>\n",
       "      <td>11</td>\n",
       "      <td>173000</td>\n",
       "    </tr>\n",
       "    <tr>\n",
       "      <th>11</th>\n",
       "      <td>12</td>\n",
       "      <td>178000</td>\n",
       "    </tr>\n",
       "  </tbody>\n",
       "</table>\n",
       "</div>"
      ],
      "text/plain": [
       "    MoSold  MedianPrice\n",
       "0        1       151650\n",
       "1        2       173250\n",
       "2        3       165250\n",
       "3        4       147000\n",
       "4        5       154000\n",
       "5        6       163000\n",
       "6        7       165195\n",
       "7        8       174450\n",
       "8        9       185900\n",
       "9       10       159000\n",
       "10      11       173000\n",
       "11      12       178000"
      ]
     },
     "execution_count": 13,
     "metadata": {},
     "output_type": "execute_result"
    }
   ],
   "source": [
    "mp = pd.DataFrame({'MedianPrice': df.groupby('MoSold')['SalePrice'].median()}).reset_index()\n",
    "mp"
   ]
  },
  {
   "cell_type": "code",
   "execution_count": 14,
   "metadata": {},
   "outputs": [
    {
     "data": {
      "text/html": [
       "<div>\n",
       "<style>\n",
       "    .dataframe thead tr:only-child th {\n",
       "        text-align: right;\n",
       "    }\n",
       "\n",
       "    .dataframe thead th {\n",
       "        text-align: left;\n",
       "    }\n",
       "\n",
       "    .dataframe tbody tr th {\n",
       "        vertical-align: top;\n",
       "    }\n",
       "</style>\n",
       "<table border=\"1\" class=\"dataframe\">\n",
       "  <thead>\n",
       "    <tr style=\"text-align: right;\">\n",
       "      <th></th>\n",
       "      <th>MoSold</th>\n",
       "      <th>MedianArea</th>\n",
       "    </tr>\n",
       "  </thead>\n",
       "  <tbody>\n",
       "    <tr>\n",
       "      <th>0</th>\n",
       "      <td>1</td>\n",
       "      <td>1402.5</td>\n",
       "    </tr>\n",
       "    <tr>\n",
       "      <th>1</th>\n",
       "      <td>2</td>\n",
       "      <td>1487.0</td>\n",
       "    </tr>\n",
       "    <tr>\n",
       "      <th>2</th>\n",
       "      <td>3</td>\n",
       "      <td>1409.0</td>\n",
       "    </tr>\n",
       "    <tr>\n",
       "      <th>3</th>\n",
       "      <td>4</td>\n",
       "      <td>1386.0</td>\n",
       "    </tr>\n",
       "    <tr>\n",
       "      <th>4</th>\n",
       "      <td>5</td>\n",
       "      <td>1368.5</td>\n",
       "    </tr>\n",
       "    <tr>\n",
       "      <th>5</th>\n",
       "      <td>6</td>\n",
       "      <td>1478.0</td>\n",
       "    </tr>\n",
       "    <tr>\n",
       "      <th>6</th>\n",
       "      <td>7</td>\n",
       "      <td>1480.5</td>\n",
       "    </tr>\n",
       "    <tr>\n",
       "      <th>7</th>\n",
       "      <td>8</td>\n",
       "      <td>1504.0</td>\n",
       "    </tr>\n",
       "    <tr>\n",
       "      <th>8</th>\n",
       "      <td>9</td>\n",
       "      <td>1582.0</td>\n",
       "    </tr>\n",
       "    <tr>\n",
       "      <th>9</th>\n",
       "      <td>10</td>\n",
       "      <td>1414.0</td>\n",
       "    </tr>\n",
       "    <tr>\n",
       "      <th>10</th>\n",
       "      <td>11</td>\n",
       "      <td>1656.0</td>\n",
       "    </tr>\n",
       "    <tr>\n",
       "      <th>11</th>\n",
       "      <td>12</td>\n",
       "      <td>1478.0</td>\n",
       "    </tr>\n",
       "  </tbody>\n",
       "</table>\n",
       "</div>"
      ],
      "text/plain": [
       "    MoSold  MedianArea\n",
       "0        1      1402.5\n",
       "1        2      1487.0\n",
       "2        3      1409.0\n",
       "3        4      1386.0\n",
       "4        5      1368.5\n",
       "5        6      1478.0\n",
       "6        7      1480.5\n",
       "7        8      1504.0\n",
       "8        9      1582.0\n",
       "9       10      1414.0\n",
       "10      11      1656.0\n",
       "11      12      1478.0"
      ]
     },
     "execution_count": 14,
     "metadata": {},
     "output_type": "execute_result"
    }
   ],
   "source": [
    "ma = pd.DataFrame({'MedianArea': df.groupby('MoSold')['GrLivArea'].median()}).reset_index()\n",
    "ma"
   ]
  },
  {
   "cell_type": "code",
   "execution_count": 15,
   "metadata": {},
   "outputs": [
    {
     "data": {
      "text/html": [
       "<div>\n",
       "<style>\n",
       "    .dataframe thead tr:only-child th {\n",
       "        text-align: right;\n",
       "    }\n",
       "\n",
       "    .dataframe thead th {\n",
       "        text-align: left;\n",
       "    }\n",
       "\n",
       "    .dataframe tbody tr th {\n",
       "        vertical-align: top;\n",
       "    }\n",
       "</style>\n",
       "<table border=\"1\" class=\"dataframe\">\n",
       "  <thead>\n",
       "    <tr style=\"text-align: right;\">\n",
       "      <th></th>\n",
       "      <th>MoSold</th>\n",
       "      <th>MedianArea</th>\n",
       "      <th>MedianPrice</th>\n",
       "    </tr>\n",
       "  </thead>\n",
       "  <tbody>\n",
       "    <tr>\n",
       "      <th>0</th>\n",
       "      <td>January</td>\n",
       "      <td>1402.5</td>\n",
       "      <td>151650</td>\n",
       "    </tr>\n",
       "    <tr>\n",
       "      <th>1</th>\n",
       "      <td>February</td>\n",
       "      <td>1487.0</td>\n",
       "      <td>173250</td>\n",
       "    </tr>\n",
       "    <tr>\n",
       "      <th>2</th>\n",
       "      <td>March</td>\n",
       "      <td>1409.0</td>\n",
       "      <td>165250</td>\n",
       "    </tr>\n",
       "    <tr>\n",
       "      <th>3</th>\n",
       "      <td>April</td>\n",
       "      <td>1386.0</td>\n",
       "      <td>147000</td>\n",
       "    </tr>\n",
       "    <tr>\n",
       "      <th>4</th>\n",
       "      <td>May</td>\n",
       "      <td>1368.5</td>\n",
       "      <td>154000</td>\n",
       "    </tr>\n",
       "    <tr>\n",
       "      <th>5</th>\n",
       "      <td>June</td>\n",
       "      <td>1478.0</td>\n",
       "      <td>163000</td>\n",
       "    </tr>\n",
       "    <tr>\n",
       "      <th>6</th>\n",
       "      <td>July</td>\n",
       "      <td>1480.5</td>\n",
       "      <td>165195</td>\n",
       "    </tr>\n",
       "    <tr>\n",
       "      <th>7</th>\n",
       "      <td>August</td>\n",
       "      <td>1504.0</td>\n",
       "      <td>174450</td>\n",
       "    </tr>\n",
       "    <tr>\n",
       "      <th>8</th>\n",
       "      <td>September</td>\n",
       "      <td>1582.0</td>\n",
       "      <td>185900</td>\n",
       "    </tr>\n",
       "    <tr>\n",
       "      <th>9</th>\n",
       "      <td>October</td>\n",
       "      <td>1414.0</td>\n",
       "      <td>159000</td>\n",
       "    </tr>\n",
       "    <tr>\n",
       "      <th>10</th>\n",
       "      <td>November</td>\n",
       "      <td>1656.0</td>\n",
       "      <td>173000</td>\n",
       "    </tr>\n",
       "    <tr>\n",
       "      <th>11</th>\n",
       "      <td>December</td>\n",
       "      <td>1478.0</td>\n",
       "      <td>178000</td>\n",
       "    </tr>\n",
       "  </tbody>\n",
       "</table>\n",
       "</div>"
      ],
      "text/plain": [
       "       MoSold  MedianArea  MedianPrice\n",
       "0     January      1402.5       151650\n",
       "1    February      1487.0       173250\n",
       "2       March      1409.0       165250\n",
       "3       April      1386.0       147000\n",
       "4         May      1368.5       154000\n",
       "5        June      1478.0       163000\n",
       "6        July      1480.5       165195\n",
       "7      August      1504.0       174450\n",
       "8   September      1582.0       185900\n",
       "9     October      1414.0       159000\n",
       "10   November      1656.0       173000\n",
       "11   December      1478.0       178000"
      ]
     },
     "execution_count": 15,
     "metadata": {},
     "output_type": "execute_result"
    }
   ],
   "source": [
    "ma = pd.merge(ma, mp, on='MoSold')\n",
    "ma['MoSold'] = ma['MoSold'].apply(func=lambda x : calendar.month_name[x])\n",
    "ma"
   ]
  },
  {
   "cell_type": "code",
   "execution_count": 16,
   "metadata": {},
   "outputs": [
    {
     "data": {
      "image/png": "[encoded data removed]",
      "text/plain": [
       "<matplotlib.figure.Figure at 0x7fd219ba9ba8>"
      ]
     },
     "metadata": {},
     "output_type": "display_data"
    }
   ],
   "source": [
    "months = ma['MoSold'].tolist()\n",
    "x_pos = np.arange(len(months))\n",
    "\n",
    "median_areas = ma['MedianArea'].tolist()\n",
    "median_prices = ma['MedianPrice'].tolist()\n",
    "\n",
    "colors = cm.rainbow(np.array(median_prices) / max(median_prices))\n",
    "\n",
    "plt.bar(left=x_pos, height=median_areas, width=0.6, color=colors)\n",
    "plt.xticks(x_pos, months, rotation=80, fontname=CUSTOM_FONT_NAME, fontsize=CUSTOM_FONT_SIZE)\n",
    "plt.xlabel('Month of sale')\n",
    "plt.ylabel('Median area', labelpad=15)\n",
    "plt.title('Distribution of areas')\n",
    "plt.legend(['Median price'])\n",
    "\n",
    "plt.rcParams['figure.figsize'] = CUSTOME_FIGURE_SIZE"
   ]
  },
  {
   "cell_type": "markdown",
   "metadata": {},
   "source": [
    "### Для удобства  будем отдельно рассматривать столбцы, соответствующие входным признакам (матрица X), а отдельно – выделенный признак (вектор y):"
   ]
  },
  {
   "cell_type": "code",
   "execution_count": 17,
   "metadata": {},
   "outputs": [],
   "source": [
    "X = df.drop((PD_TARGET_VARIABLE_COLUMN_NAME), axis=1)\n",
    "y = df[PD_TARGET_VARIABLE_COLUMN_NAME]"
   ]
  },
  {
   "cell_type": "code",
   "execution_count": 18,
   "metadata": {},
   "outputs": [
    {
     "data": {
      "text/plain": [
       "(1460, 79)"
      ]
     },
     "execution_count": 18,
     "metadata": {},
     "output_type": "execute_result"
    }
   ],
   "source": [
    "X.shape"
   ]
  },
  {
   "cell_type": "code",
   "execution_count": 19,
   "metadata": {},
   "outputs": [
    {
     "data": {
      "text/plain": [
       "(1460,)"
      ]
     },
     "execution_count": 19,
     "metadata": {},
     "output_type": "execute_result"
    }
   ],
   "source": [
    "y.shape"
   ]
  },
  {
   "cell_type": "code",
   "execution_count": 20,
   "metadata": {},
   "outputs": [
    {
     "data": {
      "text/plain": [
       "<matplotlib.axes._subplots.AxesSubplot at 0x7fd21d4a8160>"
      ]
     },
     "execution_count": 20,
     "metadata": {},
     "output_type": "execute_result"
    },
    {
     "data": {
      "image/png": "[encoded data removed]",
      "text/plain": [
       "<matplotlib.figure.Figure at 0x7fd21d4cdac8>"
      ]
     },
     "metadata": {},
     "output_type": "display_data"
    }
   ],
   "source": [
    "y.plot()"
   ]
  },
  {
   "cell_type": "code",
   "execution_count": 21,
   "metadata": {},
   "outputs": [],
   "source": [
    "y = y.apply(np.log)"
   ]
  },
  {
   "cell_type": "code",
   "execution_count": 22,
   "metadata": {},
   "outputs": [
    {
     "data": {
      "text/plain": [
       "<matplotlib.axes._subplots.AxesSubplot at 0x7fd21995c748>"
      ]
     },
     "execution_count": 22,
     "metadata": {},
     "output_type": "execute_result"
    },
    {
     "data": {
      "image/png": "[encoded data removed]",
      "text/plain": [
       "<matplotlib.figure.Figure at 0x7fd21d4bc8d0>"
      ]
     },
     "metadata": {},
     "output_type": "display_data"
    }
   ],
   "source": [
    "y.plot()"
   ]
  },
  {
   "cell_type": "markdown",
   "metadata": {},
   "source": [
    "### Выделим числовые и категориальные признаки:"
   ]
  },
  {
   "cell_type": "code",
   "execution_count": 23,
   "metadata": {},
   "outputs": [],
   "source": [
    "categorical_columns = [c for c in X.columns if X[c].dtype.name == 'object']\n",
    "numerical_columns   = [c for c in X.columns if X[c].dtype.name != 'object']"
   ]
  },
  {
   "cell_type": "code",
   "execution_count": 24,
   "metadata": {},
   "outputs": [
    {
     "name": "stdout",
     "output_type": "stream",
     "text": [
      "['MSZoning', 'Street', 'Alley', 'LotShape', 'LandContour', 'Utilities', 'LotConfig', 'LandSlope', 'Neighborhood', 'Condition1', 'Condition2', 'BldgType', 'HouseStyle', 'RoofStyle', 'RoofMatl', 'Exterior1st', 'Exterior2nd', 'MasVnrType', 'ExterQual', 'ExterCond', 'Foundation', 'BsmtQual', 'BsmtCond', 'BsmtExposure', 'BsmtFinType1', 'BsmtFinType2', 'Heating', 'HeatingQC', 'CentralAir', 'Electrical', 'KitchenQual', 'Functional', 'FireplaceQu', 'GarageType', 'GarageFinish', 'GarageQual', 'GarageCond', 'PavedDrive', 'PoolQC', 'Fence', 'MiscFeature', 'SaleType', 'SaleCondition']\n"
     ]
    }
   ],
   "source": [
    "print(categorical_columns)"
   ]
  },
  {
   "cell_type": "code",
   "execution_count": 25,
   "metadata": {},
   "outputs": [
    {
     "name": "stdout",
     "output_type": "stream",
     "text": [
      "['MSSubClass', 'LotFrontage', 'LotArea', 'OverallQual', 'OverallCond', 'YearBuilt', 'YearRemodAdd', 'MasVnrArea', 'BsmtFinSF1', 'BsmtFinSF2', 'BsmtUnfSF', 'TotalBsmtSF', '1stFlrSF', '2ndFlrSF', 'LowQualFinSF', 'GrLivArea', 'BsmtFullBath', 'BsmtHalfBath', 'FullBath', 'HalfBath', 'BedroomAbvGr', 'KitchenAbvGr', 'TotRmsAbvGrd', 'Fireplaces', 'GarageYrBlt', 'GarageCars', 'GarageArea', 'WoodDeckSF', 'OpenPorchSF', 'EnclosedPorch', '3SsnPorch', 'ScreenPorch', 'PoolArea', 'MiscVal', 'MoSold', 'YrSold']\n"
     ]
    }
   ],
   "source": [
    "print(numerical_columns)"
   ]
  },
  {
   "cell_type": "markdown",
   "metadata": {},
   "source": [
    "### Определим полный перечень значений категориальных признаков:"
   ]
  },
  {
   "cell_type": "code",
   "execution_count": 26,
   "metadata": {},
   "outputs": [
    {
     "name": "stdout",
     "output_type": "stream",
     "text": [
      "['RL' 'RM' 'C (all)' 'FV' 'RH']\n",
      "['Pave' 'Grvl']\n",
      "[nan 'Grvl' 'Pave']\n",
      "['Reg' 'IR1' 'IR2' 'IR3']\n",
      "['Lvl' 'Bnk' 'Low' 'HLS']\n",
      "['AllPub' 'NoSeWa']\n",
      "['Inside' 'FR2' 'Corner' 'CulDSac' 'FR3']\n",
      "['Gtl' 'Mod' 'Sev']\n",
      "['CollgCr' 'Veenker' 'Crawfor' 'NoRidge' 'Mitchel' 'Somerst' 'NWAmes'\n",
      " 'OldTown' 'BrkSide' 'Sawyer' 'NridgHt' 'NAmes' 'SawyerW' 'IDOTRR'\n",
      " 'MeadowV' 'Edwards' 'Timber' 'Gilbert' 'StoneBr' 'ClearCr' 'NPkVill'\n",
      " 'Blmngtn' 'BrDale' 'SWISU' 'Blueste']\n",
      "['Norm' 'Feedr' 'PosN' 'Artery' 'RRAe' 'RRNn' 'RRAn' 'PosA' 'RRNe']\n",
      "['Norm' 'Artery' 'RRNn' 'Feedr' 'PosN' 'PosA' 'RRAn' 'RRAe']\n",
      "['1Fam' '2fmCon' 'Duplex' 'TwnhsE' 'Twnhs']\n",
      "['2Story' '1Story' '1.5Fin' '1.5Unf' 'SFoyer' 'SLvl' '2.5Unf' '2.5Fin']\n",
      "['Gable' 'Hip' 'Gambrel' 'Mansard' 'Flat' 'Shed']\n",
      "['CompShg' 'WdShngl' 'Metal' 'WdShake' 'Membran' 'Tar&Grv' 'Roll' 'ClyTile']\n",
      "['VinylSd' 'MetalSd' 'Wd Sdng' 'HdBoard' 'BrkFace' 'WdShing' 'CemntBd'\n",
      " 'Plywood' 'AsbShng' 'Stucco' 'BrkComm' 'AsphShn' 'Stone' 'ImStucc'\n",
      " 'CBlock']\n",
      "['VinylSd' 'MetalSd' 'Wd Shng' 'HdBoard' 'Plywood' 'Wd Sdng' 'CmentBd'\n",
      " 'BrkFace' 'Stucco' 'AsbShng' 'Brk Cmn' 'ImStucc' 'AsphShn' 'Stone' 'Other'\n",
      " 'CBlock']\n",
      "['BrkFace' 'None' 'Stone' 'BrkCmn' nan]\n",
      "['Gd' 'TA' 'Ex' 'Fa']\n",
      "['TA' 'Gd' 'Fa' 'Po' 'Ex']\n",
      "['PConc' 'CBlock' 'BrkTil' 'Wood' 'Slab' 'Stone']\n",
      "['Gd' 'TA' 'Ex' nan 'Fa']\n",
      "['TA' 'Gd' nan 'Fa' 'Po']\n",
      "['No' 'Gd' 'Mn' 'Av' nan]\n",
      "['GLQ' 'ALQ' 'Unf' 'Rec' 'BLQ' nan 'LwQ']\n",
      "['Unf' 'BLQ' nan 'ALQ' 'Rec' 'LwQ' 'GLQ']\n",
      "['GasA' 'GasW' 'Grav' 'Wall' 'OthW' 'Floor']\n",
      "['Ex' 'Gd' 'TA' 'Fa' 'Po']\n",
      "['Y' 'N']\n",
      "['SBrkr' 'FuseF' 'FuseA' 'FuseP' 'Mix' nan]\n",
      "['Gd' 'TA' 'Ex' 'Fa']\n",
      "['Typ' 'Min1' 'Maj1' 'Min2' 'Mod' 'Maj2' 'Sev']\n",
      "[nan 'TA' 'Gd' 'Fa' 'Ex' 'Po']\n",
      "['Attchd' 'Detchd' 'BuiltIn' 'CarPort' nan 'Basment' '2Types']\n",
      "['RFn' 'Unf' 'Fin' nan]\n",
      "['TA' 'Fa' 'Gd' nan 'Ex' 'Po']\n",
      "['TA' 'Fa' nan 'Gd' 'Po' 'Ex']\n",
      "['Y' 'N' 'P']\n",
      "[nan 'Ex' 'Fa' 'Gd']\n",
      "[nan 'MnPrv' 'GdWo' 'GdPrv' 'MnWw']\n",
      "[nan 'Shed' 'Gar2' 'Othr' 'TenC']\n",
      "['WD' 'New' 'COD' 'ConLD' 'ConLI' 'CWD' 'ConLw' 'Con' 'Oth']\n",
      "['Normal' 'Abnorml' 'Partial' 'AdjLand' 'Alloca' 'Family']\n"
     ]
    }
   ],
   "source": [
    "for c in categorical_columns:\n",
    "    print(X[c].unique())"
   ]
  },
  {
   "cell_type": "markdown",
   "metadata": {},
   "source": [
    "# Подготовка данных"
   ]
  },
  {
   "cell_type": "markdown",
   "metadata": {},
   "source": [
    "### Проверим наличие незаполненных элементов и узнаем их количество:"
   ]
  },
  {
   "cell_type": "markdown",
   "metadata": {},
   "source": [
    "#### Для количественных признаков:"
   ]
  },
  {
   "cell_type": "code",
   "execution_count": 27,
   "metadata": {},
   "outputs": [
    {
     "data": {
      "text/plain": [
       "True"
      ]
     },
     "execution_count": 27,
     "metadata": {},
     "output_type": "execute_result"
    }
   ],
   "source": [
    "X[numerical_columns].isnull().values.any()"
   ]
  },
  {
   "cell_type": "code",
   "execution_count": 28,
   "metadata": {},
   "outputs": [
    {
     "data": {
      "text/plain": [
       "348"
      ]
     },
     "execution_count": 28,
     "metadata": {},
     "output_type": "execute_result"
    }
   ],
   "source": [
    "X[numerical_columns].isnull().sum().sum()"
   ]
  },
  {
   "cell_type": "code",
   "execution_count": 29,
   "metadata": {},
   "outputs": [
    {
     "data": {
      "text/plain": [
       "False"
      ]
     },
     "execution_count": 29,
     "metadata": {},
     "output_type": "execute_result"
    }
   ],
   "source": [
    "y.isnull().values.any()"
   ]
  },
  {
   "cell_type": "markdown",
   "metadata": {},
   "source": [
    "#### Для категориальных признаков:"
   ]
  },
  {
   "cell_type": "code",
   "execution_count": 30,
   "metadata": {},
   "outputs": [
    {
     "data": {
      "text/plain": [
       "True"
      ]
     },
     "execution_count": 30,
     "metadata": {},
     "output_type": "execute_result"
    }
   ],
   "source": [
    "X[categorical_columns].isnull().values.any()"
   ]
  },
  {
   "cell_type": "code",
   "execution_count": 31,
   "metadata": {},
   "outputs": [
    {
     "data": {
      "text/plain": [
       "6617"
      ]
     },
     "execution_count": 31,
     "metadata": {},
     "output_type": "execute_result"
    }
   ],
   "source": [
    "X[categorical_columns].isnull().sum().sum()"
   ]
  },
  {
   "cell_type": "markdown",
   "metadata": {},
   "source": [
    "### Заполним пропущенные значения:"
   ]
  },
  {
   "cell_type": "markdown",
   "metadata": {},
   "source": [
    "#### Для количественных признаков:"
   ]
  },
  {
   "cell_type": "code",
   "execution_count": 32,
   "metadata": {},
   "outputs": [],
   "source": [
    "X = X.fillna(X.median(axis=0), axis=0)"
   ]
  },
  {
   "cell_type": "markdown",
   "metadata": {},
   "source": [
    "#### Для категориальных признаков:"
   ]
  },
  {
   "cell_type": "code",
   "execution_count": 33,
   "metadata": {},
   "outputs": [],
   "source": [
    "data_describe = X.describe(include=[object])\n",
    "for c in categorical_columns:\n",
    "    X[c] = X[c].fillna(data_describe[c]['top'])"
   ]
  },
  {
   "cell_type": "markdown",
   "metadata": {},
   "source": [
    "### Проверим наличие незаполненных элементов:"
   ]
  },
  {
   "cell_type": "code",
   "execution_count": 34,
   "metadata": {},
   "outputs": [
    {
     "data": {
      "text/plain": [
       "False"
      ]
     },
     "execution_count": 34,
     "metadata": {},
     "output_type": "execute_result"
    }
   ],
   "source": [
    "X.isnull().values.any()"
   ]
  },
  {
   "cell_type": "markdown",
   "metadata": {},
   "source": [
    "## Преобразуем категориальные признаки в количественные:"
   ]
  },
  {
   "cell_type": "markdown",
   "metadata": {},
   "source": [
    "### Выделим бинарные и небинарные признаки:"
   ]
  },
  {
   "cell_type": "code",
   "execution_count": 35,
   "metadata": {},
   "outputs": [],
   "source": [
    "binary_columns    = [c for c in categorical_columns if data_describe[c]['unique'] == 2]\n",
    "nonbinary_columns = [c for c in categorical_columns if data_describe[c]['unique'] > 2]"
   ]
  },
  {
   "cell_type": "code",
   "execution_count": 36,
   "metadata": {},
   "outputs": [
    {
     "name": "stdout",
     "output_type": "stream",
     "text": [
      "['Street', 'Alley', 'Utilities', 'CentralAir']\n"
     ]
    }
   ],
   "source": [
    "print(binary_columns)"
   ]
  },
  {
   "cell_type": "code",
   "execution_count": 37,
   "metadata": {},
   "outputs": [
    {
     "name": "stdout",
     "output_type": "stream",
     "text": [
      "['MSZoning', 'LotShape', 'LandContour', 'LotConfig', 'LandSlope', 'Neighborhood', 'Condition1', 'Condition2', 'BldgType', 'HouseStyle', 'RoofStyle', 'RoofMatl', 'Exterior1st', 'Exterior2nd', 'MasVnrType', 'ExterQual', 'ExterCond', 'Foundation', 'BsmtQual', 'BsmtCond', 'BsmtExposure', 'BsmtFinType1', 'BsmtFinType2', 'Heating', 'HeatingQC', 'Electrical', 'KitchenQual', 'Functional', 'FireplaceQu', 'GarageType', 'GarageFinish', 'GarageQual', 'GarageCond', 'PavedDrive', 'PoolQC', 'Fence', 'MiscFeature', 'SaleType', 'SaleCondition']\n"
     ]
    }
   ],
   "source": [
    "print(nonbinary_columns )"
   ]
  },
  {
   "cell_type": "markdown",
   "metadata": {},
   "source": [
    "### Значения бинарных признаков заменим на 0 и 1:"
   ]
  },
  {
   "cell_type": "code",
   "execution_count": 38,
   "metadata": {},
   "outputs": [],
   "source": [
    "for c in binary_columns:\n",
    "    top = data_describe[c]['top']\n",
    "    top_items = X[c] == top\n",
    "    X.loc[top_items, c] = 0\n",
    "    X.loc[np.logical_not(top_items), c] = 1"
   ]
  },
  {
   "cell_type": "code",
   "execution_count": 39,
   "metadata": {},
   "outputs": [
    {
     "data": {
      "text/html": [
       "<div>\n",
       "<style>\n",
       "    .dataframe thead tr:only-child th {\n",
       "        text-align: right;\n",
       "    }\n",
       "\n",
       "    .dataframe thead th {\n",
       "        text-align: left;\n",
       "    }\n",
       "\n",
       "    .dataframe tbody tr th {\n",
       "        vertical-align: top;\n",
       "    }\n",
       "</style>\n",
       "<table border=\"1\" class=\"dataframe\">\n",
       "  <thead>\n",
       "    <tr style=\"text-align: right;\">\n",
       "      <th></th>\n",
       "      <th>Street</th>\n",
       "      <th>Alley</th>\n",
       "      <th>Utilities</th>\n",
       "      <th>CentralAir</th>\n",
       "    </tr>\n",
       "  </thead>\n",
       "  <tbody>\n",
       "    <tr>\n",
       "      <th>count</th>\n",
       "      <td>1460</td>\n",
       "      <td>1460</td>\n",
       "      <td>1460</td>\n",
       "      <td>1460</td>\n",
       "    </tr>\n",
       "    <tr>\n",
       "      <th>unique</th>\n",
       "      <td>2</td>\n",
       "      <td>2</td>\n",
       "      <td>2</td>\n",
       "      <td>2</td>\n",
       "    </tr>\n",
       "    <tr>\n",
       "      <th>top</th>\n",
       "      <td>0</td>\n",
       "      <td>0</td>\n",
       "      <td>0</td>\n",
       "      <td>0</td>\n",
       "    </tr>\n",
       "    <tr>\n",
       "      <th>freq</th>\n",
       "      <td>1454</td>\n",
       "      <td>1419</td>\n",
       "      <td>1459</td>\n",
       "      <td>1365</td>\n",
       "    </tr>\n",
       "  </tbody>\n",
       "</table>\n",
       "</div>"
      ],
      "text/plain": [
       "        Street  Alley  Utilities  CentralAir\n",
       "count     1460   1460       1460        1460\n",
       "unique       2      2          2           2\n",
       "top          0      0          0           0\n",
       "freq      1454   1419       1459        1365"
      ]
     },
     "execution_count": 39,
     "metadata": {},
     "output_type": "execute_result"
    }
   ],
   "source": [
    "X[binary_columns].describe()"
   ]
  },
  {
   "cell_type": "markdown",
   "metadata": {},
   "source": [
    "### К небинарными признакам применим метод векторизаци:"
   ]
  },
  {
   "cell_type": "code",
   "execution_count": 40,
   "metadata": {},
   "outputs": [],
   "source": [
    "data_nonbinary = pd.get_dummies(X[nonbinary_columns])"
   ]
  },
  {
   "cell_type": "code",
   "execution_count": 41,
   "metadata": {},
   "outputs": [
    {
     "data": {
      "text/plain": [
       "Index(['MSZoning_C (all)', 'MSZoning_FV', 'MSZoning_RH', 'MSZoning_RL',\n",
       "       'MSZoning_RM', 'LotShape_IR1', 'LotShape_IR2', 'LotShape_IR3',\n",
       "       'LotShape_Reg', 'LandContour_Bnk',\n",
       "       ...\n",
       "       'SaleType_ConLw', 'SaleType_New', 'SaleType_Oth', 'SaleType_WD',\n",
       "       'SaleCondition_Abnorml', 'SaleCondition_AdjLand',\n",
       "       'SaleCondition_Alloca', 'SaleCondition_Family', 'SaleCondition_Normal',\n",
       "       'SaleCondition_Partial'],\n",
       "      dtype='object', length=244)"
      ]
     },
     "execution_count": 41,
     "metadata": {},
     "output_type": "execute_result"
    }
   ],
   "source": [
    "data_nonbinary.columns"
   ]
  },
  {
   "cell_type": "markdown",
   "metadata": {},
   "source": [
    "### Стандартизируем значения входных признаков:"
   ]
  },
  {
   "cell_type": "code",
   "execution_count": 42,
   "metadata": {},
   "outputs": [],
   "source": [
    "data_numerical = X[numerical_columns]\n",
    "data_numerical = (data_numerical - data_numerical.mean()) / data_numerical.std()"
   ]
  },
  {
   "cell_type": "code",
   "execution_count": 43,
   "metadata": {},
   "outputs": [
    {
     "data": {
      "text/html": [
       "<div>\n",
       "<style>\n",
       "    .dataframe thead tr:only-child th {\n",
       "        text-align: right;\n",
       "    }\n",
       "\n",
       "    .dataframe thead th {\n",
       "        text-align: left;\n",
       "    }\n",
       "\n",
       "    .dataframe tbody tr th {\n",
       "        vertical-align: top;\n",
       "    }\n",
       "</style>\n",
       "<table border=\"1\" class=\"dataframe\">\n",
       "  <thead>\n",
       "    <tr style=\"text-align: right;\">\n",
       "      <th></th>\n",
       "      <th>MSSubClass</th>\n",
       "      <th>LotFrontage</th>\n",
       "      <th>LotArea</th>\n",
       "      <th>OverallQual</th>\n",
       "      <th>OverallCond</th>\n",
       "      <th>YearBuilt</th>\n",
       "      <th>YearRemodAdd</th>\n",
       "      <th>MasVnrArea</th>\n",
       "      <th>BsmtFinSF1</th>\n",
       "      <th>BsmtFinSF2</th>\n",
       "      <th>...</th>\n",
       "      <th>GarageArea</th>\n",
       "      <th>WoodDeckSF</th>\n",
       "      <th>OpenPorchSF</th>\n",
       "      <th>EnclosedPorch</th>\n",
       "      <th>3SsnPorch</th>\n",
       "      <th>ScreenPorch</th>\n",
       "      <th>PoolArea</th>\n",
       "      <th>MiscVal</th>\n",
       "      <th>MoSold</th>\n",
       "      <th>YrSold</th>\n",
       "    </tr>\n",
       "  </thead>\n",
       "  <tbody>\n",
       "    <tr>\n",
       "      <th>count</th>\n",
       "      <td>1.460000e+03</td>\n",
       "      <td>1.460000e+03</td>\n",
       "      <td>1.460000e+03</td>\n",
       "      <td>1.460000e+03</td>\n",
       "      <td>1.460000e+03</td>\n",
       "      <td>1.460000e+03</td>\n",
       "      <td>1.460000e+03</td>\n",
       "      <td>1.460000e+03</td>\n",
       "      <td>1.460000e+03</td>\n",
       "      <td>1.460000e+03</td>\n",
       "      <td>...</td>\n",
       "      <td>1.460000e+03</td>\n",
       "      <td>1.460000e+03</td>\n",
       "      <td>1.460000e+03</td>\n",
       "      <td>1.460000e+03</td>\n",
       "      <td>1.460000e+03</td>\n",
       "      <td>1.460000e+03</td>\n",
       "      <td>1.460000e+03</td>\n",
       "      <td>1.460000e+03</td>\n",
       "      <td>1.460000e+03</td>\n",
       "      <td>1.460000e+03</td>\n",
       "    </tr>\n",
       "    <tr>\n",
       "      <th>mean</th>\n",
       "      <td>-1.548229e-16</td>\n",
       "      <td>2.822134e-16</td>\n",
       "      <td>-7.585257e-17</td>\n",
       "      <td>2.644764e-16</td>\n",
       "      <td>4.050033e-16</td>\n",
       "      <td>1.061442e-15</td>\n",
       "      <td>4.505985e-15</td>\n",
       "      <td>-1.780919e-16</td>\n",
       "      <td>-1.961901e-17</td>\n",
       "      <td>-1.657730e-16</td>\n",
       "      <td>...</td>\n",
       "      <td>1.596896e-18</td>\n",
       "      <td>1.539104e-16</td>\n",
       "      <td>9.022463e-17</td>\n",
       "      <td>1.649366e-16</td>\n",
       "      <td>4.386141e-16</td>\n",
       "      <td>-7.969272e-17</td>\n",
       "      <td>-6.183600e-16</td>\n",
       "      <td>-1.173529e-16</td>\n",
       "      <td>6.681299e-17</td>\n",
       "      <td>3.563078e-14</td>\n",
       "    </tr>\n",
       "    <tr>\n",
       "      <th>std</th>\n",
       "      <td>1.000000e+00</td>\n",
       "      <td>1.000000e+00</td>\n",
       "      <td>1.000000e+00</td>\n",
       "      <td>1.000000e+00</td>\n",
       "      <td>1.000000e+00</td>\n",
       "      <td>1.000000e+00</td>\n",
       "      <td>1.000000e+00</td>\n",
       "      <td>1.000000e+00</td>\n",
       "      <td>1.000000e+00</td>\n",
       "      <td>1.000000e+00</td>\n",
       "      <td>...</td>\n",
       "      <td>1.000000e+00</td>\n",
       "      <td>1.000000e+00</td>\n",
       "      <td>1.000000e+00</td>\n",
       "      <td>1.000000e+00</td>\n",
       "      <td>1.000000e+00</td>\n",
       "      <td>1.000000e+00</td>\n",
       "      <td>1.000000e+00</td>\n",
       "      <td>1.000000e+00</td>\n",
       "      <td>1.000000e+00</td>\n",
       "      <td>1.000000e+00</td>\n",
       "    </tr>\n",
       "    <tr>\n",
       "      <th>min</th>\n",
       "      <td>-8.722639e-01</td>\n",
       "      <td>-2.218286e+00</td>\n",
       "      <td>-9.234128e-01</td>\n",
       "      <td>-3.687150e+00</td>\n",
       "      <td>-4.111561e+00</td>\n",
       "      <td>-3.286697e+00</td>\n",
       "      <td>-1.688790e+00</td>\n",
       "      <td>-5.705546e-01</td>\n",
       "      <td>-9.726849e-01</td>\n",
       "      <td>-2.885540e-01</td>\n",
       "      <td>...</td>\n",
       "      <td>-2.212205e+00</td>\n",
       "      <td>-7.519182e-01</td>\n",
       "      <td>-7.042419e-01</td>\n",
       "      <td>-3.592018e-01</td>\n",
       "      <td>-1.162994e-01</td>\n",
       "      <td>-2.701158e-01</td>\n",
       "      <td>-6.866822e-02</td>\n",
       "      <td>-8.765778e-02</td>\n",
       "      <td>-1.968437e+00</td>\n",
       "      <td>-1.367186e+00</td>\n",
       "    </tr>\n",
       "    <tr>\n",
       "      <th>25%</th>\n",
       "      <td>-8.722639e-01</td>\n",
       "      <td>-4.477866e-01</td>\n",
       "      <td>-2.968890e-01</td>\n",
       "      <td>-7.948791e-01</td>\n",
       "      <td>-5.170227e-01</td>\n",
       "      <td>-5.717268e-01</td>\n",
       "      <td>-8.653621e-01</td>\n",
       "      <td>-5.705546e-01</td>\n",
       "      <td>-9.726849e-01</td>\n",
       "      <td>-2.885540e-01</td>\n",
       "      <td>...</td>\n",
       "      <td>-6.476941e-01</td>\n",
       "      <td>-7.519182e-01</td>\n",
       "      <td>-7.042419e-01</td>\n",
       "      <td>-3.592018e-01</td>\n",
       "      <td>-1.162994e-01</td>\n",
       "      <td>-2.701158e-01</td>\n",
       "      <td>-6.866822e-02</td>\n",
       "      <td>-8.765778e-02</td>\n",
       "      <td>-4.889425e-01</td>\n",
       "      <td>-6.142282e-01</td>\n",
       "    </tr>\n",
       "    <tr>\n",
       "      <th>50%</th>\n",
       "      <td>-1.630536e-01</td>\n",
       "      <td>-3.920970e-02</td>\n",
       "      <td>-1.040277e-01</td>\n",
       "      <td>-7.181151e-02</td>\n",
       "      <td>-5.170227e-01</td>\n",
       "      <td>5.735183e-02</td>\n",
       "      <td>4.424348e-01</td>\n",
       "      <td>-5.705546e-01</td>\n",
       "      <td>-1.318570e-01</td>\n",
       "      <td>-2.885540e-01</td>\n",
       "      <td>...</td>\n",
       "      <td>3.283304e-02</td>\n",
       "      <td>-7.519182e-01</td>\n",
       "      <td>-3.269178e-01</td>\n",
       "      <td>-3.592018e-01</td>\n",
       "      <td>-1.162994e-01</td>\n",
       "      <td>-2.701158e-01</td>\n",
       "      <td>-6.866822e-02</td>\n",
       "      <td>-8.765778e-02</td>\n",
       "      <td>-1.190689e-01</td>\n",
       "      <td>1.387300e-01</td>\n",
       "    </tr>\n",
       "    <tr>\n",
       "      <th>75%</th>\n",
       "      <td>3.097533e-01</td>\n",
       "      <td>4.147646e-01</td>\n",
       "      <td>1.086708e-01</td>\n",
       "      <td>6.512561e-01</td>\n",
       "      <td>3.816120e-01</td>\n",
       "      <td>9.513056e-01</td>\n",
       "      <td>9.268040e-01</td>\n",
       "      <td>3.382527e-01</td>\n",
       "      <td>5.889309e-01</td>\n",
       "      <td>-2.885540e-01</td>\n",
       "      <td>...</td>\n",
       "      <td>4.818406e-01</td>\n",
       "      <td>5.884489e-01</td>\n",
       "      <td>3.220798e-01</td>\n",
       "      <td>-3.592018e-01</td>\n",
       "      <td>-1.162994e-01</td>\n",
       "      <td>-2.701158e-01</td>\n",
       "      <td>-6.866822e-02</td>\n",
       "      <td>-8.765778e-02</td>\n",
       "      <td>6.206783e-01</td>\n",
       "      <td>8.916881e-01</td>\n",
       "    </tr>\n",
       "    <tr>\n",
       "      <th>max</th>\n",
       "      <td>3.146594e+00</td>\n",
       "      <td>1.103776e+01</td>\n",
       "      <td>2.051125e+01</td>\n",
       "      <td>2.820459e+00</td>\n",
       "      <td>3.077516e+00</td>\n",
       "      <td>1.282400e+00</td>\n",
       "      <td>1.217426e+00</td>\n",
       "      <td>8.282363e+00</td>\n",
       "      <td>1.140185e+01</td>\n",
       "      <td>8.848606e+00</td>\n",
       "      <td>...</td>\n",
       "      <td>4.420012e+00</td>\n",
       "      <td>6.085550e+00</td>\n",
       "      <td>7.551611e+00</td>\n",
       "      <td>8.672338e+00</td>\n",
       "      <td>1.721134e+01</td>\n",
       "      <td>8.338605e+00</td>\n",
       "      <td>1.829991e+01</td>\n",
       "      <td>3.115459e+01</td>\n",
       "      <td>2.100173e+00</td>\n",
       "      <td>1.644646e+00</td>\n",
       "    </tr>\n",
       "  </tbody>\n",
       "</table>\n",
       "<p>8 rows × 36 columns</p>\n",
       "</div>"
      ],
      "text/plain": [
       "         MSSubClass   LotFrontage       LotArea   OverallQual   OverallCond  \\\n",
       "count  1.460000e+03  1.460000e+03  1.460000e+03  1.460000e+03  1.460000e+03   \n",
       "mean  -1.548229e-16  2.822134e-16 -7.585257e-17  2.644764e-16  4.050033e-16   \n",
       "std    1.000000e+00  1.000000e+00  1.000000e+00  1.000000e+00  1.000000e+00   \n",
       "min   -8.722639e-01 -2.218286e+00 -9.234128e-01 -3.687150e+00 -4.111561e+00   \n",
       "25%   -8.722639e-01 -4.477866e-01 -2.968890e-01 -7.948791e-01 -5.170227e-01   \n",
       "50%   -1.630536e-01 -3.920970e-02 -1.040277e-01 -7.181151e-02 -5.170227e-01   \n",
       "75%    3.097533e-01  4.147646e-01  1.086708e-01  6.512561e-01  3.816120e-01   \n",
       "max    3.146594e+00  1.103776e+01  2.051125e+01  2.820459e+00  3.077516e+00   \n",
       "\n",
       "          YearBuilt  YearRemodAdd    MasVnrArea    BsmtFinSF1    BsmtFinSF2  \\\n",
       "count  1.460000e+03  1.460000e+03  1.460000e+03  1.460000e+03  1.460000e+03   \n",
       "mean   1.061442e-15  4.505985e-15 -1.780919e-16 -1.961901e-17 -1.657730e-16   \n",
       "std    1.000000e+00  1.000000e+00  1.000000e+00  1.000000e+00  1.000000e+00   \n",
       "min   -3.286697e+00 -1.688790e+00 -5.705546e-01 -9.726849e-01 -2.885540e-01   \n",
       "25%   -5.717268e-01 -8.653621e-01 -5.705546e-01 -9.726849e-01 -2.885540e-01   \n",
       "50%    5.735183e-02  4.424348e-01 -5.705546e-01 -1.318570e-01 -2.885540e-01   \n",
       "75%    9.513056e-01  9.268040e-01  3.382527e-01  5.889309e-01 -2.885540e-01   \n",
       "max    1.282400e+00  1.217426e+00  8.282363e+00  1.140185e+01  8.848606e+00   \n",
       "\n",
       "           ...         GarageArea    WoodDeckSF   OpenPorchSF  EnclosedPorch  \\\n",
       "count      ...       1.460000e+03  1.460000e+03  1.460000e+03   1.460000e+03   \n",
       "mean       ...       1.596896e-18  1.539104e-16  9.022463e-17   1.649366e-16   \n",
       "std        ...       1.000000e+00  1.000000e+00  1.000000e+00   1.000000e+00   \n",
       "min        ...      -2.212205e+00 -7.519182e-01 -7.042419e-01  -3.592018e-01   \n",
       "25%        ...      -6.476941e-01 -7.519182e-01 -7.042419e-01  -3.592018e-01   \n",
       "50%        ...       3.283304e-02 -7.519182e-01 -3.269178e-01  -3.592018e-01   \n",
       "75%        ...       4.818406e-01  5.884489e-01  3.220798e-01  -3.592018e-01   \n",
       "max        ...       4.420012e+00  6.085550e+00  7.551611e+00   8.672338e+00   \n",
       "\n",
       "          3SsnPorch   ScreenPorch      PoolArea       MiscVal        MoSold  \\\n",
       "count  1.460000e+03  1.460000e+03  1.460000e+03  1.460000e+03  1.460000e+03   \n",
       "mean   4.386141e-16 -7.969272e-17 -6.183600e-16 -1.173529e-16  6.681299e-17   \n",
       "std    1.000000e+00  1.000000e+00  1.000000e+00  1.000000e+00  1.000000e+00   \n",
       "min   -1.162994e-01 -2.701158e-01 -6.866822e-02 -8.765778e-02 -1.968437e+00   \n",
       "25%   -1.162994e-01 -2.701158e-01 -6.866822e-02 -8.765778e-02 -4.889425e-01   \n",
       "50%   -1.162994e-01 -2.701158e-01 -6.866822e-02 -8.765778e-02 -1.190689e-01   \n",
       "75%   -1.162994e-01 -2.701158e-01 -6.866822e-02 -8.765778e-02  6.206783e-01   \n",
       "max    1.721134e+01  8.338605e+00  1.829991e+01  3.115459e+01  2.100173e+00   \n",
       "\n",
       "             YrSold  \n",
       "count  1.460000e+03  \n",
       "mean   3.563078e-14  \n",
       "std    1.000000e+00  \n",
       "min   -1.367186e+00  \n",
       "25%   -6.142282e-01  \n",
       "50%    1.387300e-01  \n",
       "75%    8.916881e-01  \n",
       "max    1.644646e+00  \n",
       "\n",
       "[8 rows x 36 columns]"
      ]
     },
     "execution_count": 43,
     "metadata": {},
     "output_type": "execute_result"
    }
   ],
   "source": [
    "data_numerical.describe()"
   ]
  },
  {
   "cell_type": "markdown",
   "metadata": {},
   "source": [
    "## Соединим все столбцы в одну таблицу:"
   ]
  },
  {
   "cell_type": "code",
   "execution_count": 44,
   "metadata": {},
   "outputs": [],
   "source": [
    "X = pd.concat((data_numerical, X[binary_columns], data_nonbinary), axis=1)\n",
    "X = pd.DataFrame(X, dtype=float)"
   ]
  },
  {
   "cell_type": "code",
   "execution_count": 45,
   "metadata": {},
   "outputs": [
    {
     "data": {
      "text/plain": [
       "(1460, 284)"
      ]
     },
     "execution_count": 45,
     "metadata": {},
     "output_type": "execute_result"
    }
   ],
   "source": [
    "X.shape"
   ]
  },
  {
   "cell_type": "code",
   "execution_count": 46,
   "metadata": {},
   "outputs": [
    {
     "data": {
      "text/plain": [
       "(1460,)"
      ]
     },
     "execution_count": 46,
     "metadata": {},
     "output_type": "execute_result"
    }
   ],
   "source": [
    "y.shape"
   ]
  },
  {
   "cell_type": "code",
   "execution_count": 47,
   "metadata": {},
   "outputs": [
    {
     "data": {
      "text/html": [
       "<div>\n",
       "<style>\n",
       "    .dataframe thead tr:only-child th {\n",
       "        text-align: right;\n",
       "    }\n",
       "\n",
       "    .dataframe thead th {\n",
       "        text-align: left;\n",
       "    }\n",
       "\n",
       "    .dataframe tbody tr th {\n",
       "        vertical-align: top;\n",
       "    }\n",
       "</style>\n",
       "<table border=\"1\" class=\"dataframe\">\n",
       "  <thead>\n",
       "    <tr style=\"text-align: right;\">\n",
       "      <th></th>\n",
       "      <th>MSSubClass</th>\n",
       "      <th>LotFrontage</th>\n",
       "      <th>LotArea</th>\n",
       "      <th>OverallQual</th>\n",
       "      <th>OverallCond</th>\n",
       "      <th>YearBuilt</th>\n",
       "      <th>YearRemodAdd</th>\n",
       "      <th>MasVnrArea</th>\n",
       "      <th>BsmtFinSF1</th>\n",
       "      <th>BsmtFinSF2</th>\n",
       "      <th>...</th>\n",
       "      <th>SaleType_ConLw</th>\n",
       "      <th>SaleType_New</th>\n",
       "      <th>SaleType_Oth</th>\n",
       "      <th>SaleType_WD</th>\n",
       "      <th>SaleCondition_Abnorml</th>\n",
       "      <th>SaleCondition_AdjLand</th>\n",
       "      <th>SaleCondition_Alloca</th>\n",
       "      <th>SaleCondition_Family</th>\n",
       "      <th>SaleCondition_Normal</th>\n",
       "      <th>SaleCondition_Partial</th>\n",
       "    </tr>\n",
       "    <tr>\n",
       "      <th>Id</th>\n",
       "      <th></th>\n",
       "      <th></th>\n",
       "      <th></th>\n",
       "      <th></th>\n",
       "      <th></th>\n",
       "      <th></th>\n",
       "      <th></th>\n",
       "      <th></th>\n",
       "      <th></th>\n",
       "      <th></th>\n",
       "      <th></th>\n",
       "      <th></th>\n",
       "      <th></th>\n",
       "      <th></th>\n",
       "      <th></th>\n",
       "      <th></th>\n",
       "      <th></th>\n",
       "      <th></th>\n",
       "      <th></th>\n",
       "      <th></th>\n",
       "      <th></th>\n",
       "    </tr>\n",
       "  </thead>\n",
       "  <tbody>\n",
       "    <tr>\n",
       "      <th>1</th>\n",
       "      <td>0.073350</td>\n",
       "      <td>-0.220799</td>\n",
       "      <td>-0.207071</td>\n",
       "      <td>0.651256</td>\n",
       "      <td>-0.517023</td>\n",
       "      <td>1.050634</td>\n",
       "      <td>0.878367</td>\n",
       "      <td>0.513928</td>\n",
       "      <td>0.575228</td>\n",
       "      <td>-0.288554</td>\n",
       "      <td>...</td>\n",
       "      <td>0.0</td>\n",
       "      <td>0.0</td>\n",
       "      <td>0.0</td>\n",
       "      <td>1.0</td>\n",
       "      <td>0.0</td>\n",
       "      <td>0.0</td>\n",
       "      <td>0.0</td>\n",
       "      <td>0.0</td>\n",
       "      <td>1.0</td>\n",
       "      <td>0.0</td>\n",
       "    </tr>\n",
       "    <tr>\n",
       "      <th>2</th>\n",
       "      <td>-0.872264</td>\n",
       "      <td>0.460162</td>\n",
       "      <td>-0.091855</td>\n",
       "      <td>-0.071812</td>\n",
       "      <td>2.178881</td>\n",
       "      <td>0.156680</td>\n",
       "      <td>-0.429430</td>\n",
       "      <td>-0.570555</td>\n",
       "      <td>1.171591</td>\n",
       "      <td>-0.288554</td>\n",
       "      <td>...</td>\n",
       "      <td>0.0</td>\n",
       "      <td>0.0</td>\n",
       "      <td>0.0</td>\n",
       "      <td>1.0</td>\n",
       "      <td>0.0</td>\n",
       "      <td>0.0</td>\n",
       "      <td>0.0</td>\n",
       "      <td>0.0</td>\n",
       "      <td>1.0</td>\n",
       "      <td>0.0</td>\n",
       "    </tr>\n",
       "    <tr>\n",
       "      <th>3</th>\n",
       "      <td>0.073350</td>\n",
       "      <td>-0.084607</td>\n",
       "      <td>0.073455</td>\n",
       "      <td>0.651256</td>\n",
       "      <td>-0.517023</td>\n",
       "      <td>0.984415</td>\n",
       "      <td>0.829930</td>\n",
       "      <td>0.325803</td>\n",
       "      <td>0.092875</td>\n",
       "      <td>-0.288554</td>\n",
       "      <td>...</td>\n",
       "      <td>0.0</td>\n",
       "      <td>0.0</td>\n",
       "      <td>0.0</td>\n",
       "      <td>1.0</td>\n",
       "      <td>0.0</td>\n",
       "      <td>0.0</td>\n",
       "      <td>0.0</td>\n",
       "      <td>0.0</td>\n",
       "      <td>1.0</td>\n",
       "      <td>0.0</td>\n",
       "    </tr>\n",
       "    <tr>\n",
       "      <th>4</th>\n",
       "      <td>0.309753</td>\n",
       "      <td>-0.447787</td>\n",
       "      <td>-0.096864</td>\n",
       "      <td>0.651256</td>\n",
       "      <td>-0.517023</td>\n",
       "      <td>-1.862993</td>\n",
       "      <td>-0.720051</td>\n",
       "      <td>-0.570555</td>\n",
       "      <td>-0.499103</td>\n",
       "      <td>-0.288554</td>\n",
       "      <td>...</td>\n",
       "      <td>0.0</td>\n",
       "      <td>0.0</td>\n",
       "      <td>0.0</td>\n",
       "      <td>1.0</td>\n",
       "      <td>1.0</td>\n",
       "      <td>0.0</td>\n",
       "      <td>0.0</td>\n",
       "      <td>0.0</td>\n",
       "      <td>0.0</td>\n",
       "      <td>0.0</td>\n",
       "    </tr>\n",
       "    <tr>\n",
       "      <th>5</th>\n",
       "      <td>0.073350</td>\n",
       "      <td>0.641752</td>\n",
       "      <td>0.375020</td>\n",
       "      <td>1.374324</td>\n",
       "      <td>-0.517023</td>\n",
       "      <td>0.951306</td>\n",
       "      <td>0.733056</td>\n",
       "      <td>1.366021</td>\n",
       "      <td>0.463410</td>\n",
       "      <td>-0.288554</td>\n",
       "      <td>...</td>\n",
       "      <td>0.0</td>\n",
       "      <td>0.0</td>\n",
       "      <td>0.0</td>\n",
       "      <td>1.0</td>\n",
       "      <td>0.0</td>\n",
       "      <td>0.0</td>\n",
       "      <td>0.0</td>\n",
       "      <td>0.0</td>\n",
       "      <td>1.0</td>\n",
       "      <td>0.0</td>\n",
       "    </tr>\n",
       "  </tbody>\n",
       "</table>\n",
       "<p>5 rows × 284 columns</p>\n",
       "</div>"
      ],
      "text/plain": [
       "    MSSubClass  LotFrontage   LotArea  OverallQual  OverallCond  YearBuilt  \\\n",
       "Id                                                                           \n",
       "1     0.073350    -0.220799 -0.207071     0.651256    -0.517023   1.050634   \n",
       "2    -0.872264     0.460162 -0.091855    -0.071812     2.178881   0.156680   \n",
       "3     0.073350    -0.084607  0.073455     0.651256    -0.517023   0.984415   \n",
       "4     0.309753    -0.447787 -0.096864     0.651256    -0.517023  -1.862993   \n",
       "5     0.073350     0.641752  0.375020     1.374324    -0.517023   0.951306   \n",
       "\n",
       "    YearRemodAdd  MasVnrArea  BsmtFinSF1  BsmtFinSF2          ...            \\\n",
       "Id                                                            ...             \n",
       "1       0.878367    0.513928    0.575228   -0.288554          ...             \n",
       "2      -0.429430   -0.570555    1.171591   -0.288554          ...             \n",
       "3       0.829930    0.325803    0.092875   -0.288554          ...             \n",
       "4      -0.720051   -0.570555   -0.499103   -0.288554          ...             \n",
       "5       0.733056    1.366021    0.463410   -0.288554          ...             \n",
       "\n",
       "    SaleType_ConLw  SaleType_New  SaleType_Oth  SaleType_WD  \\\n",
       "Id                                                            \n",
       "1              0.0           0.0           0.0          1.0   \n",
       "2              0.0           0.0           0.0          1.0   \n",
       "3              0.0           0.0           0.0          1.0   \n",
       "4              0.0           0.0           0.0          1.0   \n",
       "5              0.0           0.0           0.0          1.0   \n",
       "\n",
       "    SaleCondition_Abnorml  SaleCondition_AdjLand  SaleCondition_Alloca  \\\n",
       "Id                                                                       \n",
       "1                     0.0                    0.0                   0.0   \n",
       "2                     0.0                    0.0                   0.0   \n",
       "3                     0.0                    0.0                   0.0   \n",
       "4                     1.0                    0.0                   0.0   \n",
       "5                     0.0                    0.0                   0.0   \n",
       "\n",
       "    SaleCondition_Family  SaleCondition_Normal  SaleCondition_Partial  \n",
       "Id                                                                     \n",
       "1                    0.0                   1.0                    0.0  \n",
       "2                    0.0                   1.0                    0.0  \n",
       "3                    0.0                   1.0                    0.0  \n",
       "4                    0.0                   0.0                    0.0  \n",
       "5                    0.0                   1.0                    0.0  \n",
       "\n",
       "[5 rows x 284 columns]"
      ]
     },
     "execution_count": 47,
     "metadata": {},
     "output_type": "execute_result"
    }
   ],
   "source": [
    "X.head()"
   ]
  },
  {
   "cell_type": "code",
   "execution_count": 48,
   "metadata": {},
   "outputs": [],
   "source": [
    "feature_names = X.columns                                       "
   ]
  },
  {
   "cell_type": "markdown",
   "metadata": {},
   "source": [
    "# Обучающая и тестовая выборки"
   ]
  },
  {
   "cell_type": "markdown",
   "metadata": {},
   "source": [
    "### Разобьём данные на обучающую/тестовую выборки в отношении\n",
    "#### $ (1 - $ SKLEARN_TEST_SPLIT_TEST_SIZE$)$  :  SKLEARN_TEST_SPLIT_TEST_SIZE (70% :  30%):"
   ]
  },
  {
   "cell_type": "code",
   "execution_count": 49,
   "metadata": {},
   "outputs": [],
   "source": [
    "X_train, X_test, y_train, y_test = train_test_split(X, y, test_size = SKLEARN_TEST_SPLIT_TEST_SIZE,\n",
    "                                                    random_state = SKLEARN_TEST_SPLIT_RANDOM_STATE)"
   ]
  },
  {
   "cell_type": "code",
   "execution_count": 50,
   "metadata": {},
   "outputs": [
    {
     "name": "stdout",
     "output_type": "stream",
     "text": [
      "1022\n",
      "438\n"
     ]
    }
   ],
   "source": [
    "n_train, _ = X_train.shape \n",
    "n_test,  _ = X_test.shape \n",
    "print(n_train)\n",
    "print(n_test)"
   ]
  },
  {
   "cell_type": "code",
   "execution_count": 51,
   "metadata": {},
   "outputs": [
    {
     "name": "stdout",
     "output_type": "stream",
     "text": [
      "1022\n",
      "438\n"
     ]
    }
   ],
   "source": [
    "print(y_train.shape[0])\n",
    "print(y_test.shape[0])"
   ]
  },
  {
   "cell_type": "markdown",
   "metadata": {},
   "source": [
    "# Обучение модели из sklearn "
   ]
  },
  {
   "cell_type": "markdown",
   "metadata": {},
   "source": [
    "### Обучим модель линейной регрессии:"
   ]
  },
  {
   "cell_type": "code",
   "execution_count": 52,
   "metadata": {},
   "outputs": [
    {
     "data": {
      "text/plain": [
       "LinearRegression(copy_X=True, fit_intercept=True, n_jobs=-1, normalize=False)"
      ]
     },
     "execution_count": 52,
     "metadata": {},
     "output_type": "execute_result"
    }
   ],
   "source": [
    "model = LinearRegression(n_jobs=SKLEARN_USED_CPUS_COUNT)\n",
    "model.fit(X_train, y_train)"
   ]
  },
  {
   "cell_type": "markdown",
   "metadata": {},
   "source": [
    "### Предскажем значения целевого признака по входным признакам:"
   ]
  },
  {
   "cell_type": "code",
   "execution_count": 53,
   "metadata": {},
   "outputs": [],
   "source": [
    "predicted_y_train = model.predict(X_train)\n",
    "predicted_y_test = model.predict(X_test)"
   ]
  },
  {
   "cell_type": "markdown",
   "metadata": {},
   "source": [
    "###  Оценим результат по метрике Mean Absolute Error (MAE):"
   ]
  },
  {
   "cell_type": "code",
   "execution_count": 54,
   "metadata": {},
   "outputs": [],
   "source": [
    "mae_train = metrics.mean_absolute_error(y_train, predicted_y_train)"
   ]
  },
  {
   "cell_type": "code",
   "execution_count": 55,
   "metadata": {},
   "outputs": [
    {
     "data": {
      "text/plain": [
       "0.059191082849798078"
      ]
     },
     "execution_count": 55,
     "metadata": {},
     "output_type": "execute_result"
    }
   ],
   "source": [
    "mae_train"
   ]
  },
  {
   "cell_type": "code",
   "execution_count": 56,
   "metadata": {},
   "outputs": [],
   "source": [
    "mae_test = metrics.mean_absolute_error(y_test , predicted_y_test)"
   ]
  },
  {
   "cell_type": "code",
   "execution_count": 57,
   "metadata": {},
   "outputs": [
    {
     "data": {
      "text/plain": [
       "array([[<matplotlib.axes._subplots.AxesSubplot object at 0x7fd21984c1d0>]], dtype=object)"
      ]
     },
     "execution_count": 57,
     "metadata": {},
     "output_type": "execute_result"
    },
    {
     "data": {
      "image/png": "[encoded data removed]",
      "text/plain": [
       "<matplotlib.figure.Figure at 0x7fd21987bb70>"
      ]
     },
     "metadata": {},
     "output_type": "display_data"
    }
   ],
   "source": [
    "pd.DataFrame(predicted_y_test).hist()"
   ]
  },
  {
   "cell_type": "code",
   "execution_count": 58,
   "metadata": {},
   "outputs": [
    {
     "data": {
      "text/plain": [
       "17396492.682587452"
      ]
     },
     "execution_count": 58,
     "metadata": {},
     "output_type": "execute_result"
    }
   ],
   "source": [
    "mae_test"
   ]
  },
  {
   "cell_type": "markdown",
   "metadata": {},
   "source": [
    "###  Оценим результат по метрике Root Mean Squared Logarithmic Error (RMSLE)"
   ]
  },
  {
   "cell_type": "code",
   "execution_count": 59,
   "metadata": {},
   "outputs": [
    {
     "data": {
      "text/plain": [
       "10.460242108190519"
      ]
     },
     "execution_count": 59,
     "metadata": {},
     "output_type": "execute_result"
    }
   ],
   "source": [
    "min(y_train)"
   ]
  },
  {
   "cell_type": "code",
   "execution_count": 60,
   "metadata": {},
   "outputs": [
    {
     "data": {
      "text/plain": [
       "10.809056282043457"
      ]
     },
     "execution_count": 60,
     "metadata": {},
     "output_type": "execute_result"
    }
   ],
   "source": [
    "min(predicted_y_train)"
   ]
  },
  {
   "cell_type": "code",
   "execution_count": 61,
   "metadata": {},
   "outputs": [
    {
     "data": {
      "text/plain": [
       "10.47194980911048"
      ]
     },
     "execution_count": 61,
     "metadata": {},
     "output_type": "execute_result"
    }
   ],
   "source": [
    "min(y_test)"
   ]
  },
  {
   "cell_type": "code",
   "execution_count": 62,
   "metadata": {},
   "outputs": [
    {
     "data": {
      "text/plain": [
       "-1796083644.1515522"
      ]
     },
     "execution_count": 62,
     "metadata": {},
     "output_type": "execute_result"
    }
   ],
   "source": [
    "min(predicted_y_test)"
   ]
  },
  {
   "cell_type": "markdown",
   "metadata": {},
   "source": [
    "#### Избавимся от отрицательных значений выделенного признака:"
   ]
  },
  {
   "cell_type": "code",
   "execution_count": 63,
   "metadata": {},
   "outputs": [],
   "source": [
    "CONST_VALUE_TRAIN = -min(np.append(y_train.values, predicted_y_train))\n",
    "\n",
    "y_train_modefied = y_train.apply(lambda x : x + CONST_VALUE_TRAIN)\n",
    "predicted_y_train_modefied = np.apply_along_axis(func1d=lambda x : x + CONST_VALUE_TRAIN, axis=0, arr=predicted_y_train)\n",
    "\n",
    "CONST_VALUE_TEST = -min(np.append(y_test.values, predicted_y_test))\n",
    "\n",
    "y_test_modefied = y_test.apply(lambda x : x + CONST_VALUE_TEST)\n",
    "predicted_y_test_modefied = np.apply_along_axis(func1d=lambda x : x + CONST_VALUE_TEST, axis=0, arr=predicted_y_test)"
   ]
  },
  {
   "cell_type": "code",
   "execution_count": 64,
   "metadata": {},
   "outputs": [],
   "source": [
    "rmsle_train = np.sqrt(metrics.mean_squared_log_error(y_train_modefied, predicted_y_train_modefied))\n",
    "# rmsle_train = metrics.mean_squared_log_error(y_train, predicted_y_train)"
   ]
  },
  {
   "cell_type": "code",
   "execution_count": 65,
   "metadata": {},
   "outputs": [
    {
     "data": {
      "text/plain": [
       "0.036897522979534851"
      ]
     },
     "execution_count": 65,
     "metadata": {},
     "output_type": "execute_result"
    }
   ],
   "source": [
    "rmsle_train"
   ]
  },
  {
   "cell_type": "code",
   "execution_count": 66,
   "metadata": {},
   "outputs": [],
   "source": [
    "rmsle_test = np.sqrt(metrics.mean_squared_log_error(y_test_modefied, predicted_y_test_modefied))\n",
    "# rmsle_test = metrics.mean_squared_log_error(y_test, predicted_y_test)"
   ]
  },
  {
   "cell_type": "code",
   "execution_count": 67,
   "metadata": {},
   "outputs": [
    {
     "data": {
      "text/plain": [
       "1.019227854554033"
      ]
     },
     "execution_count": 67,
     "metadata": {},
     "output_type": "execute_result"
    }
   ],
   "source": [
    "rmsle_test"
   ]
  },
  {
   "cell_type": "markdown",
   "metadata": {},
   "source": [
    "### Отберём признаки (Feature Selection) с помощью алгоритма случайного леса:"
   ]
  },
  {
   "cell_type": "code",
   "execution_count": 68,
   "metadata": {},
   "outputs": [
    {
     "data": {
      "text/plain": [
       "RandomForestRegressor(bootstrap=True, criterion='mse', max_depth=None,\n",
       "           max_features='auto', max_leaf_nodes=None,\n",
       "           min_impurity_decrease=0.0, min_impurity_split=None,\n",
       "           min_samples_leaf=1, min_samples_split=2,\n",
       "           min_weight_fraction_leaf=0.0, n_estimators=100, n_jobs=1,\n",
       "           oob_score=False, random_state=13, verbose=0, warm_start=False)"
      ]
     },
     "execution_count": 68,
     "metadata": {},
     "output_type": "execute_result"
    }
   ],
   "source": [
    "rf = ensemble.RandomForestRegressor(n_estimators=SKLEARN_RANDOM_FOREST_CLASSIFIER_N_ESTIMATORS, \n",
    "                                     random_state=SKLEARN_RANDOM_FOREST_CLASSIFIER_RANDOM_STATE)\n",
    "rf.fit(X_train, y_train)"
   ]
  },
  {
   "cell_type": "code",
   "execution_count": 69,
   "metadata": {},
   "outputs": [],
   "source": [
    "importances = rf.feature_importances_\n",
    "indices = np.argsort(importances)[::-1]"
   ]
  },
  {
   "cell_type": "code",
   "execution_count": 70,
   "metadata": {},
   "outputs": [
    {
     "name": "stdout",
     "output_type": "stream",
     "text": [
      "Feature importances:\n",
      " 1. feature 'OverallQual' (0.4724)\n",
      " 2. feature 'GrLivArea' (0.1713)\n",
      " 3. feature 'TotalBsmtSF' (0.0555)\n",
      " 4. feature 'GarageArea' (0.0545)\n",
      " 5. feature 'BsmtFinSF1' (0.0227)\n",
      " 6. feature '1stFlrSF' (0.0212)\n",
      " 7. feature 'OverallCond' (0.0157)\n",
      " 8. feature 'YearBuilt' (0.0146)\n",
      " 9. feature 'CentralAir' (0.0143)\n",
      "10. feature 'GarageCars' (0.0140)\n",
      "11. feature 'LotArea' (0.0109)\n",
      "12. feature 'GarageFinish_Unf' (0.0088)\n",
      "13. feature 'YearRemodAdd' (0.0082)\n",
      "14. feature 'MSZoning_RM' (0.0075)\n",
      "15. feature 'LotFrontage' (0.0065)\n",
      "16. feature 'BsmtUnfSF' (0.0050)\n",
      "17. feature 'OpenPorchSF' (0.0047)\n",
      "18. feature 'Fireplaces' (0.0040)\n",
      "19. feature 'GarageYrBlt' (0.0037)\n",
      "20. feature 'MoSold' (0.0035)\n",
      "21. feature '2ndFlrSF' (0.0034)\n",
      "22. feature 'MasVnrArea' (0.0030)\n",
      "23. feature 'WoodDeckSF' (0.0028)\n",
      "24. feature 'BsmtQual_Ex' (0.0024)\n",
      "25. feature 'SaleCondition_Family' (0.0019)\n",
      "26. feature 'PavedDrive_N' (0.0018)\n",
      "27. feature 'TotRmsAbvGrd' (0.0018)\n",
      "28. feature 'ExterQual_TA' (0.0017)\n",
      "29. feature 'FullBath' (0.0017)\n",
      "30. feature 'EnclosedPorch' (0.0016)\n",
      "31. feature 'YrSold' (0.0016)\n",
      "32. feature 'MSSubClass' (0.0015)\n",
      "33. feature 'KitchenQual_TA' (0.0015)\n",
      "34. feature 'BsmtQual_Gd' (0.0015)\n",
      "35. feature 'KitchenQual_Gd' (0.0014)\n",
      "36. feature 'MSZoning_C (all)' (0.0014)\n",
      "37. feature 'GarageType_Detchd' (0.0014)\n",
      "38. feature 'HouseStyle_2Story' (0.0011)\n",
      "39. feature 'GarageType_Attchd' (0.0011)\n",
      "40. feature 'MSZoning_RL' (0.0011)\n",
      "41. feature 'BedroomAbvGr' (0.0010)\n",
      "42. feature 'BsmtFullBath' (0.0009)\n",
      "43. feature 'HeatingQC_Fa' (0.0009)\n",
      "44. feature 'BsmtExposure_No' (0.0008)\n",
      "45. feature 'LotShape_Reg' (0.0008)\n",
      "46. feature 'BsmtExposure_Gd' (0.0008)\n",
      "47. feature 'BsmtFinType1_GLQ' (0.0008)\n",
      "48. feature 'LandSlope_Gtl' (0.0008)\n",
      "49. feature 'HalfBath' (0.0008)\n",
      "50. feature 'ExterCond_Fa' (0.0008)\n",
      "51. feature 'Exterior2nd_VinylSd' (0.0008)\n",
      "52. feature 'KitchenAbvGr' (0.0007)\n",
      "53. feature 'Exterior1st_VinylSd' (0.0007)\n",
      "54. feature 'Neighborhood_NAmes' (0.0007)\n",
      "55. feature 'SaleCondition_Abnorml' (0.0007)\n",
      "56. feature 'Neighborhood_Edwards' (0.0007)\n",
      "57. feature 'Functional_Typ' (0.0007)\n",
      "58. feature 'KitchenQual_Fa' (0.0006)\n",
      "59. feature 'BsmtQual_TA' (0.0006)\n",
      "60. feature 'BsmtFinType1_Unf' (0.0006)\n",
      "61. feature 'HeatingQC_TA' (0.0006)\n",
      "62. feature 'RoofStyle_Hip' (0.0006)\n",
      "63. feature 'HeatingQC_Ex' (0.0006)\n",
      "64. feature 'HouseStyle_SLvl' (0.0006)\n",
      "65. feature 'ScreenPorch' (0.0006)\n",
      "66. feature 'SaleCondition_Normal' (0.0005)\n",
      "67. feature 'ExterQual_Fa' (0.0005)\n",
      "68. feature 'PavedDrive_Y' (0.0005)\n",
      "69. feature 'Neighborhood_OldTown' (0.0005)\n",
      "70. feature 'LotConfig_Inside' (0.0005)\n",
      "71. feature 'LandContour_Lvl' (0.0005)\n",
      "72. feature 'Neighborhood_IDOTRR' (0.0005)\n",
      "73. feature 'ExterQual_Gd' (0.0005)\n",
      "74. feature 'LotShape_IR1' (0.0005)\n",
      "75. feature 'FireplaceQu_Gd' (0.0004)\n",
      "76. feature 'BsmtFinType1_Rec' (0.0004)\n",
      "77. feature 'GarageFinish_Fin' (0.0004)\n",
      "78. feature 'Condition1_Norm' (0.0004)\n",
      "79. feature 'Neighborhood_Crawfor' (0.0004)\n",
      "80. feature 'Foundation_CBlock' (0.0004)\n",
      "81. feature 'BsmtFinSF2' (0.0004)\n",
      "82. feature 'Exterior2nd_Plywood' (0.0004)\n",
      "83. feature 'GarageFinish_RFn' (0.0004)\n",
      "84. feature 'Electrical_SBrkr' (0.0004)\n",
      "85. feature 'BsmtCond_TA' (0.0004)\n",
      "86. feature 'Neighborhood_CollgCr' (0.0004)\n",
      "87. feature 'Neighborhood_Sawyer' (0.0004)\n",
      "88. feature 'BldgType_1Fam' (0.0003)\n",
      "89. feature 'Functional_Maj2' (0.0003)\n",
      "90. feature 'LowQualFinSF' (0.0003)\n",
      "91. feature 'FireplaceQu_TA' (0.0003)\n",
      "92. feature 'HouseStyle_1.5Fin' (0.0003)\n",
      "93. feature 'Exterior2nd_HdBoard' (0.0003)\n",
      "94. feature 'Exterior1st_MetalSd' (0.0003)\n",
      "95. feature 'HeatingQC_Gd' (0.0003)\n",
      "96. feature 'Exterior2nd_MetalSd' (0.0003)\n",
      "97. feature 'ExterQual_Ex' (0.0003)\n",
      "98. feature 'Condition1_Feedr' (0.0003)\n",
      "99. feature 'BsmtFinType1_ALQ' (0.0003)\n",
      "100. feature 'MasVnrType_None' (0.0003)\n",
      "101. feature 'SaleType_WD' (0.0003)\n",
      "102. feature 'Foundation_PConc' (0.0003)\n",
      "103. feature 'MasVnrType_BrkFace' (0.0003)\n",
      "104. feature 'ExterCond_Gd' (0.0003)\n",
      "105. feature 'ExterCond_TA' (0.0003)\n",
      "106. feature 'HouseStyle_1Story' (0.0003)\n",
      "107. feature 'RoofStyle_Gable' (0.0003)\n",
      "108. feature 'BsmtCond_Fa' (0.0003)\n",
      "109. feature 'BsmtExposure_Av' (0.0003)\n",
      "110. feature 'FireplaceQu_Po' (0.0002)\n",
      "111. feature 'Fence_MnPrv' (0.0002)\n",
      "112. feature 'LotConfig_Corner' (0.0002)\n",
      "113. feature 'Exterior1st_Wd Sdng' (0.0002)\n",
      "114. feature 'KitchenQual_Ex' (0.0002)\n",
      "115. feature 'LandSlope_Mod' (0.0002)\n",
      "116. feature 'FireplaceQu_Ex' (0.0002)\n",
      "117. feature 'BsmtHalfBath' (0.0002)\n",
      "118. feature 'LandContour_HLS' (0.0002)\n",
      "119. feature 'Heating_OthW' (0.0002)\n",
      "120. feature 'BsmtFinType2_BLQ' (0.0002)\n",
      "121. feature 'BsmtQual_Fa' (0.0002)\n",
      "122. feature 'Exterior2nd_Wd Sdng' (0.0002)\n",
      "123. feature 'BsmtCond_Gd' (0.0002)\n",
      "124. feature 'BldgType_Duplex' (0.0002)\n",
      "125. feature 'SaleCondition_Partial' (0.0002)\n",
      "126. feature 'MasVnrType_Stone' (0.0002)\n",
      "127. feature 'Neighborhood_Somerst' (0.0002)\n",
      "128. feature 'Foundation_BrkTil' (0.0002)\n",
      "129. feature 'Exterior1st_HdBoard' (0.0002)\n",
      "130. feature 'Neighborhood_BrkSide' (0.0002)\n",
      "131. feature 'Alley' (0.0002)\n",
      "132. feature 'BsmtFinType1_LwQ' (0.0002)\n",
      "133. feature 'SaleType_New' (0.0002)\n",
      "134. feature 'Neighborhood_NoRidge' (0.0001)\n",
      "135. feature 'BsmtExposure_Mn' (0.0001)\n",
      "136. feature 'LandContour_Bnk' (0.0001)\n",
      "137. feature 'LotConfig_FR2' (0.0001)\n",
      "138. feature 'Exterior1st_Plywood' (0.0001)\n",
      "139. feature 'Electrical_FuseA' (0.0001)\n",
      "140. feature 'Condition1_Artery' (0.0001)\n",
      "141. feature 'Neighborhood_ClearCr' (0.0001)\n",
      "142. feature 'GarageCond_Fa' (0.0001)\n",
      "143. feature 'GarageType_BuiltIn' (0.0001)\n",
      "144. feature 'Neighborhood_NWAmes' (0.0001)\n",
      "145. feature 'BsmtFinType1_BLQ' (0.0001)\n",
      "146. feature 'Fence_GdWo' (0.0001)\n",
      "147. feature 'BsmtFinType2_Unf' (0.0001)\n",
      "148. feature 'LotConfig_CulDSac' (0.0001)\n",
      "149. feature 'Functional_Mod' (0.0001)\n",
      "150. feature 'Condition1_RRAe' (0.0001)\n",
      "151. feature 'LandContour_Low' (0.0001)\n",
      "152. feature 'Exterior2nd_Brk Cmn' (0.0001)\n",
      "153. feature 'Fence_GdPrv' (0.0001)\n",
      "154. feature 'Exterior2nd_CmentBd' (0.0001)\n",
      "155. feature 'Neighborhood_StoneBr' (0.0001)\n",
      "156. feature 'Exterior1st_BrkComm' (0.0001)\n",
      "157. feature 'GarageQual_Fa' (0.0001)\n",
      "158. feature 'Functional_Min2' (0.0001)\n",
      "159. feature '3SsnPorch' (0.0001)\n",
      "160. feature 'PoolArea' (0.0001)\n",
      "161. feature 'GarageQual_TA' (0.0001)\n",
      "162. feature 'GarageCond_TA' (0.0001)\n",
      "163. feature 'GarageType_Basment' (0.0001)\n",
      "164. feature 'Exterior2nd_BrkFace' (0.0001)\n",
      "165. feature 'Foundation_Slab' (0.0001)\n",
      "166. feature 'Neighborhood_Gilbert' (0.0001)\n",
      "167. feature 'Exterior1st_BrkFace' (0.0001)\n",
      "168. feature 'Neighborhood_SawyerW' (0.0001)\n",
      "169. feature 'SaleType_Oth' (0.0001)\n",
      "170. feature 'Heating_GasA' (0.0001)\n",
      "171. feature 'RoofStyle_Flat' (0.0001)\n",
      "172. feature 'MasVnrType_BrkCmn' (0.0001)\n",
      "173. feature 'Exterior2nd_Wd Shng' (0.0001)\n",
      "174. feature 'Neighborhood_NridgHt' (0.0001)\n",
      "175. feature 'MiscVal' (0.0001)\n",
      "176. feature 'PoolQC_Gd' (0.0001)\n",
      "177. feature 'Exterior1st_CemntBd' (0.0001)\n",
      "178. feature 'Exterior2nd_Stucco' (0.0001)\n",
      "179. feature 'Condition1_PosN' (0.0001)\n",
      "180. feature 'SaleType_ConLD' (0.0001)\n",
      "181. feature 'FireplaceQu_Fa' (0.0001)\n",
      "182. feature 'PavedDrive_P' (0.0001)\n",
      "183. feature 'Exterior1st_Stucco' (0.0001)\n",
      "184. feature 'RoofStyle_Gambrel' (0.0000)\n",
      "185. feature 'SaleCondition_Alloca' (0.0000)\n",
      "186. feature 'Heating_Grav' (0.0000)\n",
      "187. feature 'Neighborhood_Mitchel' (0.0000)\n",
      "188. feature 'SaleType_COD' (0.0000)\n",
      "189. feature 'Functional_Maj1' (0.0000)\n",
      "190. feature 'GarageQual_Po' (0.0000)\n",
      "191. feature 'Street' (0.0000)\n",
      "192. feature 'BldgType_Twnhs' (0.0000)\n",
      "193. feature 'BsmtFinType2_Rec' (0.0000)\n",
      "194. feature 'GarageType_CarPort' (0.0000)\n",
      "195. feature 'Exterior1st_AsbShng' (0.0000)\n",
      "196. feature 'LandSlope_Sev' (0.0000)\n",
      "197. feature 'MSZoning_FV' (0.0000)\n",
      "198. feature 'BldgType_TwnhsE' (0.0000)\n",
      "199. feature 'BsmtFinType2_ALQ' (0.0000)\n",
      "200. feature 'RoofMatl_CompShg' (0.0000)\n",
      "201. feature 'Neighborhood_Timber' (0.0000)\n",
      "202. feature 'Neighborhood_Veenker' (0.0000)\n",
      "203. feature 'Neighborhood_MeadowV' (0.0000)\n",
      "204. feature 'Electrical_FuseF' (0.0000)\n",
      "205. feature 'GarageType_2Types' (0.0000)\n",
      "206. feature 'BldgType_2fmCon' (0.0000)\n",
      "207. feature 'SaleCondition_AdjLand' (0.0000)\n",
      "208. feature 'BsmtFinType2_LwQ' (0.0000)\n",
      "209. feature 'HouseStyle_SFoyer' (0.0000)\n",
      "210. feature 'HouseStyle_2.5Unf' (0.0000)\n",
      "211. feature 'HouseStyle_1.5Unf' (0.0000)\n",
      "212. feature 'LotConfig_FR3' (0.0000)\n",
      "213. feature 'Electrical_Mix' (0.0000)\n",
      "214. feature 'BsmtFinType2_GLQ' (0.0000)\n",
      "215. feature 'RoofStyle_Mansard' (0.0000)\n",
      "216. feature 'Condition1_RRAn' (0.0000)\n",
      "217. feature 'Condition2_Norm' (0.0000)\n",
      "218. feature 'Exterior2nd_ImStucc' (0.0000)\n",
      "219. feature 'LotShape_IR2' (0.0000)\n",
      "220. feature 'Exterior2nd_AsbShng' (0.0000)\n",
      "221. feature 'GarageCond_Po' (0.0000)\n",
      "222. feature 'PoolQC_Ex' (0.0000)\n",
      "223. feature 'RoofMatl_Tar&Grv' (0.0000)\n",
      "224. feature 'GarageQual_Gd' (0.0000)\n",
      "225. feature 'MSZoning_RH' (0.0000)\n",
      "226. feature 'Neighborhood_Blueste' (0.0000)\n",
      "227. feature 'Neighborhood_SWISU' (0.0000)\n",
      "228. feature 'Neighborhood_Blmngtn' (0.0000)\n",
      "229. feature 'BsmtCond_Po' (0.0000)\n",
      "230. feature 'Exterior2nd_Stone' (0.0000)\n",
      "231. feature 'Functional_Min1' (0.0000)\n",
      "232. feature 'SaleType_ConLw' (0.0000)\n",
      "233. feature 'RoofMatl_Roll' (0.0000)\n",
      "234. feature 'GarageCond_Gd' (0.0000)\n",
      "235. feature 'Condition2_RRNn' (0.0000)\n",
      "236. feature 'RoofMatl_Metal' (0.0000)\n",
      "237. feature 'HouseStyle_2.5Fin' (0.0000)\n",
      "238. feature 'Heating_Floor' (0.0000)\n",
      "239. feature 'LotShape_IR3' (0.0000)\n",
      "240. feature 'Condition2_Feedr' (0.0000)\n",
      "241. feature 'SaleType_ConLI' (0.0000)\n",
      "242. feature 'Exterior2nd_Other' (0.0000)\n",
      "243. feature 'Condition1_RRNn' (0.0000)\n",
      "244. feature 'Neighborhood_NPkVill' (0.0000)\n",
      "245. feature 'Exterior1st_WdShing' (0.0000)\n",
      "246. feature 'Exterior2nd_AsphShn' (0.0000)\n",
      "247. feature 'Fence_MnWw' (0.0000)\n",
      "248. feature 'MiscFeature_Shed' (0.0000)\n",
      "249. feature 'RoofStyle_Shed' (0.0000)\n",
      "250. feature 'Heating_GasW' (0.0000)\n",
      "251. feature 'SaleType_CWD' (0.0000)\n",
      "252. feature 'Neighborhood_BrDale' (0.0000)\n",
      "253. feature 'Foundation_Stone' (0.0000)\n",
      "254. feature 'RoofMatl_WdShake' (0.0000)\n",
      "255. feature 'Electrical_FuseP' (0.0000)\n",
      "256. feature 'Exterior1st_Stone' (0.0000)\n",
      "257. feature 'RoofMatl_WdShngl' (0.0000)\n",
      "258. feature 'Heating_Wall' (0.0000)\n",
      "259. feature 'Condition1_PosA' (0.0000)\n",
      "260. feature 'HeatingQC_Po' (0.0000)\n",
      "261. feature 'ExterCond_Ex' (0.0000)\n",
      "262. feature 'MiscFeature_Othr' (0.0000)\n",
      "263. feature 'Condition1_RRNe' (0.0000)\n",
      "264. feature 'PoolQC_Fa' (0.0000)\n",
      "265. feature 'Condition2_RRAn' (0.0000)\n",
      "266. feature 'MiscFeature_TenC' (0.0000)\n",
      "267. feature 'SaleType_Con' (0.0000)\n",
      "268. feature 'MiscFeature_Gar2' (0.0000)\n",
      "269. feature 'Condition2_RRAe' (0.0000)\n",
      "270. feature 'Exterior2nd_CBlock' (0.0000)\n",
      "271. feature 'ExterCond_Po' (0.0000)\n",
      "272. feature 'GarageCond_Ex' (0.0000)\n",
      "273. feature 'Exterior1st_ImStucc' (0.0000)\n",
      "274. feature 'Exterior1st_CBlock' (0.0000)\n",
      "275. feature 'Exterior1st_AsphShn' (0.0000)\n",
      "276. feature 'GarageQual_Ex' (0.0000)\n",
      "277. feature 'Utilities' (0.0000)\n",
      "278. feature 'Functional_Sev' (0.0000)\n",
      "279. feature 'Condition2_PosN' (0.0000)\n",
      "280. feature 'RoofMatl_ClyTile' (0.0000)\n",
      "281. feature 'Foundation_Wood' (0.0000)\n",
      "282. feature 'Condition2_Artery' (0.0000)\n",
      "283. feature 'Condition2_PosA' (0.0000)\n",
      "284. feature 'RoofMatl_Membran' (0.0000)\n"
     ]
    }
   ],
   "source": [
    "print(\"Feature importances:\")\n",
    "for f, idx in enumerate(indices):\n",
    "    print(\"{:2d}. feature '{:5s}' ({:.4f})\".format(f + 1, feature_names[idx], importances[idx]))"
   ]
  },
  {
   "cell_type": "code",
   "execution_count": 71,
   "metadata": {},
   "outputs": [
    {
     "data": {
      "image/png": "[encoded data removed]",
      "text/plain": [
       "<matplotlib.figure.Figure at 0x7fd2198ccba8>"
      ]
     },
     "metadata": {},
     "output_type": "display_data"
    }
   ],
   "source": [
    "d_first = 20\n",
    "plt.figure(figsize=(8, 8))\n",
    "plt.title(\"Feature importances\")\n",
    "plt.bar(range(d_first), importances[indices[:d_first]], align='center', color='red')\n",
    "plt.xticks(range(d_first), np.array(feature_names)[indices[:d_first]], rotation=90)\n",
    "plt.xlim([-1, d_first]);"
   ]
  },
  {
   "cell_type": "code",
   "execution_count": 72,
   "metadata": {},
   "outputs": [],
   "source": [
    "analyze_x = []\n",
    "analyze_y = []\n",
    "for f in np.arange(1, 200, 1):\n",
    "    best_features = np.array(feature_names)[indices[:f]]\n",
    "    best_X = X[best_features]\n",
    "    best_X_train, best_X_test, best_y_train, best_y_test = train_test_split(best_X, y,\n",
    "                                                                            test_size = SKLEARN_TEST_SPLIT_TEST_SIZE,\n",
    "                                                                            random_state = SKLEARN_TEST_SPLIT_RANDOM_STATE)\n",
    "    clf = LinearRegression(n_jobs=SKLEARN_USED_CPUS_COUNT)\n",
    "    clf.fit(best_X_train, best_y_train)\n",
    "    predicted_best_y_test = clf.predict(best_X_test)\n",
    "    \n",
    "    analyze_x.append(f)\n",
    "    analyze_y.append(metrics.mean_absolute_error(best_y_test, predicted_best_y_test))"
   ]
  },
  {
   "cell_type": "code",
   "execution_count": 73,
   "metadata": {},
   "outputs": [
    {
     "data": {
      "image/png": "[encoded data removed]",
      "text/plain": [
       "<matplotlib.figure.Figure at 0x7fd2196fdc50>"
      ]
     },
     "metadata": {},
     "output_type": "display_data"
    }
   ],
   "source": [
    "plt.plot(analyze_x, analyze_y, color='red')\n",
    "plt.show()"
   ]
  },
  {
   "cell_type": "code",
   "execution_count": 74,
   "metadata": {},
   "outputs": [],
   "source": [
    "min_mae, idx = min((val, idx) for (idx, val) in enumerate(analyze_y))"
   ]
  },
  {
   "cell_type": "code",
   "execution_count": 75,
   "metadata": {},
   "outputs": [
    {
     "data": {
      "text/plain": [
       "0.096257725201738198"
      ]
     },
     "execution_count": 75,
     "metadata": {},
     "output_type": "execute_result"
    }
   ],
   "source": [
    "min_mae"
   ]
  },
  {
   "cell_type": "code",
   "execution_count": 76,
   "metadata": {},
   "outputs": [
    {
     "data": {
      "image/png": "[encoded data removed]",
      "text/plain": [
       "<matplotlib.figure.Figure at 0x7fd219b37748>"
      ]
     },
     "metadata": {},
     "output_type": "display_data"
    }
   ],
   "source": [
    "plt.plot(analyze_x[idx-16:idx+16], analyze_y[idx-16:idx+16], color='red')\n",
    "plt.show()"
   ]
  },
  {
   "cell_type": "code",
   "execution_count": 77,
   "metadata": {},
   "outputs": [],
   "source": [
    "best_X = X[best_features[0:idx+1]]\n",
    "best_X_train, best_X_test, best_y_train, best_y_test = train_test_split(best_X, y,\n",
    "                                                                            test_size = SKLEARN_TEST_SPLIT_TEST_SIZE,\n",
    "                                                                            random_state = SKLEARN_TEST_SPLIT_RANDOM_STATE)\n",
    "model = LinearRegression(n_jobs=SKLEARN_USED_CPUS_COUNT)\n",
    "model.fit(best_X_train, best_y_train)\n",
    "predicted_best_y_test = model.predict(best_X_test)"
   ]
  },
  {
   "cell_type": "code",
   "execution_count": 78,
   "metadata": {},
   "outputs": [],
   "source": [
    "mae = metrics.mean_absolute_error(best_y_test, predicted_best_y_test)"
   ]
  },
  {
   "cell_type": "code",
   "execution_count": 79,
   "metadata": {},
   "outputs": [
    {
     "data": {
      "text/plain": [
       "0.096257725201738198"
      ]
     },
     "execution_count": 79,
     "metadata": {},
     "output_type": "execute_result"
    }
   ],
   "source": [
    "mae"
   ]
  },
  {
   "cell_type": "code",
   "execution_count": 80,
   "metadata": {},
   "outputs": [],
   "source": [
    "CONST_VALUE_BEST_TEST = -min(np.append(best_y_test.values, predicted_best_y_test))\n",
    "\n",
    "best_y_test_modefied = best_y_test.apply(lambda x : x + CONST_VALUE_BEST_TEST)\n",
    "predicted_best_y_test_modefied = np.apply_along_axis(func1d=lambda x : x + CONST_VALUE_TEST,\n",
    "                                                     axis=0,\n",
    "                                                     arr=predicted_best_y_test)"
   ]
  },
  {
   "cell_type": "code",
   "execution_count": 81,
   "metadata": {},
   "outputs": [],
   "source": [
    "rmsle_best_test = np.sqrt(metrics.mean_squared_log_error(best_y_test_modefied, predicted_best_y_test_modefied))"
   ]
  },
  {
   "cell_type": "code",
   "execution_count": 82,
   "metadata": {},
   "outputs": [
    {
     "data": {
      "text/plain": [
       "20.377477793120821"
      ]
     },
     "execution_count": 82,
     "metadata": {},
     "output_type": "execute_result"
    }
   ],
   "source": [
    "rmsle_best_test"
   ]
  },
  {
   "cell_type": "markdown",
   "metadata": {},
   "source": [
    "## Реализация линейной регрессии"
   ]
  },
  {
   "cell_type": "code",
   "execution_count": 83,
   "metadata": {},
   "outputs": [],
   "source": [
    "class LinRegression:\n",
    "    \"\"\"Линейная регрессия.\"\"\"\n",
    "    def __init__(self):\n",
    "        self.w = []\n",
    "    \n",
    "    def computeCost(self, X, y):\n",
    "        tobesummed = np.power(((X @ self.w.T)-y),2)\n",
    "        return np.sum(tobesummed)/(2 * len(X))\n",
    "    \n",
    "    def fit(self, X, y, iters=3000, alpha=0.99):\n",
    "        \"(Градиентный спуск.)\"\n",
    "        ones = np.ones([X.shape[0],1])\n",
    "        X = np.hstack((ones,X))                          \n",
    "        y = y.values\n",
    "        self.w = np.array([-1.0] * X.shape[1])\n",
    "        \n",
    "        cost0 = self.computeCost(X, y)\n",
    "        \n",
    "        for i in range(iters):\n",
    "            w_tmp = self.w\n",
    "            self.w -= (alpha/X.shape[0]) * np.dot(X.T, (X @ self.w.T - y))\n",
    "            cost = self.computeCost(X, y)\n",
    "            \n",
    "            if (cost > cost0):\n",
    "                self.w = w_tmp\n",
    "                break\n",
    "    def fit2(self, X, y):\n",
    "        ones = np.ones([X.shape[0],1])\n",
    "        X = np.hstack((ones,X))                          \n",
    "        y = y.values\n",
    "        \n",
    "        self.w = np.dot(np.dot(np.linalg.inv(np.dot(X.T, X)), X.T), y)\n",
    "    \n",
    "    def fit3(self, X, y):\n",
    "        \"\"\"(QR разложение.)\"\"\"\n",
    "        ones = np.ones([X.shape[0],1])\n",
    "        X = np.hstack((ones,X))                          \n",
    "        y = y.values\n",
    "        \n",
    "        q, r = np.linalg.qr(X)\n",
    "        self.w = np.dot(np.dot(np.linalg.inv(r), q.T), y)\n",
    "        \n",
    "    def fit4(self, X, y, lmbd=0.1):\n",
    "        \"\"\"Ridge regression (гребневая регрессия).\"\"\"\n",
    "        ones = np.ones([X.shape[0],1])\n",
    "        X = np.hstack((ones,X))                          \n",
    "        y = y.values\n",
    "        \n",
    "        w = np.dot(np.dot(np.linalg.inv(np.dot(X.T, X) + lmbd * np.eye(X.shape[1])), X.T), y)\n",
    "        \n",
    "    def fit5(self, X, y, iters=3000, alpha=0.99, lmbd=0.1):\n",
    "        \"Lasso.\"\n",
    "        ones = np.ones([X.shape[0],1])\n",
    "        X = np.hstack((ones,X))                          \n",
    "        y = y.values\n",
    "        self.w = np.array([-1.0] * X.shape[1])\n",
    "        \n",
    "        cost0 = self.computeCost(X, y)\n",
    "        \n",
    "        for i in range(iters):\n",
    "            w_tmp = self.w\n",
    "            self.w -= (alpha/X.shape[0]) * np.dot(X.T, (X @ self.w.T - y)) + lmbd * np.sign(self.w)\n",
    "            cost = self.computeCost(X, y)\n",
    "            \n",
    "            if (cost > cost0):\n",
    "                self.w = w_tmp\n",
    "                break\n",
    "\n",
    "    def predict(self, X):\n",
    "        ones = np.ones([X.shape[0],1])\n",
    "        return np.dot(np.hstack((ones, X)), self.w)\n",
    "                                   "
   ]
  },
  {
   "cell_type": "code",
   "execution_count": 84,
   "metadata": {},
   "outputs": [],
   "source": [
    "def calc_mae(y_true, y_pred):\n",
    "    mae = metrics.mean_absolute_error(y_true, y_pred)\n",
    "    return mae"
   ]
  },
  {
   "cell_type": "code",
   "execution_count": 85,
   "metadata": {},
   "outputs": [],
   "source": [
    "my_model = LinRegression()\n",
    "my_model.fit(best_X_train, best_y_train, iters=24000, alpha=0.01)"
   ]
  },
  {
   "cell_type": "code",
   "execution_count": 86,
   "metadata": {},
   "outputs": [],
   "source": [
    "my_y_predicted = my_model.predict(best_X_test)"
   ]
  },
  {
   "cell_type": "code",
   "execution_count": 87,
   "metadata": {},
   "outputs": [
    {
     "data": {
      "text/plain": [
       "0.20966355190800953"
      ]
     },
     "execution_count": 87,
     "metadata": {},
     "output_type": "execute_result"
    }
   ],
   "source": [
    "calc_mae(best_y_test, my_y_predicted)"
   ]
  },
  {
   "cell_type": "code",
   "execution_count": 88,
   "metadata": {},
   "outputs": [],
   "source": [
    "my_model.fit2(best_X_train, best_y_train)\n",
    "my_y_predicted = my_model.predict(best_X_test)"
   ]
  },
  {
   "cell_type": "code",
   "execution_count": 89,
   "metadata": {},
   "outputs": [
    {
     "data": {
      "text/plain": [
       "36.932562033219249"
      ]
     },
     "execution_count": 89,
     "metadata": {},
     "output_type": "execute_result"
    }
   ],
   "source": [
    "calc_mae(best_y_test, my_y_predicted)"
   ]
  },
  {
   "cell_type": "code",
   "execution_count": 90,
   "metadata": {},
   "outputs": [],
   "source": [
    "my_model.fit3(best_X_train, best_y_train)\n",
    "my_y_predicted = my_model.predict(best_X_test)"
   ]
  },
  {
   "cell_type": "code",
   "execution_count": 91,
   "metadata": {},
   "outputs": [
    {
     "data": {
      "text/plain": [
       "0.50900328047013199"
      ]
     },
     "execution_count": 91,
     "metadata": {},
     "output_type": "execute_result"
    }
   ],
   "source": [
    "calc_mae(best_y_test, my_y_predicted)"
   ]
  },
  {
   "cell_type": "code",
   "execution_count": 92,
   "metadata": {},
   "outputs": [],
   "source": [
    "my_model.fit4(best_X_train, best_y_train)\n",
    "my_y_predicted = my_model.predict(best_X_test)"
   ]
  },
  {
   "cell_type": "code",
   "execution_count": 1,
   "metadata": {},
   "outputs": [
    {
     "ename": "NameError",
     "evalue": "name 'calc_mae' is not defined",
     "output_type": "error",
     "traceback": [
      "\u001b[0;31m---------------------------------------------------------------------------\u001b[0m",
      "\u001b[0;31mNameError\u001b[0m                                 Traceback (most recent call last)",
      "\u001b[0;32m<ipython-input-1-c5fece6babb2>\u001b[0m in \u001b[0;36m<module>\u001b[0;34m()\u001b[0m\n\u001b[0;32m----> 1\u001b[0;31m \u001b[0mcalc_mae\u001b[0m\u001b[0;34m(\u001b[0m\u001b[0mnp\u001b[0m\u001b[0;34m.\u001b[0m\u001b[0mexp\u001b[0m\u001b[0;34m(\u001b[0m\u001b[0mbest_y_test\u001b[0m\u001b[0;34m)\u001b[0m\u001b[0;34m,\u001b[0m \u001b[0mnp\u001b[0m\u001b[0;34m.\u001b[0m\u001b[0mexp\u001b[0m\u001b[0;34m(\u001b[0m\u001b[0mmy_y_predicted\u001b[0m\u001b[0;34m)\u001b[0m\u001b[0;34m)\u001b[0m\u001b[0;34m\u001b[0m\u001b[0m\n\u001b[0m",
      "\u001b[0;31mNameError\u001b[0m: name 'calc_mae' is not defined"
     ]
    }
   ],
   "source": [
    "calc_mae(best_y_test, my_y_predicted)"
   ]
  },
  {
   "cell_type": "code",
   "execution_count": 94,
   "metadata": {},
   "outputs": [],
   "source": [
    "my_model.fit5(best_X_train, best_y_train, iters=12000, alpha=0.1, lmbd=10)\n",
    "my_y_predicted = my_model.predict(best_X_test)"
   ]
  },
  {
   "cell_type": "code",
   "execution_count": 95,
   "metadata": {},
   "outputs": [
    {
     "data": {
      "text/plain": [
       "230.50409355481241"
      ]
     },
     "execution_count": 95,
     "metadata": {},
     "output_type": "execute_result"
    }
   ],
   "source": [
    "calc_mae(best_y_test, my_y_predicted)"
   ]
  },
  {
   "cell_type": "markdown",
   "metadata": {},
   "source": [
    "## Подготовка решения для отправки на kaggle:"
   ]
  },
  {
   "cell_type": "code",
   "execution_count": 96,
   "metadata": {},
   "outputs": [],
   "source": [
    "def process_data(X):\n",
    "    categorical_columns = [c for c in X.columns if X[c].dtype.name == 'object']\n",
    "    numerical_columns   = [c for c in X.columns if X[c].dtype.name != 'object']\n",
    "\n",
    "    # Заполняем пустые значения.\n",
    "    X = X.fillna(X.median(axis=0), axis=0)\n",
    "\n",
    "    data_describe = X.describe(include=[object])\n",
    "    for c in categorical_columns:\n",
    "        X[c] = X[c].fillna(data_describe[c]['top'])\n",
    "\n",
    "    # Выделяем бинарные и небинарные признаки.\n",
    "    binary_columns    = [c for c in categorical_columns if data_describe[c]['unique'] == 2]\n",
    "    nonbinary_columns = [c for c in categorical_columns if data_describe[c]['unique'] > 2]\n",
    "\n",
    "    for c in binary_columns:\n",
    "        top = data_describe[c]['top']\n",
    "        top_items = X[c] == top\n",
    "        X.loc[top_items, c] = 0\n",
    "        X.loc[np.logical_not(top_items), c] = 1\n",
    "\n",
    "    data_nonbinary = pd.get_dummies(X[nonbinary_columns])\n",
    "\n",
    "    # Стандартизируем количественные признаки.\n",
    "    data_numerical = X[numerical_columns]\n",
    "    data_numerical = (data_numerical - data_numerical.mean()) / data_numerical.std()\n",
    "\n",
    "    X = pd.concat((data_numerical, X[binary_columns], data_nonbinary), axis=1)\n",
    "    return pd.DataFrame(X, dtype=float)"
   ]
  },
  {
   "cell_type": "code",
   "execution_count": 97,
   "metadata": {},
   "outputs": [],
   "source": [
    "# Загружаем данные.\n",
    "file_to_open = data_folder / DATASET_TEST_FILE_NAME\n",
    "df_test = pd.read_csv(file_to_open, index_col=PD_READ_CSV_INDEX_COL)\n",
    "\n",
    "X_test = process_data(df_test)"
   ]
  },
  {
   "cell_type": "code",
   "execution_count": 98,
   "metadata": {},
   "outputs": [],
   "source": [
    "# Get missing columns in the training test\n",
    "missing_cols = set(X.columns) - set(X_test.columns)\n",
    "# Add a missing column in test set with default value equal to 0\n",
    "for c in missing_cols:\n",
    "    X_test[c] = 0\n",
    "# Ensure the order of column in the test set is in the same order than in train set\n",
    "X_test = X_test[X.columns]"
   ]
  },
  {
   "cell_type": "code",
   "execution_count": 99,
   "metadata": {},
   "outputs": [],
   "source": [
    "y_predicted = model.predict(X_test[best_features[0:idx+1]])"
   ]
  },
  {
   "cell_type": "code",
   "execution_count": 100,
   "metadata": {},
   "outputs": [],
   "source": [
    "df_test_result= pd.DataFrame(index=df_test.index, columns=[PD_TARGET_VARIABLE_COLUMN_NAME,], data = y_predicted)"
   ]
  },
  {
   "cell_type": "code",
   "execution_count": 101,
   "metadata": {},
   "outputs": [
    {
     "data": {
      "text/html": [
       "<div>\n",
       "<style>\n",
       "    .dataframe thead tr:only-child th {\n",
       "        text-align: right;\n",
       "    }\n",
       "\n",
       "    .dataframe thead th {\n",
       "        text-align: left;\n",
       "    }\n",
       "\n",
       "    .dataframe tbody tr th {\n",
       "        vertical-align: top;\n",
       "    }\n",
       "</style>\n",
       "<table border=\"1\" class=\"dataframe\">\n",
       "  <thead>\n",
       "    <tr style=\"text-align: right;\">\n",
       "      <th></th>\n",
       "      <th>SalePrice</th>\n",
       "    </tr>\n",
       "    <tr>\n",
       "      <th>Id</th>\n",
       "      <th></th>\n",
       "    </tr>\n",
       "  </thead>\n",
       "  <tbody>\n",
       "    <tr>\n",
       "      <th>1461</th>\n",
       "      <td>-1.261852e+09</td>\n",
       "    </tr>\n",
       "    <tr>\n",
       "      <th>1462</th>\n",
       "      <td>6.854661e+08</td>\n",
       "    </tr>\n",
       "    <tr>\n",
       "      <th>1463</th>\n",
       "      <td>-1.589215e+07</td>\n",
       "    </tr>\n",
       "    <tr>\n",
       "      <th>1464</th>\n",
       "      <td>1.481188e+08</td>\n",
       "    </tr>\n",
       "    <tr>\n",
       "      <th>1465</th>\n",
       "      <td>1.172415e+09</td>\n",
       "    </tr>\n",
       "  </tbody>\n",
       "</table>\n",
       "</div>"
      ],
      "text/plain": [
       "         SalePrice\n",
       "Id                \n",
       "1461 -1.261852e+09\n",
       "1462  6.854661e+08\n",
       "1463 -1.589215e+07\n",
       "1464  1.481188e+08\n",
       "1465  1.172415e+09"
      ]
     },
     "execution_count": 101,
     "metadata": {},
     "output_type": "execute_result"
    }
   ],
   "source": [
    "df_test_result.head()"
   ]
  },
  {
   "cell_type": "code",
   "execution_count": 102,
   "metadata": {},
   "outputs": [],
   "source": [
    " df_test_result.to_csv(SUBMISSION_FILE_NAME)"
   ]
  },
  {
   "cell_type": "code",
   "execution_count": null,
   "metadata": {},
   "outputs": [],
   "source": []
  }
 ],
 "metadata": {
  "kernelspec": {
   "display_name": "Python 3",
   "language": "python",
   "name": "python3"
  },
  "language_info": {
   "codemirror_mode": {
    "name": "ipython",
    "version": 3
   },
   "file_extension": ".py",
   "mimetype": "text/x-python",
   "name": "python",
   "nbconvert_exporter": "python",
   "pygments_lexer": "ipython3",
   "version": "3.6.5"
  }
 },
 "nbformat": 4,
 "nbformat_minor": 2
}
